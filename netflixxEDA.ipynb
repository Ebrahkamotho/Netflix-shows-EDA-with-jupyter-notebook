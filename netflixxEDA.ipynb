{
 "cells": [
  {
   "cell_type": "code",
   "execution_count": 1,
   "id": "8d4814d6",
   "metadata": {},
   "outputs": [],
   "source": [
    "import pandas as pd #for data manipulation and analysis\n",
    "import numpy as np  #for numerical operations and array manipulation\n",
    "import seaborn as sns #for advanced data visualization\n",
    "import matplotlib.pyplot as plt #for data visualization\n",
    "%matplotlib inline \n",
    "import os # provides a way to interact with the file system, directories, and other operating system\n",
    "import missingno as msno # missingno is a Python library for visualizing missing data in datasets.\n",
    "from wordcloud import WordCloud, ImageColorGenerator,STOPWORDS \n",
    "from PIL import Image \n",
    "import squarify\n",
    "import plotly.express as px"
   ]
  },
  {
   "cell_type": "code",
   "execution_count": 3,
   "id": "65771b73",
   "metadata": {},
   "outputs": [],
   "source": [
    "os.chdir(\"D:\\jupyter workbooks\\datasets\")"
   ]
  },
  {
   "cell_type": "code",
   "execution_count": 4,
   "id": "98775b6b",
   "metadata": {},
   "outputs": [
    {
     "data": {
      "text/html": [
       "<div>\n",
       "<style scoped>\n",
       "    .dataframe tbody tr th:only-of-type {\n",
       "        vertical-align: middle;\n",
       "    }\n",
       "\n",
       "    .dataframe tbody tr th {\n",
       "        vertical-align: top;\n",
       "    }\n",
       "\n",
       "    .dataframe thead th {\n",
       "        text-align: right;\n",
       "    }\n",
       "</style>\n",
       "<table border=\"1\" class=\"dataframe\">\n",
       "  <thead>\n",
       "    <tr style=\"text-align: right;\">\n",
       "      <th></th>\n",
       "      <th>show_id</th>\n",
       "      <th>type</th>\n",
       "      <th>title</th>\n",
       "      <th>director</th>\n",
       "      <th>cast</th>\n",
       "      <th>country</th>\n",
       "      <th>date_added</th>\n",
       "      <th>rating</th>\n",
       "      <th>duration</th>\n",
       "      <th>listed_in</th>\n",
       "      <th>description</th>\n",
       "    </tr>\n",
       "  </thead>\n",
       "  <tbody>\n",
       "    <tr>\n",
       "      <th>0</th>\n",
       "      <td>s1</td>\n",
       "      <td>Movie</td>\n",
       "      <td>Dick Johnson Is Dead</td>\n",
       "      <td>Kirsten Johnson</td>\n",
       "      <td>NaN</td>\n",
       "      <td>United States</td>\n",
       "      <td>25-Sep-21</td>\n",
       "      <td>PG-13</td>\n",
       "      <td>90 min</td>\n",
       "      <td>Documentaries</td>\n",
       "      <td>As her father nears the end of his life, filmm...</td>\n",
       "    </tr>\n",
       "    <tr>\n",
       "      <th>1</th>\n",
       "      <td>s2</td>\n",
       "      <td>TV Show</td>\n",
       "      <td>Blood &amp; Water</td>\n",
       "      <td>NaN</td>\n",
       "      <td>Ama Qamata, Khosi Ngema, Gail Mabalane, Thaban...</td>\n",
       "      <td>South Africa</td>\n",
       "      <td>24-Sep-21</td>\n",
       "      <td>TV-MA</td>\n",
       "      <td>2 Seasons</td>\n",
       "      <td>International TV Shows, TV Dramas, TV Mysteries</td>\n",
       "      <td>After crossing paths at a party, a Cape Town t...</td>\n",
       "    </tr>\n",
       "    <tr>\n",
       "      <th>2</th>\n",
       "      <td>s3</td>\n",
       "      <td>TV Show</td>\n",
       "      <td>Ganglands</td>\n",
       "      <td>Julien Leclercq</td>\n",
       "      <td>Sami Bouajila, Tracy Gotoas, Samuel Jouy, Nabi...</td>\n",
       "      <td>NaN</td>\n",
       "      <td>24-Sep-21</td>\n",
       "      <td>TV-MA</td>\n",
       "      <td>1 Season</td>\n",
       "      <td>Crime TV Shows, International TV Shows, TV Act...</td>\n",
       "      <td>To protect his family from a powerful drug lor...</td>\n",
       "    </tr>\n",
       "    <tr>\n",
       "      <th>3</th>\n",
       "      <td>s4</td>\n",
       "      <td>TV Show</td>\n",
       "      <td>Jailbirds New Orleans</td>\n",
       "      <td>NaN</td>\n",
       "      <td>NaN</td>\n",
       "      <td>NaN</td>\n",
       "      <td>24-Sep-21</td>\n",
       "      <td>TV-MA</td>\n",
       "      <td>1 Season</td>\n",
       "      <td>Docuseries, Reality TV</td>\n",
       "      <td>Feuds, flirtations and toilet talk go down amo...</td>\n",
       "    </tr>\n",
       "    <tr>\n",
       "      <th>4</th>\n",
       "      <td>s5</td>\n",
       "      <td>TV Show</td>\n",
       "      <td>Kota Factory</td>\n",
       "      <td>NaN</td>\n",
       "      <td>Mayur More, Jitendra Kumar, Ranjan Raj, Alam K...</td>\n",
       "      <td>India</td>\n",
       "      <td>24-Sep-21</td>\n",
       "      <td>TV-MA</td>\n",
       "      <td>2 Seasons</td>\n",
       "      <td>International TV Shows, Romantic TV Shows, TV ...</td>\n",
       "      <td>In a city of coaching centers known to train I...</td>\n",
       "    </tr>\n",
       "  </tbody>\n",
       "</table>\n",
       "</div>"
      ],
      "text/plain": [
       "  show_id     type                  title         director  \\\n",
       "0      s1    Movie   Dick Johnson Is Dead  Kirsten Johnson   \n",
       "1      s2  TV Show          Blood & Water              NaN   \n",
       "2      s3  TV Show              Ganglands  Julien Leclercq   \n",
       "3      s4  TV Show  Jailbirds New Orleans              NaN   \n",
       "4      s5  TV Show           Kota Factory              NaN   \n",
       "\n",
       "                                                cast        country  \\\n",
       "0                                                NaN  United States   \n",
       "1  Ama Qamata, Khosi Ngema, Gail Mabalane, Thaban...   South Africa   \n",
       "2  Sami Bouajila, Tracy Gotoas, Samuel Jouy, Nabi...            NaN   \n",
       "3                                                NaN            NaN   \n",
       "4  Mayur More, Jitendra Kumar, Ranjan Raj, Alam K...          India   \n",
       "\n",
       "  date_added rating   duration  \\\n",
       "0  25-Sep-21  PG-13     90 min   \n",
       "1  24-Sep-21  TV-MA  2 Seasons   \n",
       "2  24-Sep-21  TV-MA   1 Season   \n",
       "3  24-Sep-21  TV-MA   1 Season   \n",
       "4  24-Sep-21  TV-MA  2 Seasons   \n",
       "\n",
       "                                           listed_in  \\\n",
       "0                                      Documentaries   \n",
       "1    International TV Shows, TV Dramas, TV Mysteries   \n",
       "2  Crime TV Shows, International TV Shows, TV Act...   \n",
       "3                             Docuseries, Reality TV   \n",
       "4  International TV Shows, Romantic TV Shows, TV ...   \n",
       "\n",
       "                                         description  \n",
       "0  As her father nears the end of his life, filmm...  \n",
       "1  After crossing paths at a party, a Cape Town t...  \n",
       "2  To protect his family from a powerful drug lor...  \n",
       "3  Feuds, flirtations and toilet talk go down amo...  \n",
       "4  In a city of coaching centers known to train I...  "
      ]
     },
     "execution_count": 4,
     "metadata": {},
     "output_type": "execute_result"
    }
   ],
   "source": [
    "netflixdf = pd.read_csv('netflix_titles.csv')\n",
    "netflixdf.head() # loading first five records of dataframe"
   ]
  },
  {
   "cell_type": "code",
   "execution_count": 5,
   "id": "5178be3a",
   "metadata": {},
   "outputs": [
    {
     "data": {
      "text/html": [
       "<div>\n",
       "<style scoped>\n",
       "    .dataframe tbody tr th:only-of-type {\n",
       "        vertical-align: middle;\n",
       "    }\n",
       "\n",
       "    .dataframe tbody tr th {\n",
       "        vertical-align: top;\n",
       "    }\n",
       "\n",
       "    .dataframe thead th {\n",
       "        text-align: right;\n",
       "    }\n",
       "</style>\n",
       "<table border=\"1\" class=\"dataframe\">\n",
       "  <thead>\n",
       "    <tr style=\"text-align: right;\">\n",
       "      <th></th>\n",
       "      <th>show_id</th>\n",
       "      <th>type</th>\n",
       "      <th>title</th>\n",
       "      <th>director</th>\n",
       "      <th>cast</th>\n",
       "      <th>country</th>\n",
       "      <th>date_added</th>\n",
       "      <th>rating</th>\n",
       "      <th>duration</th>\n",
       "      <th>listed_in</th>\n",
       "      <th>description</th>\n",
       "    </tr>\n",
       "  </thead>\n",
       "  <tbody>\n",
       "    <tr>\n",
       "      <th>8802</th>\n",
       "      <td>s8803</td>\n",
       "      <td>Movie</td>\n",
       "      <td>Zodiac</td>\n",
       "      <td>David Fincher</td>\n",
       "      <td>Mark Ruffalo, Jake Gyllenhaal, Robert Downey J...</td>\n",
       "      <td>United States</td>\n",
       "      <td>20-Nov-19</td>\n",
       "      <td>R</td>\n",
       "      <td>158 min</td>\n",
       "      <td>Cult Movies, Dramas, Thrillers</td>\n",
       "      <td>A political cartoonist, a crime reporter and a...</td>\n",
       "    </tr>\n",
       "    <tr>\n",
       "      <th>8803</th>\n",
       "      <td>s8804</td>\n",
       "      <td>TV Show</td>\n",
       "      <td>Zombie Dumb</td>\n",
       "      <td>NaN</td>\n",
       "      <td>NaN</td>\n",
       "      <td>NaN</td>\n",
       "      <td>1-Jul-19</td>\n",
       "      <td>TV-Y7</td>\n",
       "      <td>2 Seasons</td>\n",
       "      <td>Kids' TV, Korean TV Shows, TV Comedies</td>\n",
       "      <td>While living alone in a spooky town, a young g...</td>\n",
       "    </tr>\n",
       "    <tr>\n",
       "      <th>8804</th>\n",
       "      <td>s8805</td>\n",
       "      <td>Movie</td>\n",
       "      <td>Zombieland</td>\n",
       "      <td>Ruben Fleischer</td>\n",
       "      <td>Jesse Eisenberg, Woody Harrelson, Emma Stone, ...</td>\n",
       "      <td>United States</td>\n",
       "      <td>1-Nov-19</td>\n",
       "      <td>R</td>\n",
       "      <td>88 min</td>\n",
       "      <td>Comedies, Horror Movies</td>\n",
       "      <td>Looking to survive in a world taken over by zo...</td>\n",
       "    </tr>\n",
       "    <tr>\n",
       "      <th>8805</th>\n",
       "      <td>s8806</td>\n",
       "      <td>Movie</td>\n",
       "      <td>Zoom</td>\n",
       "      <td>Peter Hewitt</td>\n",
       "      <td>Tim Allen, Courteney Cox, Chevy Chase, Kate Ma...</td>\n",
       "      <td>United States</td>\n",
       "      <td>11-Jan-20</td>\n",
       "      <td>PG</td>\n",
       "      <td>88 min</td>\n",
       "      <td>Children &amp; Family Movies, Comedies</td>\n",
       "      <td>Dragged from civilian life, a former superhero...</td>\n",
       "    </tr>\n",
       "    <tr>\n",
       "      <th>8806</th>\n",
       "      <td>s8807</td>\n",
       "      <td>Movie</td>\n",
       "      <td>Zubaan</td>\n",
       "      <td>Mozez Singh</td>\n",
       "      <td>Vicky Kaushal, Sarah-Jane Dias, Raaghav Chanan...</td>\n",
       "      <td>India</td>\n",
       "      <td>2-Mar-19</td>\n",
       "      <td>TV-14</td>\n",
       "      <td>111 min</td>\n",
       "      <td>Dramas, International Movies, Music &amp; Musicals</td>\n",
       "      <td>A scrappy but poor boy worms his way into a ty...</td>\n",
       "    </tr>\n",
       "  </tbody>\n",
       "</table>\n",
       "</div>"
      ],
      "text/plain": [
       "     show_id     type        title         director  \\\n",
       "8802   s8803    Movie       Zodiac    David Fincher   \n",
       "8803   s8804  TV Show  Zombie Dumb              NaN   \n",
       "8804   s8805    Movie   Zombieland  Ruben Fleischer   \n",
       "8805   s8806    Movie         Zoom     Peter Hewitt   \n",
       "8806   s8807    Movie       Zubaan      Mozez Singh   \n",
       "\n",
       "                                                   cast        country  \\\n",
       "8802  Mark Ruffalo, Jake Gyllenhaal, Robert Downey J...  United States   \n",
       "8803                                                NaN            NaN   \n",
       "8804  Jesse Eisenberg, Woody Harrelson, Emma Stone, ...  United States   \n",
       "8805  Tim Allen, Courteney Cox, Chevy Chase, Kate Ma...  United States   \n",
       "8806  Vicky Kaushal, Sarah-Jane Dias, Raaghav Chanan...          India   \n",
       "\n",
       "     date_added rating   duration  \\\n",
       "8802  20-Nov-19      R    158 min   \n",
       "8803   1-Jul-19  TV-Y7  2 Seasons   \n",
       "8804   1-Nov-19      R     88 min   \n",
       "8805  11-Jan-20     PG     88 min   \n",
       "8806   2-Mar-19  TV-14    111 min   \n",
       "\n",
       "                                           listed_in  \\\n",
       "8802                  Cult Movies, Dramas, Thrillers   \n",
       "8803          Kids' TV, Korean TV Shows, TV Comedies   \n",
       "8804                         Comedies, Horror Movies   \n",
       "8805              Children & Family Movies, Comedies   \n",
       "8806  Dramas, International Movies, Music & Musicals   \n",
       "\n",
       "                                            description  \n",
       "8802  A political cartoonist, a crime reporter and a...  \n",
       "8803  While living alone in a spooky town, a young g...  \n",
       "8804  Looking to survive in a world taken over by zo...  \n",
       "8805  Dragged from civilian life, a former superhero...  \n",
       "8806  A scrappy but poor boy worms his way into a ty...  "
      ]
     },
     "execution_count": 5,
     "metadata": {},
     "output_type": "execute_result"
    }
   ],
   "source": [
    "# loading last five records of dataframe\n",
    "netflixdf.tail()"
   ]
  },
  {
   "cell_type": "code",
   "execution_count": 8,
   "id": "1dd4cf81",
   "metadata": {},
   "outputs": [
    {
     "name": "stdout",
     "output_type": "stream",
     "text": [
      "The dataset has 8807 rows and 11 columns\n"
     ]
    }
   ],
   "source": [
    "#checking dataframe dimensionality. (rows x columns)\n",
    "dataset_shape = netflixdf.shape\n",
    "print(\"The dataset has {} rows and {} columns\".format(*netflixdf.shape))"
   ]
  },
  {
   "cell_type": "code",
   "execution_count": 9,
   "id": "eea19abc",
   "metadata": {},
   "outputs": [
    {
     "data": {
      "text/plain": [
       "96877"
      ]
     },
     "execution_count": 9,
     "metadata": {},
     "output_type": "execute_result"
    }
   ],
   "source": [
    "#returning the number of elements in a DataFrame\n",
    "netflixdf.size "
   ]
  },
  {
   "cell_type": "code",
   "execution_count": 12,
   "id": "164ad944",
   "metadata": {},
   "outputs": [
    {
     "name": "stdout",
     "output_type": "stream",
     "text": [
      "<class 'pandas.core.frame.DataFrame'>\n",
      "RangeIndex: 8807 entries, 0 to 8806\n",
      "Data columns (total 11 columns):\n",
      " #   Column       Non-Null Count  Dtype \n",
      "---  ------       --------------  ----- \n",
      " 0   show_id      8807 non-null   object\n",
      " 1   type         8807 non-null   object\n",
      " 2   title        8807 non-null   object\n",
      " 3   director     6173 non-null   object\n",
      " 4   cast         7982 non-null   object\n",
      " 5   country      7976 non-null   object\n",
      " 6   date_added   8797 non-null   object\n",
      " 7   rating       8803 non-null   object\n",
      " 8   duration     8804 non-null   object\n",
      " 9   listed_in    8807 non-null   object\n",
      " 10  description  8807 non-null   object\n",
      "dtypes: object(11)\n",
      "memory usage: 757.0+ KB\n"
     ]
    }
   ],
   "source": [
    "#displaying a summary of a DataFrame\n",
    "netflixdf.info() "
   ]
  },
  {
   "cell_type": "code",
   "execution_count": 13,
   "id": "f71a8a1a",
   "metadata": {},
   "outputs": [
    {
     "data": {
      "text/plain": [
       "Index(['show_id', 'type', 'title', 'director', 'cast', 'country', 'date_added',\n",
       "       'rating', 'duration', 'listed_in', 'description'],\n",
       "      dtype='object')"
      ]
     },
     "execution_count": 13,
     "metadata": {},
     "output_type": "execute_result"
    }
   ],
   "source": [
    "#returning a list of column names in a DataFrame\n",
    "netflixdf.columns "
   ]
  },
  {
   "cell_type": "code",
   "execution_count": 16,
   "id": "b230513e",
   "metadata": {},
   "outputs": [
    {
     "data": {
      "text/plain": [
       "0"
      ]
     },
     "execution_count": 16,
     "metadata": {},
     "output_type": "execute_result"
    }
   ],
   "source": [
    "#computing the number of duplicated rows \n",
    "netflixdf.duplicated().sum()"
   ]
  },
  {
   "cell_type": "code",
   "execution_count": 17,
   "id": "7161e7ef",
   "metadata": {},
   "outputs": [
    {
     "data": {
      "text/plain": [
       "director       2634\n",
       "country         831\n",
       "cast            825\n",
       "date_added       10\n",
       "rating            4\n",
       "duration          3\n",
       "show_id           0\n",
       "type              0\n",
       "title             0\n",
       "listed_in         0\n",
       "description       0\n",
       "dtype: int64"
      ]
     },
     "execution_count": 17,
     "metadata": {},
     "output_type": "execute_result"
    }
   ],
   "source": [
    "#counting the number of missing values\n",
    "netflixdf.isna().sum().sort_values(ascending=False)"
   ]
  },
  {
   "cell_type": "code",
   "execution_count": 24,
   "id": "add09aa1",
   "metadata": {},
   "outputs": [
    {
     "data": {
      "image/png": "[encoded data removed]",
      "text/plain": [
       "<Figure size 2500x1000 with 2 Axes>"
      ]
     },
     "metadata": {},
     "output_type": "display_data"
    }
   ],
   "source": [
    "#matrix plot for visualizing  the locations of missing values \n",
    "msno.matrix(netflixdf, fontsize=18, labels=True, sparkline=True)\n",
    "plt.show()"
   ]
  },
  {
   "cell_type": "code",
   "execution_count": 25,
   "id": "82a7b087",
   "metadata": {},
   "outputs": [
    {
     "data": {
      "text/plain": [
       "director       29.91\n",
       "country         9.44\n",
       "cast            9.37\n",
       "date_added      0.11\n",
       "rating          0.05\n",
       "duration        0.03\n",
       "show_id         0.00\n",
       "type            0.00\n",
       "title           0.00\n",
       "listed_in       0.00\n",
       "description     0.00\n",
       "dtype: float64"
      ]
     },
     "execution_count": 25,
     "metadata": {},
     "output_type": "execute_result"
    }
   ],
   "source": [
    "#Calculating Percentages of missing  Values \n",
    "missing_Values_pect =((netflixdf.isna().sum()/len(netflixdf))*100).round(2).sort_values(ascending=False)\n",
    "missing_Values_pect"
   ]
  },
  {
   "cell_type": "code",
   "execution_count": 26,
   "id": "7873b700",
   "metadata": {},
   "outputs": [],
   "source": [
    "#Handling Missing values\n",
    "netflixdf.drop(columns=['director'],axis=1, inplace =True) # dropping Director Column\n",
    "netflixdf['country'].fillna('no_Country',inplace=True) # Replacing null values with \"no_country\"\n",
    "netflixdf['cast'].fillna('no_cast',inplace=True) # Replacing null values with \"no_cast\"\n",
    "netflixdf.dropna(inplace=True) # dropping rows with null values "
   ]
  },
  {
   "cell_type": "code",
   "execution_count": 27,
   "id": "b073b30b",
   "metadata": {},
   "outputs": [
    {
     "data": {
      "text/plain": [
       "0"
      ]
     },
     "execution_count": 27,
     "metadata": {},
     "output_type": "execute_result"
    }
   ],
   "source": [
    "netflixdf.isna().sum().sum()"
   ]
  },
  {
   "cell_type": "code",
   "execution_count": 28,
   "id": "f1f702f8",
   "metadata": {},
   "outputs": [
    {
     "data": {
      "text/plain": [
       "show_id        object\n",
       "type           object\n",
       "title          object\n",
       "cast           object\n",
       "country        object\n",
       "date_added     object\n",
       "rating         object\n",
       "duration       object\n",
       "listed_in      object\n",
       "description    object\n",
       "dtype: object"
      ]
     },
     "execution_count": 28,
     "metadata": {},
     "output_type": "execute_result"
    }
   ],
   "source": [
    "netflixdf.dtypes"
   ]
  },
  {
   "cell_type": "code",
   "execution_count": 29,
   "id": "bfb7eddc",
   "metadata": {},
   "outputs": [],
   "source": [
    "#changing date_added data type to date_time\n",
    "netflixdf['date_added'] = pd.to_datetime(netflixdf['date_added'])\n",
    "netflixdf['year_added'] = netflixdf['date_added'].dt.year # extracting year column from date_added column\n",
    "netflixdf['month_added'] = netflixdf['date_added'].dt.strftime('%b')  # extracting month column from date_added column"
   ]
  },
  {
   "cell_type": "code",
   "execution_count": 30,
   "id": "9fc8ae2e",
   "metadata": {},
   "outputs": [],
   "source": [
    "#Create a new genre column based on keywords in the listed_in column\n",
    "netflixdf['genre'] = 'Other'\n",
    "netflixdf.loc[netflixdf['listed_in'].str.contains('Drama'), 'genre'] = 'Drama'\n",
    "netflixdf.loc[netflixdf['listed_in'].str.contains('Comedy'), 'genre'] = 'Comedy'\n",
    "netflixdf.loc[netflixdf['listed_in'].str.contains('Action'), 'genre'] = 'Action'\n",
    "netflixdf.loc[netflixdf['listed_in'].str.contains('Horror'), 'genre'] = 'Horror'\n",
    "netflixdf.loc[netflixdf['listed_in'].str.contains('Documentaries'), 'genre'] = 'Documentaries'"
   ]
  },
  {
   "cell_type": "code",
   "execution_count": 31,
   "id": "4e1a503e",
   "metadata": {},
   "outputs": [
    {
     "data": {
      "text/plain": [
       "Index(['show_id', 'type', 'title', 'cast', 'country', 'date_added', 'rating',\n",
       "       'duration', 'listed_in', 'description', 'year_added', 'month_added',\n",
       "       'genre'],\n",
       "      dtype='object')"
      ]
     },
     "execution_count": 31,
     "metadata": {},
     "output_type": "execute_result"
    }
   ],
   "source": [
    "#checking dataframe headers\n",
    "netflixdf.keys()"
   ]
  },
  {
   "cell_type": "code",
   "execution_count": 36,
   "id": "40456be9",
   "metadata": {},
   "outputs": [],
   "source": [
    "# re-arranging columns\n",
    "netflixdf = netflixdf.reindex(columns=['show_id', 'type', 'title', 'cast', 'country', 'date_added','year_added','month_added',\n",
    "                                       'rating', 'duration', 'listed_in','genre', 'description'])"
   ]
  },
  {
   "cell_type": "code",
   "execution_count": 37,
   "id": "2132d41a",
   "metadata": {},
   "outputs": [
    {
     "data": {
      "text/html": [
       "<div>\n",
       "<style scoped>\n",
       "    .dataframe tbody tr th:only-of-type {\n",
       "        vertical-align: middle;\n",
       "    }\n",
       "\n",
       "    .dataframe tbody tr th {\n",
       "        vertical-align: top;\n",
       "    }\n",
       "\n",
       "    .dataframe thead th {\n",
       "        text-align: right;\n",
       "    }\n",
       "</style>\n",
       "<table border=\"1\" class=\"dataframe\">\n",
       "  <thead>\n",
       "    <tr style=\"text-align: right;\">\n",
       "      <th></th>\n",
       "      <th>show_id</th>\n",
       "      <th>type</th>\n",
       "      <th>title</th>\n",
       "      <th>cast</th>\n",
       "      <th>country</th>\n",
       "      <th>date_added</th>\n",
       "      <th>year_added</th>\n",
       "      <th>month_added</th>\n",
       "      <th>rating</th>\n",
       "      <th>duration</th>\n",
       "      <th>listed_in</th>\n",
       "      <th>genre</th>\n",
       "      <th>description</th>\n",
       "    </tr>\n",
       "  </thead>\n",
       "  <tbody>\n",
       "    <tr>\n",
       "      <th>0</th>\n",
       "      <td>s1</td>\n",
       "      <td>Movie</td>\n",
       "      <td>Dick Johnson Is Dead</td>\n",
       "      <td>no_cast</td>\n",
       "      <td>United States</td>\n",
       "      <td>2021-09-25</td>\n",
       "      <td>2021</td>\n",
       "      <td>Sep</td>\n",
       "      <td>PG-13</td>\n",
       "      <td>90 min</td>\n",
       "      <td>Documentaries</td>\n",
       "      <td>Documentaries</td>\n",
       "      <td>As her father nears the end of his life, filmm...</td>\n",
       "    </tr>\n",
       "    <tr>\n",
       "      <th>1</th>\n",
       "      <td>s2</td>\n",
       "      <td>TV Show</td>\n",
       "      <td>Blood &amp; Water</td>\n",
       "      <td>Ama Qamata, Khosi Ngema, Gail Mabalane, Thaban...</td>\n",
       "      <td>South Africa</td>\n",
       "      <td>2021-09-24</td>\n",
       "      <td>2021</td>\n",
       "      <td>Sep</td>\n",
       "      <td>TV-MA</td>\n",
       "      <td>2 Seasons</td>\n",
       "      <td>International TV Shows, TV Dramas, TV Mysteries</td>\n",
       "      <td>Drama</td>\n",
       "      <td>After crossing paths at a party, a Cape Town t...</td>\n",
       "    </tr>\n",
       "  </tbody>\n",
       "</table>\n",
       "</div>"
      ],
      "text/plain": [
       "  show_id     type                 title  \\\n",
       "0      s1    Movie  Dick Johnson Is Dead   \n",
       "1      s2  TV Show         Blood & Water   \n",
       "\n",
       "                                                cast        country  \\\n",
       "0                                            no_cast  United States   \n",
       "1  Ama Qamata, Khosi Ngema, Gail Mabalane, Thaban...   South Africa   \n",
       "\n",
       "  date_added  year_added month_added rating   duration  \\\n",
       "0 2021-09-25        2021         Sep  PG-13     90 min   \n",
       "1 2021-09-24        2021         Sep  TV-MA  2 Seasons   \n",
       "\n",
       "                                         listed_in          genre  \\\n",
       "0                                    Documentaries  Documentaries   \n",
       "1  International TV Shows, TV Dramas, TV Mysteries          Drama   \n",
       "\n",
       "                                         description  \n",
       "0  As her father nears the end of his life, filmm...  \n",
       "1  After crossing paths at a party, a Cape Town t...  "
      ]
     },
     "execution_count": 37,
     "metadata": {},
     "output_type": "execute_result"
    }
   ],
   "source": [
    "netflixdf.head(2)"
   ]
  },
  {
   "cell_type": "code",
   "execution_count": 43,
   "id": "699933c8",
   "metadata": {},
   "outputs": [
    {
     "name": "stdout",
     "output_type": "stream",
     "text": [
      "<class 'pandas.core.frame.DataFrame'>\n",
      "Int64Index: 8790 entries, 0 to 8806\n",
      "Data columns (total 13 columns):\n",
      " #   Column       Non-Null Count  Dtype         \n",
      "---  ------       --------------  -----         \n",
      " 0   show_id      8790 non-null   object        \n",
      " 1   type         8790 non-null   object        \n",
      " 2   title        8790 non-null   object        \n",
      " 3   cast         8790 non-null   object        \n",
      " 4   country      8790 non-null   object        \n",
      " 5   date_added   8790 non-null   datetime64[ns]\n",
      " 6   year_added   8790 non-null   int64         \n",
      " 7   month_added  8790 non-null   object        \n",
      " 8   rating       8790 non-null   object        \n",
      " 9   duration     8790 non-null   object        \n",
      " 10  listed_in    8790 non-null   object        \n",
      " 11  genre        8790 non-null   object        \n",
      " 12  description  8790 non-null   object        \n",
      "dtypes: datetime64[ns](1), int64(1), object(11)\n",
      "memory usage: 961.4+ KB\n"
     ]
    }
   ],
   "source": [
    "netflixdf.info()"
   ]
  },
  {
   "cell_type": "markdown",
   "id": "b6c161ac",
   "metadata": {},
   "source": [
    "# visualizations"
   ]
  },
  {
   "cell_type": "code",
   "execution_count": 47,
   "id": "bfa55168",
   "metadata": {},
   "outputs": [
    {
     "data": {
      "text/plain": [
       "show_id        8790\n",
       "type              2\n",
       "title          8787\n",
       "cast           7679\n",
       "country         749\n",
       "date_added     1713\n",
       "year_added       14\n",
       "month_added      12\n",
       "rating           14\n",
       "duration        220\n",
       "listed_in       513\n",
       "genre             6\n",
       "description    8758\n",
       "dtype: int64"
      ]
     },
     "execution_count": 47,
     "metadata": {},
     "output_type": "execute_result"
    }
   ],
   "source": [
    "#checking unique values in each column\n",
    "netflixdf.nunique()"
   ]
  },
  {
   "cell_type": "code",
   "execution_count": 51,
   "id": "6c3f95cb",
   "metadata": {},
   "outputs": [
    {
     "data": {
      "image/png": "[encoded data removed]",
      "text/plain": [
       "<Figure size 600x600 with 1 Axes>"
      ]
     },
     "metadata": {},
     "output_type": "display_data"
    }
   ],
   "source": [
    "# count plot of types \n",
    "plt.figure(figsize=(6,6))\n",
    "ax = sns.countplot(x='type', data=netflixdf)\n",
    "for p in ax.patches:\n",
    "    ax.annotate(format(p.get_height(), '.0f'), \n",
    "                (p.get_x() + p.get_width() / 2., p.get_height()), \n",
    "                ha = 'center', va = 'center', xytext = (0, 10), \n",
    "                textcoords = 'offset points')"
   ]
  },
  {
   "cell_type": "code",
   "execution_count": 69,
   "id": "6a18b5d4",
   "metadata": {},
   "outputs": [
    {
     "data": {
      "image/png": "[encoded data removed]",
      "text/plain": [
       "<Figure size 800x500 with 1 Axes>"
      ]
     },
     "metadata": {},
     "output_type": "display_data"
    }
   ],
   "source": [
    "# group the data by release year and count the number of occurrences\n",
    "year_counts = netflixdf.groupby('year_added')['show_id'].count()\n",
    "\n",
    "# create the horizontal bar plot\n",
    "fig, ax = plt.subplots(figsize=(8, 5))\n",
    "year_counts.plot.barh(ax=ax,width=0.9)\n",
    "# set  title\n",
    "ax.set_title('Distribution of Release Year')\n",
    "\n",
    "# add data labels to the bars\n",
    "for i, v in enumerate(year_counts.values):\n",
    "    ax.annotate(str(v), xy=(v + 10, i - 0.15))\n",
    "    \n",
    "plt.show()"
   ]
  },
  {
   "cell_type": "code",
   "execution_count": 73,
   "id": "9c3256a1",
   "metadata": {},
   "outputs": [],
   "source": [
    "countrydf= netflixdf.groupby(['year_added', 'country']).size().reset_index(name='counts')\n",
    "\n"
   ]
  },
  {
   "cell_type": "code",
   "execution_count": 77,
   "id": "515e8102",
   "metadata": {},
   "outputs": [
    {
     "data": {
      "application/vnd.plotly.v1+json": {
       "config": {
        "plotlyServerURL": "https://plot.ly"
       },
       "data": [
        {
         "coloraxis": "coloraxis",
         "geo": "geo",
         "hovertemplate": "<b>%{hovertext}</b><br><br>year_added=2008<br>country=%{location}<br>counts=%{z}<extra></extra>",
         "hovertext": [
          "United States"
         ],
         "locationmode": "country names",
         "locations": [
          "United States"
         ],
         "name": "",
         "type": "choropleth",
         "z": [
          2
         ]
        }
       ],
       "frames": [
        {
         "data": [
          {
           "coloraxis": "coloraxis",
           "geo": "geo",
           "hovertemplate": "<b>%{hovertext}</b><br><br>year_added=2008<br>country=%{location}<br>counts=%{z}<extra></extra>",
           "hovertext": [
            "United States"
           ],
           "locationmode": "country names",
           "locations": [
            "United States"
           ],
           "name": "",
           "type": "choropleth",
           "z": [
            2
           ]
          }
         ],
         "name": "2008"
        },
        {
         "data": [
          {
           "coloraxis": "coloraxis",
           "geo": "geo",
           "hovertemplate": "<b>%{hovertext}</b><br><br>year_added=2009<br>country=%{location}<br>counts=%{z}<extra></extra>",
           "hovertext": [
            "Denmark",
            "United States"
           ],
           "locationmode": "country names",
           "locations": [
            "Denmark",
            "United States"
           ],
           "name": "",
           "type": "choropleth",
           "z": [
            1,
            1
           ]
          }
         ],
         "name": "2009"
        },
        {
         "data": [
          {
           "coloraxis": "coloraxis",
           "geo": "geo",
           "hovertemplate": "<b>%{hovertext}</b><br><br>year_added=2010<br>country=%{location}<br>counts=%{z}<extra></extra>",
           "hovertext": [
            "United States"
           ],
           "locationmode": "country names",
           "locations": [
            "United States"
           ],
           "name": "",
           "type": "choropleth",
           "z": [
            1
           ]
          }
         ],
         "name": "2010"
        },
        {
         "data": [
          {
           "coloraxis": "coloraxis",
           "geo": "geo",
           "hovertemplate": "<b>%{hovertext}</b><br><br>year_added=2011<br>country=%{location}<br>counts=%{z}<extra></extra>",
           "hovertext": [
            "Spain, Mexico, France",
            "United States",
            "United States, France, United Kingdom"
           ],
           "locationmode": "country names",
           "locations": [
            "Spain, Mexico, France",
            "United States",
            "United States, France, United Kingdom"
           ],
           "name": "",
           "type": "choropleth",
           "z": [
            1,
            11,
            1
           ]
          }
         ],
         "name": "2011"
        },
        {
         "data": [
          {
           "coloraxis": "coloraxis",
           "geo": "geo",
           "hovertemplate": "<b>%{hovertext}</b><br><br>year_added=2012<br>country=%{location}<br>counts=%{z}<extra></extra>",
           "hovertext": [
            "United States",
            "United States, Mexico"
           ],
           "locationmode": "country names",
           "locations": [
            "United States",
            "United States, Mexico"
           ],
           "name": "",
           "type": "choropleth",
           "z": [
            2,
            1
           ]
          }
         ],
         "name": "2012"
        },
        {
         "data": [
          {
           "coloraxis": "coloraxis",
           "geo": "geo",
           "hovertemplate": "<b>%{hovertext}</b><br><br>year_added=2013<br>country=%{location}<br>counts=%{z}<extra></extra>",
           "hovertext": [
            "Canada",
            "United States",
            "United States, Ireland",
            "United States, United Kingdom"
           ],
           "locationmode": "country names",
           "locations": [
            "Canada",
            "United States",
            "United States, Ireland",
            "United States, United Kingdom"
           ],
           "name": "",
           "type": "choropleth",
           "z": [
            1,
            8,
            1,
            1
           ]
          }
         ],
         "name": "2013"
        },
        {
         "data": [
          {
           "coloraxis": "coloraxis",
           "geo": "geo",
           "hovertemplate": "<b>%{hovertext}</b><br><br>year_added=2014<br>country=%{location}<br>counts=%{z}<extra></extra>",
           "hovertext": [
            "Canada",
            "Norway, United States",
            "United Kingdom,",
            "United Kingdom, Egypt, United States",
            "United Kingdom, United States",
            "United States",
            "United States, Bermuda, Ecuador",
            "United States, Canada",
            "United States, Hungary, Ireland, Canada"
           ],
           "locationmode": "country names",
           "locations": [
            "Canada",
            "Norway, United States",
            "United Kingdom,",
            "United Kingdom, Egypt, United States",
            "United Kingdom, United States",
            "United States",
            "United States, Bermuda, Ecuador",
            "United States, Canada",
            "United States, Hungary, Ireland, Canada"
           ],
           "name": "",
           "type": "choropleth",
           "z": [
            1,
            1,
            1,
            1,
            1,
            16,
            1,
            1,
            1
           ]
          }
         ],
         "name": "2014"
        },
        {
         "data": [
          {
           "coloraxis": "coloraxis",
           "geo": "geo",
           "hovertemplate": "<b>%{hovertext}</b><br><br>year_added=2015<br>country=%{location}<br>counts=%{z}<extra></extra>",
           "hovertext": [
            "Australia",
            "Australia, France, Ireland",
            "Australia, United Kingdom, United States, New Zealand, Italy, France",
            "Belgium",
            "Canada",
            "Canada, Australia",
            "Canada, United States",
            "France",
            "France, Belgium",
            "Germany",
            "Germany, Australia, France, China",
            "Italy, France",
            "Japan",
            "Mexico",
            "New Zealand",
            "Nigeria",
            "Norway, United Kingdom, France, Ireland",
            "United Kingdom",
            "United Kingdom, Ukraine, United States",
            "United States",
            "United States, Canada",
            "United States, Italy",
            "United States, United Kingdom",
            "no_Country"
           ],
           "locationmode": "country names",
           "locations": [
            "Australia",
            "Australia, France, Ireland",
            "Australia, United Kingdom, United States, New Zealand, Italy, France",
            "Belgium",
            "Canada",
            "Canada, Australia",
            "Canada, United States",
            "France",
            "France, Belgium",
            "Germany",
            "Germany, Australia, France, China",
            "Italy, France",
            "Japan",
            "Mexico",
            "New Zealand",
            "Nigeria",
            "Norway, United Kingdom, France, Ireland",
            "United Kingdom",
            "United Kingdom, Ukraine, United States",
            "United States",
            "United States, Canada",
            "United States, Italy",
            "United States, United Kingdom",
            "no_Country"
           ],
           "name": "",
           "type": "choropleth",
           "z": [
            1,
            1,
            1,
            1,
            3,
            1,
            1,
            2,
            2,
            1,
            1,
            1,
            1,
            1,
            1,
            1,
            1,
            3,
            1,
            50,
            1,
            1,
            2,
            3
           ]
          }
         ],
         "name": "2015"
        },
        {
         "data": [
          {
           "coloraxis": "coloraxis",
           "geo": "geo",
           "hovertemplate": "<b>%{hovertext}</b><br><br>year_added=2016<br>country=%{location}<br>counts=%{z}<extra></extra>",
           "hovertext": [
            "Argentina",
            "Argentina, Chile, Peru",
            "Australia",
            "Austria",
            "Belgium, France, Netherlands",
            "Brazil",
            "Canada",
            "Canada, Japan, Netherlands",
            "Canada, United Kingdom",
            "Canada, United Kingdom, Netherlands",
            "Canada, United Kingdom, United States",
            "Canada, United States",
            "Chile, United States, France",
            "China",
            "China, Germany, India, United States",
            "China, Hong Kong",
            "China, United States",
            "Colombia",
            "Croatia, Slovenia, Serbia, Montenegro",
            "Denmark",
            "Denmark, Indonesia, Finland, Norway, United Kingdom, Israel, France, United States, Germany, Netherlands",
            "Denmark, United Kingdom, Sweden",
            "Denmark, United States",
            "Denmark, Zimbabwe",
            "France",
            "France, Belgium",
            "France, Belgium, Spain",
            "France, Germany",
            "France, Japan, United States",
            "France, Qatar",
            "France, South Korea, Japan",
            "France, United States, Canada",
            "Germany",
            "Hong Kong",
            "Hong Kong, China",
            "Iceland",
            "India",
            "India, United Kingdom",
            "Ireland, South Africa",
            "Ireland, United Kingdom, United States",
            "Israel",
            "Israel, Germany, France",
            "Italy",
            "Japan",
            "Japan, United States",
            "Mexico",
            "Mexico, France",
            "Netherlands",
            "Netherlands, Denmark, South Africa",
            "New Zealand",
            "Nigeria",
            "Norway",
            "Pakistan",
            "Pakistan, Norway, United States",
            "Peru",
            "Peru, United States, United Kingdom",
            "Poland",
            "South Korea",
            "Spain",
            "Spain, Cuba",
            "Sweden",
            "Switzerland",
            "Taiwan",
            "Turkey",
            "Turkey, Azerbaijan",
            "United Arab Emirates, Jordan",
            "United Kingdom",
            "United Kingdom, Australia, Canada, United States",
            "United Kingdom, France",
            "United Kingdom, Germany, Canada",
            "United Kingdom, India, United States",
            "United Kingdom, United States, Spain, Germany, Greece, Canada",
            "United States",
            "United States, Australia",
            "United States, Canada",
            "United States, France",
            "United States, France, Japan",
            "United States, Greece, United Kingdom",
            "United States, Hungary",
            "United States, Ireland",
            "United States, Japan",
            "United States, Kazakhstan",
            "United States, Netherlands, Japan, France",
            "United States, New Zealand",
            "United States, New Zealand, Japan",
            "United States, Russia",
            "United States, South Korea, China",
            "no_Country"
           ],
           "locationmode": "country names",
           "locations": [
            "Argentina",
            "Argentina, Chile, Peru",
            "Australia",
            "Austria",
            "Belgium, France, Netherlands",
            "Brazil",
            "Canada",
            "Canada, Japan, Netherlands",
            "Canada, United Kingdom",
            "Canada, United Kingdom, Netherlands",
            "Canada, United Kingdom, United States",
            "Canada, United States",
            "Chile, United States, France",
            "China",
            "China, Germany, India, United States",
            "China, Hong Kong",
            "China, United States",
            "Colombia",
            "Croatia, Slovenia, Serbia, Montenegro",
            "Denmark",
            "Denmark, Indonesia, Finland, Norway, United Kingdom, Israel, France, United States, Germany, Netherlands",
            "Denmark, United Kingdom, Sweden",
            "Denmark, United States",
            "Denmark, Zimbabwe",
            "France",
            "France, Belgium",
            "France, Belgium, Spain",
            "France, Germany",
            "France, Japan, United States",
            "France, Qatar",
            "France, South Korea, Japan",
            "France, United States, Canada",
            "Germany",
            "Hong Kong",
            "Hong Kong, China",
            "Iceland",
            "India",
            "India, United Kingdom",
            "Ireland, South Africa",
            "Ireland, United Kingdom, United States",
            "Israel",
            "Israel, Germany, France",
            "Italy",
            "Japan",
            "Japan, United States",
            "Mexico",
            "Mexico, France",
            "Netherlands",
            "Netherlands, Denmark, South Africa",
            "New Zealand",
            "Nigeria",
            "Norway",
            "Pakistan",
            "Pakistan, Norway, United States",
            "Peru",
            "Peru, United States, United Kingdom",
            "Poland",
            "South Korea",
            "Spain",
            "Spain, Cuba",
            "Sweden",
            "Switzerland",
            "Taiwan",
            "Turkey",
            "Turkey, Azerbaijan",
            "United Arab Emirates, Jordan",
            "United Kingdom",
            "United Kingdom, Australia, Canada, United States",
            "United Kingdom, France",
            "United Kingdom, Germany, Canada",
            "United Kingdom, India, United States",
            "United Kingdom, United States, Spain, Germany, Greece, Canada",
            "United States",
            "United States, Australia",
            "United States, Canada",
            "United States, France",
            "United States, France, Japan",
            "United States, Greece, United Kingdom",
            "United States, Hungary",
            "United States, Ireland",
            "United States, Japan",
            "United States, Kazakhstan",
            "United States, Netherlands, Japan, France",
            "United States, New Zealand",
            "United States, New Zealand, Japan",
            "United States, Russia",
            "United States, South Korea, China",
            "no_Country"
           ],
           "name": "",
           "type": "choropleth",
           "z": [
            2,
            1,
            6,
            1,
            1,
            2,
            12,
            1,
            1,
            1,
            1,
            5,
            1,
            3,
            1,
            1,
            1,
            2,
            1,
            1,
            1,
            1,
            1,
            1,
            8,
            2,
            1,
            1,
            1,
            1,
            1,
            1,
            5,
            1,
            2,
            1,
            10,
            1,
            1,
            1,
            1,
            1,
            2,
            15,
            2,
            8,
            1,
            3,
            1,
            1,
            1,
            3,
            3,
            1,
            1,
            1,
            1,
            9,
            11,
            1,
            1,
            1,
            24,
            3,
            1,
            1,
            37,
            1,
            1,
            1,
            1,
            4,
            157,
            1,
            2,
            1,
            5,
            1,
            1,
            1,
            1,
            1,
            1,
            2,
            1,
            1,
            1,
            19
           ]
          }
         ],
         "name": "2016"
        },
        {
         "data": [
          {
           "coloraxis": "coloraxis",
           "geo": "geo",
           "hovertemplate": "<b>%{hovertext}</b><br><br>year_added=2017<br>country=%{location}<br>counts=%{z}<extra></extra>",
           "hovertext": [
            "Argentina",
            "Argentina, Spain",
            "Argentina, Uruguay, Spain, France",
            "Australia",
            "Australia, Armenia, Japan, Jordan, Mexico, Mongolia, New Zealand, Philippines, South Africa, Sweden, United States, Uruguay",
            "Australia, Canada",
            "Australia, India",
            "Australia, United Arab Emirates",
            "Australia, United States",
            "Austria, Czech Republic",
            "Belgium",
            "Belgium, France",
            "Belgium, Ireland, Netherlands, Germany, Afghanistan",
            "Brazil",
            "Brazil, Netherlands, United States, Colombia, Austria, Germany",
            "Bulgaria, United States, Spain, Canada",
            "Cambodia, United States",
            "Canada",
            "Canada, France",
            "Canada, Germany, South Africa",
            "Canada, India",
            "Canada, India, Thailand, United States, United Arab Emirates",
            "Canada, Ireland, United States",
            "Canada, Spain",
            "Canada, United States",
            "Canada, United States, United Kingdom",
            "Chile",
            "Chile, Argentina, France, Spain, United States",
            "Chile, France",
            "Chile, Spain, Argentina, Germany",
            "China",
            "China, Hong Kong",
            "China, India, Nepal",
            "China, South Korea, United States",
            "Colombia, Mexico, United States",
            "Colombia, United States",
            "Czech Republic, France",
            "Czech Republic, Slovakia",
            "Denmark",
            "Denmark, United Kingdom, South Africa, Sweden, Belgium",
            "Finland, Sweden, Norway, Latvia, Germany",
            "France",
            "France, Belgium",
            "France, Canada",
            "France, Canada, Belgium",
            "France, Canada, China, Cambodia",
            "France, Germany, Switzerland",
            "France, Morocco",
            "France, United Kingdom, India",
            "France, United Kingdom, United States",
            "Georgia, Germany, France",
            "Germany",
            "Germany, Jordan, Netherlands",
            "Germany, Sri Lanka",
            "Germany, United States",
            "Germany, United States, Hong Kong, Singapore",
            "Germany, United States, Italy",
            "Greece, United States",
            "Hong Kong",
            "Hong Kong, China",
            "India",
            "India, Canada",
            "India, France",
            "India, Germany",
            "India, Malaysia",
            "India, Mexico",
            "India, Soviet Union",
            "India, Switzerland",
            "India, United States",
            "Indonesia",
            "Ireland",
            "Ireland, United Kingdom",
            "Ireland, United Kingdom, Italy, United States",
            "Israel",
            "Israel, Sweden, Germany, Netherlands",
            "Italy",
            "Italy, Canada, France",
            "Italy, France",
            "Italy, Germany",
            "Italy, India",
            "Italy, United States",
            "Japan",
            "Japan, United States",
            "Lebanon, Qatar",
            "Malaysia",
            "Mexico",
            "Mexico, United States",
            "Netherlands",
            "Netherlands, Belgium",
            "Netherlands, Belgium, United Kingdom, United States",
            "Netherlands, United States",
            "New Zealand",
            "Nigeria",
            "Norway",
            "Norway, Denmark, Sweden",
            "Norway, Germany",
            "Pakistan",
            "Pakistan, United States",
            "Portugal, Spain",
            "Russia",
            "Saudi Arabia",
            "Singapore",
            "Singapore, France",
            "Slovenia, Croatia, Germany, Czech Republic, Qatar",
            "South Africa, United States, Germany",
            "South Korea",
            "South Korea, China, United States",
            "South Korea, United States",
            "Spain",
            "Spain, Argentina",
            "Spain, France, Uruguay",
            "Spain, Germany",
            "Spain, Italy, Argentina",
            "Spain, Mexico",
            "Spain, Switzerland",
            "Sweden",
            "Sweden, United States",
            "Switzerland, France",
            "Taiwan",
            "Thailand",
            "Thailand, United States",
            "Turkey",
            "Turkey, France, Germany, Poland",
            "Ukraine",
            "United Arab Emirates",
            "United Arab Emirates, Romania",
            "United Kingdom",
            "United Kingdom, Canada, Japan",
            "United Kingdom, France",
            "United Kingdom, France, Belgium, United States",
            "United Kingdom, France, Canada, Belgium, United States",
            "United Kingdom, France, United States, Belgium",
            "United Kingdom, India",
            "United Kingdom, India, Sweden",
            "United Kingdom, Ireland",
            "United Kingdom, Israel, Russia",
            "United Kingdom, Italy, Israel, Peru, United States",
            "United Kingdom, Japan, United States",
            "United Kingdom, Jordan, Qatar, Iran",
            "United Kingdom, Lithuania",
            "United Kingdom, Russia",
            "United Kingdom, South Africa",
            "United Kingdom, Spain, Belgium",
            "United Kingdom, United States",
            "United States",
            "United States, Argentina",
            "United States, Australia",
            "United States, Australia, China",
            "United States, Australia, Samoa, United Kingdom",
            "United States, Brazil",
            "United States, Bulgaria",
            "United States, Canada",
            "United States, Canada, Japan, Panama",
            "United States, Chile",
            "United States, Colombia, Mexico",
            "United States, Denmark",
            "United States, France",
            "United States, France, Canada, Lebanon, Qatar",
            "United States, Greece, Brazil",
            "United States, Hong Kong",
            "United States, Iceland",
            "United States, India",
            "United States, Italy",
            "United States, Japan",
            "United States, Japan, Canada",
            "United States, Mexico",
            "United States, Nicaragua",
            "United States, Senegal",
            "United States, Spain",
            "United States, United Kingdom",
            "United States, United Kingdom, Australia",
            "United States, United Kingdom, Denmark, Sweden",
            "United States, Uruguay",
            "United States, Venezuela",
            "Venezuela",
            "Vietnam",
            "West Germany",
            "no_Country"
           ],
           "locationmode": "country names",
           "locations": [
            "Argentina",
            "Argentina, Spain",
            "Argentina, Uruguay, Spain, France",
            "Australia",
            "Australia, Armenia, Japan, Jordan, Mexico, Mongolia, New Zealand, Philippines, South Africa, Sweden, United States, Uruguay",
            "Australia, Canada",
            "Australia, India",
            "Australia, United Arab Emirates",
            "Australia, United States",
            "Austria, Czech Republic",
            "Belgium",
            "Belgium, France",
            "Belgium, Ireland, Netherlands, Germany, Afghanistan",
            "Brazil",
            "Brazil, Netherlands, United States, Colombia, Austria, Germany",
            "Bulgaria, United States, Spain, Canada",
            "Cambodia, United States",
            "Canada",
            "Canada, France",
            "Canada, Germany, South Africa",
            "Canada, India",
            "Canada, India, Thailand, United States, United Arab Emirates",
            "Canada, Ireland, United States",
            "Canada, Spain",
            "Canada, United States",
            "Canada, United States, United Kingdom",
            "Chile",
            "Chile, Argentina, France, Spain, United States",
            "Chile, France",
            "Chile, Spain, Argentina, Germany",
            "China",
            "China, Hong Kong",
            "China, India, Nepal",
            "China, South Korea, United States",
            "Colombia, Mexico, United States",
            "Colombia, United States",
            "Czech Republic, France",
            "Czech Republic, Slovakia",
            "Denmark",
            "Denmark, United Kingdom, South Africa, Sweden, Belgium",
            "Finland, Sweden, Norway, Latvia, Germany",
            "France",
            "France, Belgium",
            "France, Canada",
            "France, Canada, Belgium",
            "France, Canada, China, Cambodia",
            "France, Germany, Switzerland",
            "France, Morocco",
            "France, United Kingdom, India",
            "France, United Kingdom, United States",
            "Georgia, Germany, France",
            "Germany",
            "Germany, Jordan, Netherlands",
            "Germany, Sri Lanka",
            "Germany, United States",
            "Germany, United States, Hong Kong, Singapore",
            "Germany, United States, Italy",
            "Greece, United States",
            "Hong Kong",
            "Hong Kong, China",
            "India",
            "India, Canada",
            "India, France",
            "India, Germany",
            "India, Malaysia",
            "India, Mexico",
            "India, Soviet Union",
            "India, Switzerland",
            "India, United States",
            "Indonesia",
            "Ireland",
            "Ireland, United Kingdom",
            "Ireland, United Kingdom, Italy, United States",
            "Israel",
            "Israel, Sweden, Germany, Netherlands",
            "Italy",
            "Italy, Canada, France",
            "Italy, France",
            "Italy, Germany",
            "Italy, India",
            "Italy, United States",
            "Japan",
            "Japan, United States",
            "Lebanon, Qatar",
            "Malaysia",
            "Mexico",
            "Mexico, United States",
            "Netherlands",
            "Netherlands, Belgium",
            "Netherlands, Belgium, United Kingdom, United States",
            "Netherlands, United States",
            "New Zealand",
            "Nigeria",
            "Norway",
            "Norway, Denmark, Sweden",
            "Norway, Germany",
            "Pakistan",
            "Pakistan, United States",
            "Portugal, Spain",
            "Russia",
            "Saudi Arabia",
            "Singapore",
            "Singapore, France",
            "Slovenia, Croatia, Germany, Czech Republic, Qatar",
            "South Africa, United States, Germany",
            "South Korea",
            "South Korea, China, United States",
            "South Korea, United States",
            "Spain",
            "Spain, Argentina",
            "Spain, France, Uruguay",
            "Spain, Germany",
            "Spain, Italy, Argentina",
            "Spain, Mexico",
            "Spain, Switzerland",
            "Sweden",
            "Sweden, United States",
            "Switzerland, France",
            "Taiwan",
            "Thailand",
            "Thailand, United States",
            "Turkey",
            "Turkey, France, Germany, Poland",
            "Ukraine",
            "United Arab Emirates",
            "United Arab Emirates, Romania",
            "United Kingdom",
            "United Kingdom, Canada, Japan",
            "United Kingdom, France",
            "United Kingdom, France, Belgium, United States",
            "United Kingdom, France, Canada, Belgium, United States",
            "United Kingdom, France, United States, Belgium",
            "United Kingdom, India",
            "United Kingdom, India, Sweden",
            "United Kingdom, Ireland",
            "United Kingdom, Israel, Russia",
            "United Kingdom, Italy, Israel, Peru, United States",
            "United Kingdom, Japan, United States",
            "United Kingdom, Jordan, Qatar, Iran",
            "United Kingdom, Lithuania",
            "United Kingdom, Russia",
            "United Kingdom, South Africa",
            "United Kingdom, Spain, Belgium",
            "United Kingdom, United States",
            "United States",
            "United States, Argentina",
            "United States, Australia",
            "United States, Australia, China",
            "United States, Australia, Samoa, United Kingdom",
            "United States, Brazil",
            "United States, Bulgaria",
            "United States, Canada",
            "United States, Canada, Japan, Panama",
            "United States, Chile",
            "United States, Colombia, Mexico",
            "United States, Denmark",
            "United States, France",
            "United States, France, Canada, Lebanon, Qatar",
            "United States, Greece, Brazil",
            "United States, Hong Kong",
            "United States, Iceland",
            "United States, India",
            "United States, Italy",
            "United States, Japan",
            "United States, Japan, Canada",
            "United States, Mexico",
            "United States, Nicaragua",
            "United States, Senegal",
            "United States, Spain",
            "United States, United Kingdom",
            "United States, United Kingdom, Australia",
            "United States, United Kingdom, Denmark, Sweden",
            "United States, Uruguay",
            "United States, Venezuela",
            "Venezuela",
            "Vietnam",
            "West Germany",
            "no_Country"
           ],
           "name": "",
           "type": "choropleth",
           "z": [
            7,
            2,
            1,
            13,
            1,
            1,
            1,
            1,
            3,
            1,
            1,
            2,
            1,
            13,
            1,
            1,
            1,
            35,
            1,
            1,
            1,
            1,
            1,
            1,
            8,
            1,
            4,
            1,
            1,
            1,
            14,
            4,
            1,
            1,
            1,
            1,
            1,
            1,
            1,
            1,
            1,
            16,
            7,
            1,
            1,
            1,
            1,
            1,
            1,
            1,
            1,
            13,
            1,
            1,
            1,
            1,
            1,
            1,
            1,
            1,
            142,
            1,
            2,
            1,
            1,
            1,
            2,
            1,
            2,
            2,
            2,
            1,
            1,
            3,
            1,
            5,
            1,
            2,
            1,
            1,
            1,
            27,
            3,
            1,
            7,
            28,
            2,
            1,
            1,
            1,
            1,
            2,
            1,
            2,
            1,
            1,
            4,
            1,
            1,
            5,
            1,
            16,
            1,
            1,
            1,
            40,
            1,
            1,
            24,
            2,
            1,
            1,
            1,
            1,
            1,
            2,
            2,
            1,
            11,
            1,
            1,
            29,
            1,
            1,
            1,
            1,
            96,
            1,
            1,
            1,
            1,
            1,
            1,
            1,
            1,
            1,
            1,
            1,
            1,
            1,
            1,
            1,
            1,
            8,
            361,
            1,
            1,
            1,
            1,
            1,
            1,
            9,
            1,
            1,
            1,
            1,
            1,
            1,
            1,
            1,
            1,
            1,
            1,
            2,
            1,
            1,
            1,
            1,
            2,
            4,
            1,
            1,
            1,
            1,
            1,
            1,
            1,
            64
           ]
          }
         ],
         "name": "2017"
        },
        {
         "data": [
          {
           "coloraxis": "coloraxis",
           "geo": "geo",
           "hovertemplate": "<b>%{hovertext}</b><br><br>year_added=2018<br>country=%{location}<br>counts=%{z}<extra></extra>",
           "hovertext": [
            "Argentina",
            "Argentina, Brazil, France, Poland, Germany, Denmark",
            "Argentina, Chile",
            "Argentina, France",
            "Argentina, France, United States, Germany, Qatar",
            "Argentina, Italy",
            "Argentina, Spain",
            "Australia",
            "Australia, Iraq",
            "Australia, United Arab Emirates",
            "Australia, United Kingdom, Canada",
            "Australia, United Kingdom, United Arab Emirates, Canada",
            "Australia, United States",
            "Belgium",
            "Belgium, United Kingdom, United States",
            "Brazil",
            "Brazil, France",
            "Brazil, India, China, United States",
            "Bulgaria",
            "Bulgaria, United States",
            "Cambodia",
            "Canada",
            "Canada, France, Italy, Morocco, United States",
            "Canada, Germany, France, United States",
            "Canada, Japan, United States",
            "Canada, Mexico, Germany, South Africa",
            "Canada, Spain, France",
            "Canada, United States",
            "Canada, United States, France",
            "Chile",
            "Chile, Peru",
            "China",
            "China, Canada, United States",
            "China, Hong Kong",
            "China, Japan",
            "China, Morocco, Hong Kong",
            "China, United States, Australia",
            "China, United States, United Kingdom",
            "Colombia",
            "Colombia, Mexico",
            "Czech Republic, United Kingdom, France",
            "Czech Republic, United States",
            "Denmark",
            "Denmark, France, United States, Sweden",
            "Denmark, Germany, Belgium, United Kingdom, France",
            "Denmark, Germany, Belgium, United Kingdom, France, Sweden",
            "Denmark, Sweden, Israel, United States",
            "Egypt",
            "Egypt, France",
            "France",
            "France, Belgium",
            "France, Belgium, China, United States",
            "France, Iran, United States",
            "France, Luxembourg, United States",
            "France, Netherlands, South Africa, Finland",
            "Georgia",
            "Germany",
            "Germany, Australia",
            "Germany, Belgium",
            "Germany, France, Luxembourg, United Kingdom, United States",
            "Germany, France, Russia",
            "Germany, United Kingdom",
            "Germany, United States",
            "Guatemala",
            "Hong Kong",
            "Hong Kong, China",
            "Hong Kong, China, United States",
            "Hong Kong, Taiwan",
            "Hong Kong, United States",
            "Hungary",
            "Iceland",
            "India",
            "India, Australia",
            "India, France",
            "India, Germany, Austria",
            "India, Iran",
            "India, United States",
            "Indonesia",
            "Indonesia, United States",
            "Ireland",
            "Ireland, Canada",
            "Ireland, Canada, Luxembourg, United States, United Kingdom, Philippines, India",
            "Ireland, Canada, United Kingdom, United States",
            "Ireland, Canada, United States, United Kingdom",
            "Ireland, United Kingdom, Greece, France, Netherlands",
            "Israel",
            "Israel, Germany",
            "Israel, United States",
            "Italy",
            "Italy, Switzerland, Albania, Poland",
            "Italy, Switzerland, France, Germany",
            "Italy, United States",
            "Italy, United States, Argentina",
            "Japan",
            "Japan, Canada",
            "Japan, United States",
            "Lebanon",
            "Malaysia",
            "Mexico",
            "Mexico, Argentina",
            "Mexico, Netherlands",
            "Mexico, Spain",
            "Mexico, United States",
            "Netherlands",
            "Netherlands, Belgium, Germany, Jordan",
            "Netherlands, Denmark, France, Germany",
            "New Zealand",
            "New Zealand, United Kingdom",
            "New Zealand, United Kingdom, Australia",
            "Nigeria",
            "Norway, Denmark, Netherlands, Sweden",
            "Norway, Germany, Sweden",
            "Norway, Iceland, United States",
            "Pakistan",
            "Peru",
            "Philippines",
            "Philippines, Qatar",
            "Poland",
            "Poland, United States",
            "Portugal, France, Poland, United States",
            "Russia",
            "Russia, Poland, Serbia",
            "Russia, Spain",
            "Saudi Arabia, Syria, Egypt, Lebanon, Kuwait",
            "Serbia, South Korea, Slovenia",
            "Serbia, United States",
            "Singapore",
            "Singapore, United States",
            "Somalia, Kenya, Sudan, South Africa, United States",
            "South Africa",
            "South Africa, China, United States",
            "South Africa, Germany, Netherlands, France",
            "South Africa, United States",
            "South Korea",
            "South Korea, China",
            "South Korea, France",
            "South Korea, United States",
            "Soviet Union, India",
            "Spain",
            "Spain, Colombia",
            "Spain, France",
            "Spain, Mexico",
            "Spain, Portugal",
            "Sweden",
            "Sweden, Netherlands",
            "Switzerland, United Kingdom, United States",
            "Switzerland, United States",
            "Taiwan",
            "Thailand",
            "Thailand, Canada, United States",
            "Turkey",
            "Turkey, United States",
            "Ukraine",
            "United Arab Emirates, United States",
            "United Arab Emirates, United States, United Kingdom",
            "United Kingdom",
            "United Kingdom, Canada",
            "United Kingdom, Canada, Italy",
            "United Kingdom, Canada, United States",
            "United Kingdom, Canada, United States, Cayman Islands",
            "United Kingdom, Canada, United States, Germany",
            "United Kingdom, China, United States",
            "United Kingdom, Denmark, Canada, Croatia",
            "United Kingdom, France",
            "United Kingdom, France, United States",
            "United Kingdom, Germany",
            "United Kingdom, India",
            "United Kingdom, India, United States",
            "United Kingdom, Ireland, United States",
            "United Kingdom, Japan",
            "United Kingdom, Namibia, South Africa, Zimbabwe, United States",
            "United Kingdom, New Zealand",
            "United Kingdom, South Africa, Australia, United States",
            "United Kingdom, Spain, United States, Germany",
            "United Kingdom, United States",
            "United Kingdom, United States, Australia",
            "United Kingdom, United States, Dominican Republic",
            "United Kingdom, United States, Morocco",
            "United Kingdom, West Germany",
            "United States",
            "United States,",
            "United States, Australia",
            "United States, Australia, South Africa, United Kingdom",
            "United States, Brazil, India, Uganda, China",
            "United States, Brazil, South Korea, Mexico, Japan, Germany",
            "United States, Bulgaria",
            "United States, Canada",
            "United States, Canada, Belgium, United Kingdom",
            "United States, Canada, Indonesia, United Kingdom, China, Singapore",
            "United States, Canada, Ireland",
            "United States, Chile",
            "United States, China, Hong Kong",
            "United States, Czech Republic",
            "United States, France",
            "United States, France, South Korea, Indonesia",
            "United States, India",
            "United States, India, Bangladesh",
            "United States, Indonesia",
            "United States, Israel, Italy, South Africa",
            "United States, Israel, United Kingdom, Canada",
            "United States, Italy",
            "United States, Japan, Canada",
            "United States, Mexico",
            "United States, New Zealand",
            "United States, South Africa",
            "United States, Sweden",
            "United States, United Arab Emirates",
            "United States, United Kingdom",
            "United States, United Kingdom, Canada, Japan",
            "United States, United Kingdom, France",
            "United States, United Kingdom, Germany",
            "United States, United Kingdom, Morocco",
            "United States, United Kingdom, Spain, South Korea",
            "Uruguay, Argentina, Spain",
            "Venezuela, Colombia",
            "Vietnam",
            "no_Country"
           ],
           "locationmode": "country names",
           "locations": [
            "Argentina",
            "Argentina, Brazil, France, Poland, Germany, Denmark",
            "Argentina, Chile",
            "Argentina, France",
            "Argentina, France, United States, Germany, Qatar",
            "Argentina, Italy",
            "Argentina, Spain",
            "Australia",
            "Australia, Iraq",
            "Australia, United Arab Emirates",
            "Australia, United Kingdom, Canada",
            "Australia, United Kingdom, United Arab Emirates, Canada",
            "Australia, United States",
            "Belgium",
            "Belgium, United Kingdom, United States",
            "Brazil",
            "Brazil, France",
            "Brazil, India, China, United States",
            "Bulgaria",
            "Bulgaria, United States",
            "Cambodia",
            "Canada",
            "Canada, France, Italy, Morocco, United States",
            "Canada, Germany, France, United States",
            "Canada, Japan, United States",
            "Canada, Mexico, Germany, South Africa",
            "Canada, Spain, France",
            "Canada, United States",
            "Canada, United States, France",
            "Chile",
            "Chile, Peru",
            "China",
            "China, Canada, United States",
            "China, Hong Kong",
            "China, Japan",
            "China, Morocco, Hong Kong",
            "China, United States, Australia",
            "China, United States, United Kingdom",
            "Colombia",
            "Colombia, Mexico",
            "Czech Republic, United Kingdom, France",
            "Czech Republic, United States",
            "Denmark",
            "Denmark, France, United States, Sweden",
            "Denmark, Germany, Belgium, United Kingdom, France",
            "Denmark, Germany, Belgium, United Kingdom, France, Sweden",
            "Denmark, Sweden, Israel, United States",
            "Egypt",
            "Egypt, France",
            "France",
            "France, Belgium",
            "France, Belgium, China, United States",
            "France, Iran, United States",
            "France, Luxembourg, United States",
            "France, Netherlands, South Africa, Finland",
            "Georgia",
            "Germany",
            "Germany, Australia",
            "Germany, Belgium",
            "Germany, France, Luxembourg, United Kingdom, United States",
            "Germany, France, Russia",
            "Germany, United Kingdom",
            "Germany, United States",
            "Guatemala",
            "Hong Kong",
            "Hong Kong, China",
            "Hong Kong, China, United States",
            "Hong Kong, Taiwan",
            "Hong Kong, United States",
            "Hungary",
            "Iceland",
            "India",
            "India, Australia",
            "India, France",
            "India, Germany, Austria",
            "India, Iran",
            "India, United States",
            "Indonesia",
            "Indonesia, United States",
            "Ireland",
            "Ireland, Canada",
            "Ireland, Canada, Luxembourg, United States, United Kingdom, Philippines, India",
            "Ireland, Canada, United Kingdom, United States",
            "Ireland, Canada, United States, United Kingdom",
            "Ireland, United Kingdom, Greece, France, Netherlands",
            "Israel",
            "Israel, Germany",
            "Israel, United States",
            "Italy",
            "Italy, Switzerland, Albania, Poland",
            "Italy, Switzerland, France, Germany",
            "Italy, United States",
            "Italy, United States, Argentina",
            "Japan",
            "Japan, Canada",
            "Japan, United States",
            "Lebanon",
            "Malaysia",
            "Mexico",
            "Mexico, Argentina",
            "Mexico, Netherlands",
            "Mexico, Spain",
            "Mexico, United States",
            "Netherlands",
            "Netherlands, Belgium, Germany, Jordan",
            "Netherlands, Denmark, France, Germany",
            "New Zealand",
            "New Zealand, United Kingdom",
            "New Zealand, United Kingdom, Australia",
            "Nigeria",
            "Norway, Denmark, Netherlands, Sweden",
            "Norway, Germany, Sweden",
            "Norway, Iceland, United States",
            "Pakistan",
            "Peru",
            "Philippines",
            "Philippines, Qatar",
            "Poland",
            "Poland, United States",
            "Portugal, France, Poland, United States",
            "Russia",
            "Russia, Poland, Serbia",
            "Russia, Spain",
            "Saudi Arabia, Syria, Egypt, Lebanon, Kuwait",
            "Serbia, South Korea, Slovenia",
            "Serbia, United States",
            "Singapore",
            "Singapore, United States",
            "Somalia, Kenya, Sudan, South Africa, United States",
            "South Africa",
            "South Africa, China, United States",
            "South Africa, Germany, Netherlands, France",
            "South Africa, United States",
            "South Korea",
            "South Korea, China",
            "South Korea, France",
            "South Korea, United States",
            "Soviet Union, India",
            "Spain",
            "Spain, Colombia",
            "Spain, France",
            "Spain, Mexico",
            "Spain, Portugal",
            "Sweden",
            "Sweden, Netherlands",
            "Switzerland, United Kingdom, United States",
            "Switzerland, United States",
            "Taiwan",
            "Thailand",
            "Thailand, Canada, United States",
            "Turkey",
            "Turkey, United States",
            "Ukraine",
            "United Arab Emirates, United States",
            "United Arab Emirates, United States, United Kingdom",
            "United Kingdom",
            "United Kingdom, Canada",
            "United Kingdom, Canada, Italy",
            "United Kingdom, Canada, United States",
            "United Kingdom, Canada, United States, Cayman Islands",
            "United Kingdom, Canada, United States, Germany",
            "United Kingdom, China, United States",
            "United Kingdom, Denmark, Canada, Croatia",
            "United Kingdom, France",
            "United Kingdom, France, United States",
            "United Kingdom, Germany",
            "United Kingdom, India",
            "United Kingdom, India, United States",
            "United Kingdom, Ireland, United States",
            "United Kingdom, Japan",
            "United Kingdom, Namibia, South Africa, Zimbabwe, United States",
            "United Kingdom, New Zealand",
            "United Kingdom, South Africa, Australia, United States",
            "United Kingdom, Spain, United States, Germany",
            "United Kingdom, United States",
            "United Kingdom, United States, Australia",
            "United Kingdom, United States, Dominican Republic",
            "United Kingdom, United States, Morocco",
            "United Kingdom, West Germany",
            "United States",
            "United States,",
            "United States, Australia",
            "United States, Australia, South Africa, United Kingdom",
            "United States, Brazil, India, Uganda, China",
            "United States, Brazil, South Korea, Mexico, Japan, Germany",
            "United States, Bulgaria",
            "United States, Canada",
            "United States, Canada, Belgium, United Kingdom",
            "United States, Canada, Indonesia, United Kingdom, China, Singapore",
            "United States, Canada, Ireland",
            "United States, Chile",
            "United States, China, Hong Kong",
            "United States, Czech Republic",
            "United States, France",
            "United States, France, South Korea, Indonesia",
            "United States, India",
            "United States, India, Bangladesh",
            "United States, Indonesia",
            "United States, Israel, Italy, South Africa",
            "United States, Israel, United Kingdom, Canada",
            "United States, Italy",
            "United States, Japan, Canada",
            "United States, Mexico",
            "United States, New Zealand",
            "United States, South Africa",
            "United States, Sweden",
            "United States, United Arab Emirates",
            "United States, United Kingdom",
            "United States, United Kingdom, Canada, Japan",
            "United States, United Kingdom, France",
            "United States, United Kingdom, Germany",
            "United States, United Kingdom, Morocco",
            "United States, United Kingdom, Spain, South Korea",
            "Uruguay, Argentina, Spain",
            "Venezuela, Colombia",
            "Vietnam",
            "no_Country"
           ],
           "name": "",
           "type": "choropleth",
           "z": [
            16,
            1,
            1,
            1,
            1,
            1,
            2,
            22,
            1,
            1,
            1,
            1,
            2,
            1,
            1,
            14,
            1,
            1,
            1,
            2,
            1,
            32,
            1,
            1,
            1,
            1,
            1,
            11,
            1,
            6,
            1,
            17,
            1,
            4,
            1,
            1,
            1,
            1,
            12,
            1,
            1,
            2,
            2,
            1,
            1,
            1,
            1,
            1,
            1,
            24,
            6,
            1,
            1,
            1,
            1,
            1,
            10,
            1,
            1,
            1,
            1,
            1,
            1,
            1,
            40,
            7,
            1,
            1,
            1,
            2,
            1,
            333,
            1,
            1,
            1,
            1,
            2,
            24,
            1,
            5,
            1,
            1,
            1,
            1,
            1,
            3,
            1,
            1,
            5,
            1,
            1,
            1,
            1,
            36,
            1,
            1,
            1,
            3,
            17,
            1,
            1,
            1,
            4,
            2,
            1,
            1,
            2,
            1,
            1,
            1,
            1,
            1,
            2,
            5,
            2,
            4,
            1,
            1,
            2,
            1,
            3,
            1,
            1,
            1,
            1,
            1,
            6,
            1,
            1,
            2,
            1,
            1,
            1,
            25,
            1,
            1,
            2,
            1,
            30,
            1,
            2,
            1,
            1,
            2,
            1,
            1,
            1,
            8,
            30,
            1,
            5,
            1,
            1,
            2,
            1,
            77,
            2,
            1,
            2,
            1,
            1,
            1,
            1,
            1,
            1,
            1,
            1,
            1,
            1,
            1,
            1,
            1,
            1,
            1,
            15,
            1,
            1,
            1,
            1,
            451,
            1,
            1,
            1,
            1,
            1,
            1,
            9,
            1,
            1,
            1,
            1,
            1,
            2,
            1,
            1,
            3,
            1,
            1,
            1,
            1,
            1,
            1,
            3,
            1,
            1,
            2,
            1,
            4,
            1,
            2,
            1,
            1,
            1,
            1,
            1,
            2,
            119
           ]
          }
         ],
         "name": "2018"
        },
        {
         "data": [
          {
           "coloraxis": "coloraxis",
           "geo": "geo",
           "hovertemplate": "<b>%{hovertext}</b><br><br>year_added=2019<br>country=%{location}<br>counts=%{z}<extra></extra>",
           "hovertext": [
            "Argentina",
            "Argentina, Spain",
            "Argentina, United States",
            "Argentina, United States, Mexico",
            "Argentina, Uruguay, Serbia",
            "Australia",
            "Australia, Canada",
            "Australia, France",
            "Australia, United States",
            "Austria",
            "Austria, Iraq, United States",
            "Austria, United States",
            "Bangladesh",
            "Belgium",
            "Brazil",
            "Brazil, United States",
            "Canada",
            "Canada, Australia",
            "Canada, Brazil",
            "Canada, France, United States",
            "Canada, Germany",
            "Canada, India",
            "Canada, Luxembourg",
            "Canada, Norway",
            "Canada, United States",
            "Canada, United States, India, United Kingdom",
            "Canada, United States, United Kingdom",
            "Chile",
            "Chile, Argentina",
            "China",
            "China, Hong Kong",
            "China, Hong Kong, United States",
            "China, Taiwan",
            "China, United Kingdom",
            "Colombia",
            "Colombia, Mexico, United States",
            "Colombia, Peru, United Kingdom",
            "Croatia",
            "Denmark",
            "Denmark, Brazil, France, Portugal, Sweden",
            "Denmark, China",
            "Denmark, France, Belgium, Italy, Netherlands, United States, United Kingdom",
            "Denmark, France, Poland",
            "Denmark, Spain",
            "Egypt",
            "Egypt, Austria, United States",
            "Finland, Germany, Belgium",
            "France",
            "France, Belgium",
            "France, Belgium, Luxembourg, Romania, Canada, United States",
            "France, Canada",
            "France, China, Japan, United States",
            "France, Germany, Czech Republic, Belgium",
            "France, Japan",
            "France, Luxembourg, Canada",
            "France, Senegal, Belgium",
            "France, Switzerland, Spain, United States, United Arab Emirates",
            "France, United States",
            "France, United States, Mexico",
            "Germany",
            "Germany, Canada, United States",
            "Germany, Italy",
            "Germany, United Kingdom",
            "Germany, United Kingdom, United States",
            "Germany, United States",
            "Germany, United States, Canada",
            "Germany, United States, Sweden",
            "Ghana",
            "Ghana, United States",
            "Hong Kong",
            "Hong Kong, China",
            "Hong Kong, China, Singapore",
            "Hong Kong, United States",
            "Iceland, Sweden, Belgium",
            "India",
            "India, France",
            "India, Germany",
            "India, Germany, France",
            "India, Japan",
            "India, Pakistan",
            "India, Turkey",
            "India, United Kingdom, Canada, United States",
            "India, United States",
            "Indonesia",
            "Indonesia, Singapore",
            "Iran, France",
            "Ireland",
            "Ireland, United States, France",
            "Israel",
            "Israel, Germany, Poland, Luxembourg, Belgium, France, United States",
            "Israel, United States",
            "Italy",
            "Italy, Belgium",
            "Italy, France",
            "Italy, France, Switzerland",
            "Italy, South Africa, West Germany, Australia, United States",
            "Italy, United States",
            "Japan",
            "Japan, United States",
            "Jordan",
            "Kuwait",
            "Lebanon",
            "Malaysia",
            "Malaysia, Singapore, Hong Kong",
            "Mauritius, South Africa",
            "Mexico",
            "Mexico, Finland",
            "Mexico, United States",
            "Mexico, United States, Spain, Colombia",
            "Netherlands",
            "Netherlands, Belgium",
            "New Zealand",
            "Nigeria",
            "Norway, Sweden",
            "Pakistan",
            "Pakistan, United Arab Emirates",
            "Paraguay, Argentina",
            "Peru",
            "Philippines",
            "Philippines, Singapore",
            "Philippines, United States",
            "Poland",
            "Poland,",
            "Poland, West Germany",
            "Romania",
            "Romania, Bulgaria, Hungary",
            "Russia",
            "Singapore, Japan, France",
            "Singapore, Malaysia",
            "Singapore, United States",
            "South Africa",
            "South Africa, Nigeria",
            "South Africa, United States, New Zealand, Canada",
            "South Korea",
            "South Korea, Canada, United States, China",
            "South Korea, Japan",
            "South Korea, United States",
            "Spain",
            "Spain, Belgium",
            "Spain, France",
            "Spain, France, Italy",
            "Spain, Italy",
            "Spain, United Kingdom",
            "Sweden",
            "Sweden, United Kingdom, Finland",
            "Sweden, United States",
            "Switzerland",
            "Switzerland, Vatican City, Italy, Germany, France",
            "Taiwan",
            "Taiwan, China, France, United States",
            "Taiwan, Hong Kong, United States, China",
            "Thailand",
            "Thailand, China, United States",
            "Turkey",
            "United Arab Emirates",
            "United Arab Emirates, United Kingdom, India",
            "United Kingdom",
            "United Kingdom, Belgium",
            "United Kingdom, Belgium, Sweden",
            "United Kingdom, Brazil, Germany",
            "United Kingdom, Canada",
            "United Kingdom, Canada, France, United States",
            "United Kingdom, Canada, United States",
            "United Kingdom, France",
            "United Kingdom, France, Belgium",
            "United Kingdom, France, Germany",
            "United Kingdom, France, United States",
            "United Kingdom, Germany",
            "United Kingdom, Germany, Canada, United States",
            "United Kingdom, Germany, United States",
            "United Kingdom, Hong Kong",
            "United Kingdom, Hungary, Australia",
            "United Kingdom, Ireland",
            "United Kingdom, Italy",
            "United Kingdom, Japan, United States",
            "United Kingdom, Malawi",
            "United Kingdom, Nigeria",
            "United Kingdom, Norway, Denmark, Germany, Sweden",
            "United Kingdom, Pakistan",
            "United Kingdom, Poland",
            "United Kingdom, Poland, United States",
            "United Kingdom, Russia, United States",
            "United Kingdom, South Korea",
            "United Kingdom, Thailand",
            "United Kingdom, United States",
            "United Kingdom, United States, Czech Republic",
            "United Kingdom, United States, France, Germany",
            "United Kingdom, United States, Germany, Denmark, Belgium, Japan",
            "United States",
            "United States, Australia",
            "United States, Australia, Mexico",
            "United States, Cambodia",
            "United States, Canada",
            "United States, Chile",
            "United States, China",
            "United States, Colombia",
            "United States, Czech Republic",
            "United States, Czech Republic, United Kingdom",
            "United States, France",
            "United States, France, Japan",
            "United States, France, United Kingdom, Japan",
            "United States, Germany",
            "United States, Germany, Australia",
            "United States, Germany, Canada",
            "United States, India",
            "United States, India, South Korea, China",
            "United States, India, United Arab Emirates",
            "United States, Ireland",
            "United States, Italy",
            "United States, Italy, United Kingdom, Liechtenstein",
            "United States, Japan",
            "United States, Mexico",
            "United States, Morocco",
            "United States, New Zealand, United Kingdom",
            "United States, Poland",
            "United States, South Africa",
            "United States, South Korea, Japan",
            "United States, Spain",
            "United States, Spain, Germany",
            "United States, Sweden",
            "United States, Taiwan",
            "United States, United Arab Emirates",
            "United States, United Kingdom",
            "United States, United Kingdom, Australia",
            "United States, United Kingdom, Germany",
            "United States, United Kingdom, Italy",
            "Uruguay",
            "Uruguay, Guatemala",
            "Uruguay, Spain, Mexico",
            "Vietnam",
            "no_Country"
           ],
           "locationmode": "country names",
           "locations": [
            "Argentina",
            "Argentina, Spain",
            "Argentina, United States",
            "Argentina, United States, Mexico",
            "Argentina, Uruguay, Serbia",
            "Australia",
            "Australia, Canada",
            "Australia, France",
            "Australia, United States",
            "Austria",
            "Austria, Iraq, United States",
            "Austria, United States",
            "Bangladesh",
            "Belgium",
            "Brazil",
            "Brazil, United States",
            "Canada",
            "Canada, Australia",
            "Canada, Brazil",
            "Canada, France, United States",
            "Canada, Germany",
            "Canada, India",
            "Canada, Luxembourg",
            "Canada, Norway",
            "Canada, United States",
            "Canada, United States, India, United Kingdom",
            "Canada, United States, United Kingdom",
            "Chile",
            "Chile, Argentina",
            "China",
            "China, Hong Kong",
            "China, Hong Kong, United States",
            "China, Taiwan",
            "China, United Kingdom",
            "Colombia",
            "Colombia, Mexico, United States",
            "Colombia, Peru, United Kingdom",
            "Croatia",
            "Denmark",
            "Denmark, Brazil, France, Portugal, Sweden",
            "Denmark, China",
            "Denmark, France, Belgium, Italy, Netherlands, United States, United Kingdom",
            "Denmark, France, Poland",
            "Denmark, Spain",
            "Egypt",
            "Egypt, Austria, United States",
            "Finland, Germany, Belgium",
            "France",
            "France, Belgium",
            "France, Belgium, Luxembourg, Romania, Canada, United States",
            "France, Canada",
            "France, China, Japan, United States",
            "France, Germany, Czech Republic, Belgium",
            "France, Japan",
            "France, Luxembourg, Canada",
            "France, Senegal, Belgium",
            "France, Switzerland, Spain, United States, United Arab Emirates",
            "France, United States",
            "France, United States, Mexico",
            "Germany",
            "Germany, Canada, United States",
            "Germany, Italy",
            "Germany, United Kingdom",
            "Germany, United Kingdom, United States",
            "Germany, United States",
            "Germany, United States, Canada",
            "Germany, United States, Sweden",
            "Ghana",
            "Ghana, United States",
            "Hong Kong",
            "Hong Kong, China",
            "Hong Kong, China, Singapore",
            "Hong Kong, United States",
            "Iceland, Sweden, Belgium",
            "India",
            "India, France",
            "India, Germany",
            "India, Germany, France",
            "India, Japan",
            "India, Pakistan",
            "India, Turkey",
            "India, United Kingdom, Canada, United States",
            "India, United States",
            "Indonesia",
            "Indonesia, Singapore",
            "Iran, France",
            "Ireland",
            "Ireland, United States, France",
            "Israel",
            "Israel, Germany, Poland, Luxembourg, Belgium, France, United States",
            "Israel, United States",
            "Italy",
            "Italy, Belgium",
            "Italy, France",
            "Italy, France, Switzerland",
            "Italy, South Africa, West Germany, Australia, United States",
            "Italy, United States",
            "Japan",
            "Japan, United States",
            "Jordan",
            "Kuwait",
            "Lebanon",
            "Malaysia",
            "Malaysia, Singapore, Hong Kong",
            "Mauritius, South Africa",
            "Mexico",
            "Mexico, Finland",
            "Mexico, United States",
            "Mexico, United States, Spain, Colombia",
            "Netherlands",
            "Netherlands, Belgium",
            "New Zealand",
            "Nigeria",
            "Norway, Sweden",
            "Pakistan",
            "Pakistan, United Arab Emirates",
            "Paraguay, Argentina",
            "Peru",
            "Philippines",
            "Philippines, Singapore",
            "Philippines, United States",
            "Poland",
            "Poland,",
            "Poland, West Germany",
            "Romania",
            "Romania, Bulgaria, Hungary",
            "Russia",
            "Singapore, Japan, France",
            "Singapore, Malaysia",
            "Singapore, United States",
            "South Africa",
            "South Africa, Nigeria",
            "South Africa, United States, New Zealand, Canada",
            "South Korea",
            "South Korea, Canada, United States, China",
            "South Korea, Japan",
            "South Korea, United States",
            "Spain",
            "Spain, Belgium",
            "Spain, France",
            "Spain, France, Italy",
            "Spain, Italy",
            "Spain, United Kingdom",
            "Sweden",
            "Sweden, United Kingdom, Finland",
            "Sweden, United States",
            "Switzerland",
            "Switzerland, Vatican City, Italy, Germany, France",
            "Taiwan",
            "Taiwan, China, France, United States",
            "Taiwan, Hong Kong, United States, China",
            "Thailand",
            "Thailand, China, United States",
            "Turkey",
            "United Arab Emirates",
            "United Arab Emirates, United Kingdom, India",
            "United Kingdom",
            "United Kingdom, Belgium",
            "United Kingdom, Belgium, Sweden",
            "United Kingdom, Brazil, Germany",
            "United Kingdom, Canada",
            "United Kingdom, Canada, France, United States",
            "United Kingdom, Canada, United States",
            "United Kingdom, France",
            "United Kingdom, France, Belgium",
            "United Kingdom, France, Germany",
            "United Kingdom, France, United States",
            "United Kingdom, Germany",
            "United Kingdom, Germany, Canada, United States",
            "United Kingdom, Germany, United States",
            "United Kingdom, Hong Kong",
            "United Kingdom, Hungary, Australia",
            "United Kingdom, Ireland",
            "United Kingdom, Italy",
            "United Kingdom, Japan, United States",
            "United Kingdom, Malawi",
            "United Kingdom, Nigeria",
            "United Kingdom, Norway, Denmark, Germany, Sweden",
            "United Kingdom, Pakistan",
            "United Kingdom, Poland",
            "United Kingdom, Poland, United States",
            "United Kingdom, Russia, United States",
            "United Kingdom, South Korea",
            "United Kingdom, Thailand",
            "United Kingdom, United States",
            "United Kingdom, United States, Czech Republic",
            "United Kingdom, United States, France, Germany",
            "United Kingdom, United States, Germany, Denmark, Belgium, Japan",
            "United States",
            "United States, Australia",
            "United States, Australia, Mexico",
            "United States, Cambodia",
            "United States, Canada",
            "United States, Chile",
            "United States, China",
            "United States, Colombia",
            "United States, Czech Republic",
            "United States, Czech Republic, United Kingdom",
            "United States, France",
            "United States, France, Japan",
            "United States, France, United Kingdom, Japan",
            "United States, Germany",
            "United States, Germany, Australia",
            "United States, Germany, Canada",
            "United States, India",
            "United States, India, South Korea, China",
            "United States, India, United Arab Emirates",
            "United States, Ireland",
            "United States, Italy",
            "United States, Italy, United Kingdom, Liechtenstein",
            "United States, Japan",
            "United States, Mexico",
            "United States, Morocco",
            "United States, New Zealand, United Kingdom",
            "United States, Poland",
            "United States, South Africa",
            "United States, South Korea, Japan",
            "United States, Spain",
            "United States, Spain, Germany",
            "United States, Sweden",
            "United States, Taiwan",
            "United States, United Arab Emirates",
            "United States, United Kingdom",
            "United States, United Kingdom, Australia",
            "United States, United Kingdom, Germany",
            "United States, United Kingdom, Italy",
            "Uruguay",
            "Uruguay, Guatemala",
            "Uruguay, Spain, Mexico",
            "Vietnam",
            "no_Country"
           ],
           "name": "",
           "type": "choropleth",
           "z": [
            11,
            2,
            1,
            1,
            1,
            18,
            1,
            1,
            2,
            1,
            1,
            1,
            2,
            2,
            18,
            1,
            38,
            1,
            1,
            1,
            1,
            1,
            1,
            1,
            6,
            1,
            1,
            1,
            1,
            17,
            4,
            1,
            1,
            1,
            8,
            1,
            1,
            1,
            5,
            1,
            1,
            1,
            1,
            1,
            53,
            1,
            1,
            29,
            4,
            1,
            1,
            1,
            1,
            1,
            1,
            1,
            1,
            3,
            1,
            10,
            1,
            1,
            1,
            1,
            2,
            1,
            1,
            1,
            1,
            10,
            5,
            1,
            1,
            1,
            203,
            1,
            1,
            1,
            1,
            1,
            1,
            1,
            2,
            16,
            2,
            1,
            1,
            1,
            3,
            1,
            2,
            6,
            1,
            1,
            1,
            1,
            1,
            58,
            1,
            1,
            1,
            3,
            6,
            1,
            1,
            25,
            1,
            3,
            1,
            5,
            1,
            3,
            27,
            1,
            6,
            1,
            1,
            1,
            37,
            1,
            1,
            9,
            1,
            1,
            1,
            1,
            3,
            1,
            1,
            1,
            3,
            1,
            1,
            53,
            1,
            1,
            1,
            37,
            1,
            3,
            1,
            1,
            2,
            2,
            1,
            1,
            1,
            1,
            20,
            1,
            1,
            17,
            1,
            18,
            2,
            1,
            102,
            1,
            1,
            1,
            2,
            1,
            2,
            3,
            1,
            1,
            1,
            2,
            1,
            1,
            1,
            1,
            1,
            1,
            1,
            1,
            1,
            1,
            1,
            1,
            1,
            1,
            1,
            1,
            18,
            1,
            1,
            1,
            677,
            4,
            1,
            1,
            15,
            1,
            3,
            1,
            1,
            1,
            5,
            1,
            1,
            7,
            1,
            1,
            1,
            1,
            1,
            1,
            1,
            1,
            5,
            4,
            1,
            1,
            1,
            2,
            1,
            1,
            1,
            1,
            1,
            2,
            15,
            3,
            1,
            1,
            1,
            1,
            1,
            1,
            158
           ]
          }
         ],
         "name": "2019"
        },
        {
         "data": [
          {
           "coloraxis": "coloraxis",
           "geo": "geo",
           "hovertemplate": "<b>%{hovertext}</b><br><br>year_added=2020<br>country=%{location}<br>counts=%{z}<extra></extra>",
           "hovertext": [
            "Argentina",
            "Argentina, Spain",
            "Australia",
            "Australia, New Zealand, United States",
            "Australia, United Kingdom",
            "Australia, United States",
            "Austria",
            "Austria, Germany",
            "Belarus",
            "Belgium",
            "Brazil",
            "Brazil, France",
            "Brazil, France, Germany",
            "Brazil, United Kingdom",
            "Canada",
            "Canada, Belgium",
            "Canada, Nigeria",
            "Canada, South Africa",
            "Canada, South Korea, United States",
            "Canada, United Kingdom",
            "Canada, United States",
            "Canada, United States, Germany",
            "Canada, United States, Ireland",
            "Canada, United States, United Kingdom",
            "Canada, United States, United Kingdom, France, Luxembourg",
            "Chile",
            "Chile, Italy",
            "China",
            "China, Canada, United States",
            "China, Spain, South Korea, United States",
            "China, United States",
            "Colombia",
            "Cyprus",
            "Denmark",
            "Denmark, Singapore, Canada, United States",
            "Denmark, United States",
            "Egypt",
            "Egypt, Algeria",
            "Egypt, France",
            "Finland, France",
            "Finland, United States",
            "France",
            "France, Algeria",
            "France, Australia, Germany",
            "France, Belgium",
            "France, Belgium, Italy",
            "France, Belgium, Luxembourg, Cambodia,",
            "France, Belgium, United States",
            "France, Brazil, Spain, Belgium",
            "France, Canada, Italy, United States, China",
            "France, Canada, United States",
            "France, Egypt",
            "France, Lebanon",
            "France, Lebanon, United Kingdom",
            "France, Malta, United States",
            "France, New Zealand",
            "France, Norway, Lebanon, Belgium",
            "France, South Korea, Japan, United States",
            "France, United Kingdom, United States",
            "France, United States",
            "Germany",
            "Germany, China, United Kingdom",
            "Germany, Czech Republic",
            "Germany, France, United States, Canada, United Kingdom",
            "Germany, United States",
            "Germany, United States, United Kingdom, Canada",
            "Ghana",
            "Hong Kong, China",
            "Hong Kong, China, United States",
            "Hong Kong, Iceland, United States",
            "Hong Kong, United States",
            "Hungary",
            "Iceland",
            "India",
            "India, United Kingdom, China, Canada, Japan, South Korea, United States",
            "India, United States",
            "Indonesia",
            "Indonesia, Netherlands",
            "Indonesia, South Korea, Singapore",
            "Indonesia, United Kingdom",
            "Ireland",
            "Ireland, France, Iceland, United States, Mexico, Belgium, United Kingdom, Hong Kong",
            "Ireland, Luxembourg, Belgium",
            "Ireland, United Kingdom",
            "Ireland, United Kingdom, United States",
            "Ireland, United States",
            "Israel",
            "Italy",
            "Italy, France",
            "Italy, Turkey",
            "Italy, United Kingdom, France",
            "Jamaica, United States",
            "Japan",
            "Japan, Canada, United States",
            "Japan, United States",
            "Kenya",
            "Kenya, United States",
            "Kuwait",
            "Lebanon",
            "Lebanon, Canada, France",
            "Lebanon, France",
            "Lebanon, United Arab Emirates, France, Switzerland, Germany",
            "Lebanon, United States, United Arab Emirates",
            "Malaysia",
            "Mexico",
            "Mexico, Spain",
            "Mexico, United States",
            "Mozambique",
            "Namibia",
            "Netherlands",
            "Netherlands, Germany, Denmark, United Kingdom",
            "Netherlands, Germany, Italy, Canada",
            "New Zealand",
            "New Zealand, United States",
            "Nigeria",
            "Nigeria, United Kingdom",
            "Norway",
            "Pakistan, United States",
            "Peru, Germany, Norway",
            "Philippines",
            "Philippines, Canada, United Kingdom, United States",
            "Poland",
            "Poland, United States",
            "Puerto Rico, United States, Colombia",
            "Romania",
            "Romania, France, Switzerland, Germany",
            "Romania, United Kingdom",
            "Romania, United States",
            "Russia",
            "Russia, United States, China",
            "Saudi Arabia",
            "Saudi Arabia, Netherlands, Germany, Jordan, United Arab Emirates, United States",
            "Saudi Arabia, United Arab Emirates",
            "Senegal",
            "Serbia, United States",
            "Singapore",
            "South Africa",
            "South Africa, Angola",
            "South Africa, United States",
            "South Korea",
            "South Korea, United States",
            "Spain",
            "Spain, Canada, United States",
            "Spain, France, Canada",
            "Spain, France, Canada, United States",
            "Spain, France, United States",
            "Spain, Germany",
            "Spain, Germany, Denmark, United States",
            "Spain, Italy",
            "Spain, Thailand, United States",
            "Sweden",
            "Sweden, Czech Republic, United Kingdom, Denmark, Netherlands",
            "Switzerland, France, Belgium, United States",
            "Taiwan",
            "Taiwan, China",
            "Taiwan, Malaysia",
            "Thailand",
            "Thailand, United States",
            "Turkey",
            "Turkey, India",
            "Turkey, South Korea",
            "Turkey, United States",
            "United Arab Emirates",
            "United Arab Emirates, Jordan, Lebanon, Saudi Arabia",
            "United Kingdom",
            "United Kingdom, Australia",
            "United Kingdom, Canada, United States",
            "United Kingdom, China",
            "United Kingdom, China, United States, India",
            "United Kingdom, Czech Republic, Germany, United States",
            "United Kingdom, Czech Republic, United States, Germany, Bahamas",
            "United Kingdom, Finland, Germany, United States, Australia, Japan, France, Ireland",
            "United Kingdom, France, Belgium, Canada, United States",
            "United Kingdom, France, Belgium, Ireland, United States",
            "United Kingdom, France, Germany, Spain",
            "United Kingdom, France, Germany, United States",
            "United Kingdom, France, United States",
            "United Kingdom, France, United States, Belgium, Luxembourg, China, Germany",
            "United Kingdom, Germany, United Arab Emirates, New Zealand",
            "United Kingdom, Germany, United States, France",
            "United Kingdom, Italy",
            "United Kingdom, Japan, United States",
            "United Kingdom, Kenya",
            "United Kingdom, Nigeria",
            "United Kingdom, Singapore",
            "United Kingdom, Spain",
            "United Kingdom, United States",
            "United Kingdom, United States, Australia",
            "United Kingdom, United States, Canada",
            "United Kingdom, United States, France",
            "United Kingdom, United States, Ireland",
            "United Kingdom, United States, Japan",
            "United States",
            "United States, Argentina",
            "United States, Australia",
            "United States, Belgium, Canada, France",
            "United States, Botswana",
            "United States, Bulgaria",
            "United States, Canada",
            "United States, Canada, China",
            "United States, Canada, France",
            "United States, Canada, Germany",
            "United States, Canada, United Kingdom",
            "United States, Chile, Israel",
            "United States, China",
            "United States, China, Canada",
            "United States, China, Colombia",
            "United States, Czech Republic",
            "United States, East Germany, West Germany",
            "United States, France",
            "United States, France, Canada",
            "United States, France, Canada, Belgium",
            "United States, France, Denmark",
            "United States, France, Japan",
            "United States, France, Mexico",
            "United States, France, Serbia",
            "United States, Germany",
            "United States, Germany, Canada",
            "United States, Germany, Mexico",
            "United States, Germany, United Kingdom",
            "United States, Germany, United Kingdom, Italy",
            "United States, Greece",
            "United States, Hong Kong",
            "United States, India",
            "United States, Ireland, United Kingdom, India",
            "United States, Italy",
            "United States, Japan",
            "United States, Malta, France, United Kingdom",
            "United States, Mexico",
            "United States, Mexico, Colombia",
            "United States, Mexico, Spain, Malta",
            "United States, Nigeria",
            "United States, Norway, Canada",
            "United States, Philippines",
            "United States, Russia",
            "United States, South Korea",
            "United States, South Korea, China",
            "United States, Spain",
            "United States, United Kingdom",
            "United States, United Kingdom, Canada",
            "United States, United Kingdom, Canada, China",
            "United States, United Kingdom, France, Germany, Japan",
            "United States, United Kingdom, India",
            "United States, United Kingdom, Japan",
            "Uruguay",
            "Uruguay, Argentina",
            "Uruguay, Argentina, Germany, Spain",
            "Vietnam",
            "Zimbabwe",
            "no_Country"
           ],
           "locationmode": "country names",
           "locations": [
            "Argentina",
            "Argentina, Spain",
            "Australia",
            "Australia, New Zealand, United States",
            "Australia, United Kingdom",
            "Australia, United States",
            "Austria",
            "Austria, Germany",
            "Belarus",
            "Belgium",
            "Brazil",
            "Brazil, France",
            "Brazil, France, Germany",
            "Brazil, United Kingdom",
            "Canada",
            "Canada, Belgium",
            "Canada, Nigeria",
            "Canada, South Africa",
            "Canada, South Korea, United States",
            "Canada, United Kingdom",
            "Canada, United States",
            "Canada, United States, Germany",
            "Canada, United States, Ireland",
            "Canada, United States, United Kingdom",
            "Canada, United States, United Kingdom, France, Luxembourg",
            "Chile",
            "Chile, Italy",
            "China",
            "China, Canada, United States",
            "China, Spain, South Korea, United States",
            "China, United States",
            "Colombia",
            "Cyprus",
            "Denmark",
            "Denmark, Singapore, Canada, United States",
            "Denmark, United States",
            "Egypt",
            "Egypt, Algeria",
            "Egypt, France",
            "Finland, France",
            "Finland, United States",
            "France",
            "France, Algeria",
            "France, Australia, Germany",
            "France, Belgium",
            "France, Belgium, Italy",
            "France, Belgium, Luxembourg, Cambodia,",
            "France, Belgium, United States",
            "France, Brazil, Spain, Belgium",
            "France, Canada, Italy, United States, China",
            "France, Canada, United States",
            "France, Egypt",
            "France, Lebanon",
            "France, Lebanon, United Kingdom",
            "France, Malta, United States",
            "France, New Zealand",
            "France, Norway, Lebanon, Belgium",
            "France, South Korea, Japan, United States",
            "France, United Kingdom, United States",
            "France, United States",
            "Germany",
            "Germany, China, United Kingdom",
            "Germany, Czech Republic",
            "Germany, France, United States, Canada, United Kingdom",
            "Germany, United States",
            "Germany, United States, United Kingdom, Canada",
            "Ghana",
            "Hong Kong, China",
            "Hong Kong, China, United States",
            "Hong Kong, Iceland, United States",
            "Hong Kong, United States",
            "Hungary",
            "Iceland",
            "India",
            "India, United Kingdom, China, Canada, Japan, South Korea, United States",
            "India, United States",
            "Indonesia",
            "Indonesia, Netherlands",
            "Indonesia, South Korea, Singapore",
            "Indonesia, United Kingdom",
            "Ireland",
            "Ireland, France, Iceland, United States, Mexico, Belgium, United Kingdom, Hong Kong",
            "Ireland, Luxembourg, Belgium",
            "Ireland, United Kingdom",
            "Ireland, United Kingdom, United States",
            "Ireland, United States",
            "Israel",
            "Italy",
            "Italy, France",
            "Italy, Turkey",
            "Italy, United Kingdom, France",
            "Jamaica, United States",
            "Japan",
            "Japan, Canada, United States",
            "Japan, United States",
            "Kenya",
            "Kenya, United States",
            "Kuwait",
            "Lebanon",
            "Lebanon, Canada, France",
            "Lebanon, France",
            "Lebanon, United Arab Emirates, France, Switzerland, Germany",
            "Lebanon, United States, United Arab Emirates",
            "Malaysia",
            "Mexico",
            "Mexico, Spain",
            "Mexico, United States",
            "Mozambique",
            "Namibia",
            "Netherlands",
            "Netherlands, Germany, Denmark, United Kingdom",
            "Netherlands, Germany, Italy, Canada",
            "New Zealand",
            "New Zealand, United States",
            "Nigeria",
            "Nigeria, United Kingdom",
            "Norway",
            "Pakistan, United States",
            "Peru, Germany, Norway",
            "Philippines",
            "Philippines, Canada, United Kingdom, United States",
            "Poland",
            "Poland, United States",
            "Puerto Rico, United States, Colombia",
            "Romania",
            "Romania, France, Switzerland, Germany",
            "Romania, United Kingdom",
            "Romania, United States",
            "Russia",
            "Russia, United States, China",
            "Saudi Arabia",
            "Saudi Arabia, Netherlands, Germany, Jordan, United Arab Emirates, United States",
            "Saudi Arabia, United Arab Emirates",
            "Senegal",
            "Serbia, United States",
            "Singapore",
            "South Africa",
            "South Africa, Angola",
            "South Africa, United States",
            "South Korea",
            "South Korea, United States",
            "Spain",
            "Spain, Canada, United States",
            "Spain, France, Canada",
            "Spain, France, Canada, United States",
            "Spain, France, United States",
            "Spain, Germany",
            "Spain, Germany, Denmark, United States",
            "Spain, Italy",
            "Spain, Thailand, United States",
            "Sweden",
            "Sweden, Czech Republic, United Kingdom, Denmark, Netherlands",
            "Switzerland, France, Belgium, United States",
            "Taiwan",
            "Taiwan, China",
            "Taiwan, Malaysia",
            "Thailand",
            "Thailand, United States",
            "Turkey",
            "Turkey, India",
            "Turkey, South Korea",
            "Turkey, United States",
            "United Arab Emirates",
            "United Arab Emirates, Jordan, Lebanon, Saudi Arabia",
            "United Kingdom",
            "United Kingdom, Australia",
            "United Kingdom, Canada, United States",
            "United Kingdom, China",
            "United Kingdom, China, United States, India",
            "United Kingdom, Czech Republic, Germany, United States",
            "United Kingdom, Czech Republic, United States, Germany, Bahamas",
            "United Kingdom, Finland, Germany, United States, Australia, Japan, France, Ireland",
            "United Kingdom, France, Belgium, Canada, United States",
            "United Kingdom, France, Belgium, Ireland, United States",
            "United Kingdom, France, Germany, Spain",
            "United Kingdom, France, Germany, United States",
            "United Kingdom, France, United States",
            "United Kingdom, France, United States, Belgium, Luxembourg, China, Germany",
            "United Kingdom, Germany, United Arab Emirates, New Zealand",
            "United Kingdom, Germany, United States, France",
            "United Kingdom, Italy",
            "United Kingdom, Japan, United States",
            "United Kingdom, Kenya",
            "United Kingdom, Nigeria",
            "United Kingdom, Singapore",
            "United Kingdom, Spain",
            "United Kingdom, United States",
            "United Kingdom, United States, Australia",
            "United Kingdom, United States, Canada",
            "United Kingdom, United States, France",
            "United Kingdom, United States, Ireland",
            "United Kingdom, United States, Japan",
            "United States",
            "United States, Argentina",
            "United States, Australia",
            "United States, Belgium, Canada, France",
            "United States, Botswana",
            "United States, Bulgaria",
            "United States, Canada",
            "United States, Canada, China",
            "United States, Canada, France",
            "United States, Canada, Germany",
            "United States, Canada, United Kingdom",
            "United States, Chile, Israel",
            "United States, China",
            "United States, China, Canada",
            "United States, China, Colombia",
            "United States, Czech Republic",
            "United States, East Germany, West Germany",
            "United States, France",
            "United States, France, Canada",
            "United States, France, Canada, Belgium",
            "United States, France, Denmark",
            "United States, France, Japan",
            "United States, France, Mexico",
            "United States, France, Serbia",
            "United States, Germany",
            "United States, Germany, Canada",
            "United States, Germany, Mexico",
            "United States, Germany, United Kingdom",
            "United States, Germany, United Kingdom, Italy",
            "United States, Greece",
            "United States, Hong Kong",
            "United States, India",
            "United States, Ireland, United Kingdom, India",
            "United States, Italy",
            "United States, Japan",
            "United States, Malta, France, United Kingdom",
            "United States, Mexico",
            "United States, Mexico, Colombia",
            "United States, Mexico, Spain, Malta",
            "United States, Nigeria",
            "United States, Norway, Canada",
            "United States, Philippines",
            "United States, Russia",
            "United States, South Korea",
            "United States, South Korea, China",
            "United States, Spain",
            "United States, United Kingdom",
            "United States, United Kingdom, Canada",
            "United States, United Kingdom, Canada, China",
            "United States, United Kingdom, France, Germany, Japan",
            "United States, United Kingdom, India",
            "United States, United Kingdom, Japan",
            "Uruguay",
            "Uruguay, Argentina",
            "Uruguay, Argentina, Germany, Spain",
            "Vietnam",
            "Zimbabwe",
            "no_Country"
           ],
           "name": "",
           "type": "choropleth",
           "z": [
            12,
            1,
            16,
            1,
            1,
            3,
            2,
            1,
            1,
            2,
            23,
            1,
            1,
            1,
            48,
            1,
            1,
            1,
            1,
            1,
            7,
            1,
            1,
            1,
            1,
            3,
            1,
            6,
            1,
            1,
            1,
            7,
            1,
            2,
            1,
            2,
            47,
            1,
            1,
            1,
            1,
            30,
            1,
            1,
            5,
            1,
            1,
            1,
            1,
            1,
            1,
            3,
            1,
            1,
            1,
            1,
            1,
            1,
            1,
            3,
            19,
            1,
            1,
            1,
            3,
            1,
            2,
            1,
            1,
            1,
            1,
            2,
            2,
            189,
            1,
            3,
            25,
            1,
            1,
            1,
            1,
            1,
            1,
            1,
            1,
            1,
            1,
            17,
            1,
            1,
            1,
            1,
            62,
            1,
            4,
            2,
            1,
            5,
            9,
            2,
            1,
            1,
            1,
            5,
            18,
            3,
            2,
            1,
            1,
            6,
            1,
            1,
            2,
            2,
            38,
            1,
            5,
            1,
            1,
            30,
            1,
            8,
            2,
            1,
            2,
            1,
            1,
            1,
            2,
            1,
            6,
            1,
            1,
            1,
            1,
            1,
            20,
            1,
            2,
            46,
            2,
            23,
            1,
            1,
            1,
            1,
            2,
            1,
            1,
            1,
            3,
            1,
            1,
            10,
            1,
            1,
            6,
            1,
            24,
            1,
            1,
            1,
            8,
            1,
            60,
            1,
            2,
            1,
            1,
            1,
            1,
            1,
            1,
            1,
            1,
            1,
            2,
            1,
            1,
            1,
            1,
            1,
            1,
            1,
            1,
            1,
            19,
            1,
            1,
            1,
            1,
            1,
            624,
            1,
            2,
            1,
            1,
            1,
            15,
            1,
            1,
            1,
            1,
            1,
            2,
            1,
            1,
            1,
            1,
            3,
            1,
            1,
            1,
            1,
            1,
            1,
            4,
            1,
            1,
            1,
            1,
            2,
            1,
            2,
            1,
            1,
            4,
            1,
            2,
            1,
            1,
            1,
            1,
            1,
            2,
            1,
            1,
            1,
            8,
            1,
            1,
            1,
            1,
            1,
            1,
            1,
            1,
            1,
            1,
            108
           ]
          }
         ],
         "name": "2020"
        },
        {
         "data": [
          {
           "coloraxis": "coloraxis",
           "geo": "geo",
           "hovertemplate": "<b>%{hovertext}</b><br><br>year_added=2021<br>country=%{location}<br>counts=%{z}<extra></extra>",
           "hovertext": [
            ", France, Algeria",
            ", South Korea",
            "Argentina",
            "Argentina, Chile",
            "Argentina, Spain",
            "Argentina, Venezuela",
            "Australia",
            "Australia, Germany",
            "Australia, New Zealand",
            "Australia, United Kingdom",
            "Australia, United States",
            "Austria",
            "Bangladesh",
            "Belgium",
            "Belgium, France",
            "Belgium, Netherlands",
            "Belgium, United Kingdom",
            "Brazil",
            "Bulgaria, United States",
            "Cameroon",
            "Canada",
            "Canada, Hungary, United States",
            "Canada, Nigeria, United States",
            "Canada, South Africa",
            "Canada, United Kingdom, United States",
            "Canada, United States",
            "Canada, United States, Cayman Islands",
            "Canada, United States, Denmark",
            "Canada, United States, France",
            "Canada, United States, Mexico",
            "Canada, United States, United Kingdom",
            "Chile, Brazil",
            "China",
            "China, Canada, United States",
            "China, Hong Kong",
            "China, Taiwan",
            "China, United Kingdom",
            "China, United States, Canada",
            "Colombia",
            "Czech Republic, United Kingdom, United States",
            "Denmark",
            "Egypt",
            "Egypt, Denmark, Germany",
            "Egypt, Saudi Arabia",
            "Finland",
            "Finland, Germany",
            "France",
            "France, Belgium",
            "France, Canada",
            "France, Canada, United States, Spain",
            "France, Israel, Germany, United States, United Kingdom",
            "France, Japan, United States",
            "France, Netherlands, Singapore",
            "France, United Kingdom",
            "France, United States",
            "France, United States, United Kingdom, Canada",
            "Germany",
            "Germany, Czech Republic",
            "Germany, France",
            "Germany, United States",
            "Germany, United States, France",
            "Hong Kong",
            "Hong Kong, Canada, United States",
            "Hong Kong, United States",
            "Hungary, United States",
            "Iceland",
            "India",
            "India, France",
            "India, Nepal",
            "India, United Kingdom",
            "India, United Kingdom, France, Qatar",
            "India, United States",
            "Indonesia",
            "Ireland",
            "Ireland, Switzerland, United Kingdom, France, United States",
            "Ireland, United Kingdom, France, Germany",
            "Ireland, United States, United Kingdom",
            "Israel",
            "Israel, United States",
            "Italy",
            "Italy, Brazil, Greece",
            "Italy, United Kingdom",
            "Italy, United States",
            "Japan",
            "Japan, United States",
            "Jordan",
            "Kenya",
            "Kuwait, United States",
            "Lebanon",
            "Lebanon, Palestine, Denmark, Qatar",
            "Lebanon, Syria",
            "Lebanon, United Arab Emirates",
            "Luxembourg",
            "Malaysia",
            "Mauritius",
            "Mexico",
            "Mexico, Brazil",
            "Mexico, France, Colombia",
            "Mexico, United States",
            "Netherlands",
            "New Zealand",
            "New Zealand, Australia, France, United States",
            "Nigeria",
            "Norway",
            "Norway, Denmark",
            "Philippines",
            "Philippines, Singapore, Indonesia",
            "Poland",
            "Portugal, Spain",
            "Portugal, United States",
            "Romania",
            "Russia",
            "Russia, United States",
            "Saudi Arabia",
            "South Africa",
            "South Africa, United States",
            "South Africa, United States, Japan",
            "South Korea",
            "South Korea, Czech Republic",
            "Spain",
            "Spain, Argentina",
            "Spain, Belgium, United States",
            "Spain, France, United Kingdom, United States",
            "Spain, United Kingdom, United States",
            "Spain, United States",
            "Sweden",
            "Switzerland, United Kingdom, Australia",
            "Syria, France, Lebanon, Qatar",
            "Taiwan",
            "Thailand",
            "Turkey",
            "United Arab Emirates",
            "United Kingdom",
            "United Kingdom,",
            "United Kingdom, Australia, France",
            "United Kingdom, Australia, France, United States",
            "United Kingdom, Australia, United States",
            "United Kingdom, Belgium",
            "United Kingdom, Canada, United States",
            "United Kingdom, France, Germany, United States",
            "United Kingdom, France, Poland, Germany, United States",
            "United Kingdom, France, Spain, United States",
            "United Kingdom, Germany",
            "United Kingdom, Germany, France, United States",
            "United Kingdom, Germany, Spain, United States",
            "United Kingdom, Germany, United States",
            "United Kingdom, Ireland",
            "United Kingdom, South Africa, France",
            "United Kingdom, Spain, United States",
            "United Kingdom, United States",
            "United Kingdom, United States, Australia",
            "United Kingdom, United States, France",
            "United Kingdom, United States, France, Italy",
            "United States",
            "United States, Australia",
            "United States, Brazil, Japan, Spain, India",
            "United States, Bulgaria",
            "United States, Cambodia, Romania",
            "United States, Canada",
            "United States, China",
            "United States, China, Hong Kong",
            "United States, China, United Kingdom",
            "United States, Colombia",
            "United States, Czech Republic",
            "United States, France",
            "United States, France, Canada, Spain",
            "United States, France, Italy, United Kingdom",
            "United States, Germany",
            "United States, Germany, Canada",
            "United States, Germany, United Kingdom, Australia",
            "United States, Ghana, Burkina Faso, United Kingdom, Germany, Ethiopia",
            "United States, Hong Kong",
            "United States, India",
            "United States, India, France",
            "United States, India, United Kingdom",
            "United States, Italy, France, Japan",
            "United States, Italy, Romania, United Kingdom",
            "United States, Japan",
            "United States, Mexico",
            "United States, New Zealand",
            "United States, Nigeria",
            "United States, Russia",
            "United States, Singapore",
            "United States, South Korea",
            "United States, Sweden, Norway",
            "United States, Switzerland",
            "United States, Thailand",
            "United States, United Kingdom",
            "United States, United Kingdom, Canada",
            "United States, United Kingdom, France",
            "United States, United Kingdom, Germany, Hungary",
            "United States, United Kingdom, New Zealand",
            "Uruguay",
            "Uruguay, Germany",
            "Vietnam",
            "no_Country"
           ],
           "locationmode": "country names",
           "locations": [
            ", France, Algeria",
            ", South Korea",
            "Argentina",
            "Argentina, Chile",
            "Argentina, Spain",
            "Argentina, Venezuela",
            "Australia",
            "Australia, Germany",
            "Australia, New Zealand",
            "Australia, United Kingdom",
            "Australia, United States",
            "Austria",
            "Bangladesh",
            "Belgium",
            "Belgium, France",
            "Belgium, Netherlands",
            "Belgium, United Kingdom",
            "Brazil",
            "Bulgaria, United States",
            "Cameroon",
            "Canada",
            "Canada, Hungary, United States",
            "Canada, Nigeria, United States",
            "Canada, South Africa",
            "Canada, United Kingdom, United States",
            "Canada, United States",
            "Canada, United States, Cayman Islands",
            "Canada, United States, Denmark",
            "Canada, United States, France",
            "Canada, United States, Mexico",
            "Canada, United States, United Kingdom",
            "Chile, Brazil",
            "China",
            "China, Canada, United States",
            "China, Hong Kong",
            "China, Taiwan",
            "China, United Kingdom",
            "China, United States, Canada",
            "Colombia",
            "Czech Republic, United Kingdom, United States",
            "Denmark",
            "Egypt",
            "Egypt, Denmark, Germany",
            "Egypt, Saudi Arabia",
            "Finland",
            "Finland, Germany",
            "France",
            "France, Belgium",
            "France, Canada",
            "France, Canada, United States, Spain",
            "France, Israel, Germany, United States, United Kingdom",
            "France, Japan, United States",
            "France, Netherlands, Singapore",
            "France, United Kingdom",
            "France, United States",
            "France, United States, United Kingdom, Canada",
            "Germany",
            "Germany, Czech Republic",
            "Germany, France",
            "Germany, United States",
            "Germany, United States, France",
            "Hong Kong",
            "Hong Kong, Canada, United States",
            "Hong Kong, United States",
            "Hungary, United States",
            "Iceland",
            "India",
            "India, France",
            "India, Nepal",
            "India, United Kingdom",
            "India, United Kingdom, France, Qatar",
            "India, United States",
            "Indonesia",
            "Ireland",
            "Ireland, Switzerland, United Kingdom, France, United States",
            "Ireland, United Kingdom, France, Germany",
            "Ireland, United States, United Kingdom",
            "Israel",
            "Israel, United States",
            "Italy",
            "Italy, Brazil, Greece",
            "Italy, United Kingdom",
            "Italy, United States",
            "Japan",
            "Japan, United States",
            "Jordan",
            "Kenya",
            "Kuwait, United States",
            "Lebanon",
            "Lebanon, Palestine, Denmark, Qatar",
            "Lebanon, Syria",
            "Lebanon, United Arab Emirates",
            "Luxembourg",
            "Malaysia",
            "Mauritius",
            "Mexico",
            "Mexico, Brazil",
            "Mexico, France, Colombia",
            "Mexico, United States",
            "Netherlands",
            "New Zealand",
            "New Zealand, Australia, France, United States",
            "Nigeria",
            "Norway",
            "Norway, Denmark",
            "Philippines",
            "Philippines, Singapore, Indonesia",
            "Poland",
            "Portugal, Spain",
            "Portugal, United States",
            "Romania",
            "Russia",
            "Russia, United States",
            "Saudi Arabia",
            "South Africa",
            "South Africa, United States",
            "South Africa, United States, Japan",
            "South Korea",
            "South Korea, Czech Republic",
            "Spain",
            "Spain, Argentina",
            "Spain, Belgium, United States",
            "Spain, France, United Kingdom, United States",
            "Spain, United Kingdom, United States",
            "Spain, United States",
            "Sweden",
            "Switzerland, United Kingdom, Australia",
            "Syria, France, Lebanon, Qatar",
            "Taiwan",
            "Thailand",
            "Turkey",
            "United Arab Emirates",
            "United Kingdom",
            "United Kingdom,",
            "United Kingdom, Australia, France",
            "United Kingdom, Australia, France, United States",
            "United Kingdom, Australia, United States",
            "United Kingdom, Belgium",
            "United Kingdom, Canada, United States",
            "United Kingdom, France, Germany, United States",
            "United Kingdom, France, Poland, Germany, United States",
            "United Kingdom, France, Spain, United States",
            "United Kingdom, Germany",
            "United Kingdom, Germany, France, United States",
            "United Kingdom, Germany, Spain, United States",
            "United Kingdom, Germany, United States",
            "United Kingdom, Ireland",
            "United Kingdom, South Africa, France",
            "United Kingdom, Spain, United States",
            "United Kingdom, United States",
            "United Kingdom, United States, Australia",
            "United Kingdom, United States, France",
            "United Kingdom, United States, France, Italy",
            "United States",
            "United States, Australia",
            "United States, Brazil, Japan, Spain, India",
            "United States, Bulgaria",
            "United States, Cambodia, Romania",
            "United States, Canada",
            "United States, China",
            "United States, China, Hong Kong",
            "United States, China, United Kingdom",
            "United States, Colombia",
            "United States, Czech Republic",
            "United States, France",
            "United States, France, Canada, Spain",
            "United States, France, Italy, United Kingdom",
            "United States, Germany",
            "United States, Germany, Canada",
            "United States, Germany, United Kingdom, Australia",
            "United States, Ghana, Burkina Faso, United Kingdom, Germany, Ethiopia",
            "United States, Hong Kong",
            "United States, India",
            "United States, India, France",
            "United States, India, United Kingdom",
            "United States, Italy, France, Japan",
            "United States, Italy, Romania, United Kingdom",
            "United States, Japan",
            "United States, Mexico",
            "United States, New Zealand",
            "United States, Nigeria",
            "United States, Russia",
            "United States, Singapore",
            "United States, South Korea",
            "United States, Sweden, Norway",
            "United States, Switzerland",
            "United States, Thailand",
            "United States, United Kingdom",
            "United States, United Kingdom, Canada",
            "United States, United Kingdom, France",
            "United States, United Kingdom, Germany, Hungary",
            "United States, United Kingdom, New Zealand",
            "Uruguay",
            "Uruguay, Germany",
            "Vietnam",
            "no_Country"
           ],
           "name": "",
           "type": "choropleth",
           "z": [
            1,
            1,
            8,
            1,
            1,
            1,
            9,
            1,
            1,
            1,
            3,
            1,
            1,
            2,
            1,
            2,
            1,
            7,
            1,
            1,
            11,
            1,
            1,
            1,
            1,
            7,
            1,
            1,
            1,
            1,
            1,
            1,
            9,
            1,
            1,
            1,
            2,
            1,
            6,
            1,
            1,
            5,
            1,
            1,
            1,
            1,
            15,
            1,
            1,
            1,
            1,
            1,
            1,
            1,
            4,
            1,
            9,
            1,
            1,
            6,
            1,
            1,
            1,
            1,
            1,
            1,
            95,
            1,
            1,
            1,
            1,
            1,
            12,
            1,
            1,
            1,
            1,
            2,
            2,
            9,
            1,
            1,
            1,
            44,
            1,
            1,
            1,
            1,
            2,
            1,
            1,
            1,
            1,
            1,
            1,
            13,
            1,
            1,
            2,
            2,
            1,
            1,
            26,
            1,
            1,
            4,
            1,
            5,
            1,
            1,
            3,
            2,
            1,
            1,
            5,
            1,
            1,
            26,
            1,
            20,
            1,
            1,
            1,
            1,
            1,
            3,
            1,
            1,
            8,
            7,
            26,
            3,
            43,
            1,
            1,
            1,
            1,
            1,
            2,
            1,
            1,
            1,
            1,
            1,
            1,
            1,
            1,
            1,
            1,
            14,
            1,
            1,
            1,
            448,
            2,
            1,
            1,
            1,
            21,
            3,
            1,
            1,
            2,
            1,
            5,
            1,
            1,
            6,
            1,
            1,
            1,
            1,
            2,
            1,
            1,
            1,
            1,
            4,
            3,
            2,
            1,
            1,
            1,
            1,
            1,
            1,
            2,
            13,
            1,
            2,
            1,
            1,
            1,
            1,
            2,
            358
           ]
          }
         ],
         "name": "2021"
        }
       ],
       "layout": {
        "coloraxis": {
         "cmax": 100,
         "cmin": 0,
         "colorbar": {
          "title": {
           "text": "counts"
          }
         },
         "colorscale": [
          [
           0,
           "#0d0887"
          ],
          [
           0.1111111111111111,
           "#46039f"
          ],
          [
           0.2222222222222222,
           "#7201a8"
          ],
          [
           0.3333333333333333,
           "#9c179e"
          ],
          [
           0.4444444444444444,
           "#bd3786"
          ],
          [
           0.5555555555555556,
           "#d8576b"
          ],
          [
           0.6666666666666666,
           "#ed7953"
          ],
          [
           0.7777777777777778,
           "#fb9f3a"
          ],
          [
           0.8888888888888888,
           "#fdca26"
          ],
          [
           1,
           "#f0f921"
          ]
         ]
        },
        "geo": {
         "center": {},
         "domain": {
          "x": [
           0,
           1
          ],
          "y": [
           0,
           1
          ]
         }
        },
        "legend": {
         "tracegroupgap": 0
        },
        "margin": {
         "t": 60
        },
        "sliders": [
         {
          "active": 0,
          "currentvalue": {
           "prefix": "year_added="
          },
          "len": 0.9,
          "pad": {
           "b": 10,
           "t": 60
          },
          "steps": [
           {
            "args": [
             [
              "2008"
             ],
             {
              "frame": {
               "duration": 0,
               "redraw": true
              },
              "fromcurrent": true,
              "mode": "immediate",
              "transition": {
               "duration": 0,
               "easing": "linear"
              }
             }
            ],
            "label": "2008",
            "method": "animate"
           },
           {
            "args": [
             [
              "2009"
             ],
             {
              "frame": {
               "duration": 0,
               "redraw": true
              },
              "fromcurrent": true,
              "mode": "immediate",
              "transition": {
               "duration": 0,
               "easing": "linear"
              }
             }
            ],
            "label": "2009",
            "method": "animate"
           },
           {
            "args": [
             [
              "2010"
             ],
             {
              "frame": {
               "duration": 0,
               "redraw": true
              },
              "fromcurrent": true,
              "mode": "immediate",
              "transition": {
               "duration": 0,
               "easing": "linear"
              }
             }
            ],
            "label": "2010",
            "method": "animate"
           },
           {
            "args": [
             [
              "2011"
             ],
             {
              "frame": {
               "duration": 0,
               "redraw": true
              },
              "fromcurrent": true,
              "mode": "immediate",
              "transition": {
               "duration": 0,
               "easing": "linear"
              }
             }
            ],
            "label": "2011",
            "method": "animate"
           },
           {
            "args": [
             [
              "2012"
             ],
             {
              "frame": {
               "duration": 0,
               "redraw": true
              },
              "fromcurrent": true,
              "mode": "immediate",
              "transition": {
               "duration": 0,
               "easing": "linear"
              }
             }
            ],
            "label": "2012",
            "method": "animate"
           },
           {
            "args": [
             [
              "2013"
             ],
             {
              "frame": {
               "duration": 0,
               "redraw": true
              },
              "fromcurrent": true,
              "mode": "immediate",
              "transition": {
               "duration": 0,
               "easing": "linear"
              }
             }
            ],
            "label": "2013",
            "method": "animate"
           },
           {
            "args": [
             [
              "2014"
             ],
             {
              "frame": {
               "duration": 0,
               "redraw": true
              },
              "fromcurrent": true,
              "mode": "immediate",
              "transition": {
               "duration": 0,
               "easing": "linear"
              }
             }
            ],
            "label": "2014",
            "method": "animate"
           },
           {
            "args": [
             [
              "2015"
             ],
             {
              "frame": {
               "duration": 0,
               "redraw": true
              },
              "fromcurrent": true,
              "mode": "immediate",
              "transition": {
               "duration": 0,
               "easing": "linear"
              }
             }
            ],
            "label": "2015",
            "method": "animate"
           },
           {
            "args": [
             [
              "2016"
             ],
             {
              "frame": {
               "duration": 0,
               "redraw": true
              },
              "fromcurrent": true,
              "mode": "immediate",
              "transition": {
               "duration": 0,
               "easing": "linear"
              }
             }
            ],
            "label": "2016",
            "method": "animate"
           },
           {
            "args": [
             [
              "2017"
             ],
             {
              "frame": {
               "duration": 0,
               "redraw": true
              },
              "fromcurrent": true,
              "mode": "immediate",
              "transition": {
               "duration": 0,
               "easing": "linear"
              }
             }
            ],
            "label": "2017",
            "method": "animate"
           },
           {
            "args": [
             [
              "2018"
             ],
             {
              "frame": {
               "duration": 0,
               "redraw": true
              },
              "fromcurrent": true,
              "mode": "immediate",
              "transition": {
               "duration": 0,
               "easing": "linear"
              }
             }
            ],
            "label": "2018",
            "method": "animate"
           },
           {
            "args": [
             [
              "2019"
             ],
             {
              "frame": {
               "duration": 0,
               "redraw": true
              },
              "fromcurrent": true,
              "mode": "immediate",
              "transition": {
               "duration": 0,
               "easing": "linear"
              }
             }
            ],
            "label": "2019",
            "method": "animate"
           },
           {
            "args": [
             [
              "2020"
             ],
             {
              "frame": {
               "duration": 0,
               "redraw": true
              },
              "fromcurrent": true,
              "mode": "immediate",
              "transition": {
               "duration": 0,
               "easing": "linear"
              }
             }
            ],
            "label": "2020",
            "method": "animate"
           },
           {
            "args": [
             [
              "2021"
             ],
             {
              "frame": {
               "duration": 0,
               "redraw": true
              },
              "fromcurrent": true,
              "mode": "immediate",
              "transition": {
               "duration": 0,
               "easing": "linear"
              }
             }
            ],
            "label": "2021",
            "method": "animate"
           }
          ],
          "x": 0.1,
          "xanchor": "left",
          "y": 0,
          "yanchor": "top"
         }
        ],
        "template": {
         "data": {
          "bar": [
           {
            "error_x": {
             "color": "#2a3f5f"
            },
            "error_y": {
             "color": "#2a3f5f"
            },
            "marker": {
             "line": {
              "color": "#E5ECF6",
              "width": 0.5
             },
             "pattern": {
              "fillmode": "overlay",
              "size": 10,
              "solidity": 0.2
             }
            },
            "type": "bar"
           }
          ],
          "barpolar": [
           {
            "marker": {
             "line": {
              "color": "#E5ECF6",
              "width": 0.5
             },
             "pattern": {
              "fillmode": "overlay",
              "size": 10,
              "solidity": 0.2
             }
            },
            "type": "barpolar"
           }
          ],
          "carpet": [
           {
            "aaxis": {
             "endlinecolor": "#2a3f5f",
             "gridcolor": "white",
             "linecolor": "white",
             "minorgridcolor": "white",
             "startlinecolor": "#2a3f5f"
            },
            "baxis": {
             "endlinecolor": "#2a3f5f",
             "gridcolor": "white",
             "linecolor": "white",
             "minorgridcolor": "white",
             "startlinecolor": "#2a3f5f"
            },
            "type": "carpet"
           }
          ],
          "choropleth": [
           {
            "colorbar": {
             "outlinewidth": 0,
             "ticks": ""
            },
            "type": "choropleth"
           }
          ],
          "contour": [
           {
            "colorbar": {
             "outlinewidth": 0,
             "ticks": ""
            },
            "colorscale": [
             [
              0,
              "#0d0887"
             ],
             [
              0.1111111111111111,
              "#46039f"
             ],
             [
              0.2222222222222222,
              "#7201a8"
             ],
             [
              0.3333333333333333,
              "#9c179e"
             ],
             [
              0.4444444444444444,
              "#bd3786"
             ],
             [
              0.5555555555555556,
              "#d8576b"
             ],
             [
              0.6666666666666666,
              "#ed7953"
             ],
             [
              0.7777777777777778,
              "#fb9f3a"
             ],
             [
              0.8888888888888888,
              "#fdca26"
             ],
             [
              1,
              "#f0f921"
             ]
            ],
            "type": "contour"
           }
          ],
          "contourcarpet": [
           {
            "colorbar": {
             "outlinewidth": 0,
             "ticks": ""
            },
            "type": "contourcarpet"
           }
          ],
          "heatmap": [
           {
            "colorbar": {
             "outlinewidth": 0,
             "ticks": ""
            },
            "colorscale": [
             [
              0,
              "#0d0887"
             ],
             [
              0.1111111111111111,
              "#46039f"
             ],
             [
              0.2222222222222222,
              "#7201a8"
             ],
             [
              0.3333333333333333,
              "#9c179e"
             ],
             [
              0.4444444444444444,
              "#bd3786"
             ],
             [
              0.5555555555555556,
              "#d8576b"
             ],
             [
              0.6666666666666666,
              "#ed7953"
             ],
             [
              0.7777777777777778,
              "#fb9f3a"
             ],
             [
              0.8888888888888888,
              "#fdca26"
             ],
             [
              1,
              "#f0f921"
             ]
            ],
            "type": "heatmap"
           }
          ],
          "heatmapgl": [
           {
            "colorbar": {
             "outlinewidth": 0,
             "ticks": ""
            },
            "colorscale": [
             [
              0,
              "#0d0887"
             ],
             [
              0.1111111111111111,
              "#46039f"
             ],
             [
              0.2222222222222222,
              "#7201a8"
             ],
             [
              0.3333333333333333,
              "#9c179e"
             ],
             [
              0.4444444444444444,
              "#bd3786"
             ],
             [
              0.5555555555555556,
              "#d8576b"
             ],
             [
              0.6666666666666666,
              "#ed7953"
             ],
             [
              0.7777777777777778,
              "#fb9f3a"
             ],
             [
              0.8888888888888888,
              "#fdca26"
             ],
             [
              1,
              "#f0f921"
             ]
            ],
            "type": "heatmapgl"
           }
          ],
          "histogram": [
           {
            "marker": {
             "pattern": {
              "fillmode": "overlay",
              "size": 10,
              "solidity": 0.2
             }
            },
            "type": "histogram"
           }
          ],
          "histogram2d": [
           {
            "colorbar": {
             "outlinewidth": 0,
             "ticks": ""
            },
            "colorscale": [
             [
              0,
              "#0d0887"
             ],
             [
              0.1111111111111111,
              "#46039f"
             ],
             [
              0.2222222222222222,
              "#7201a8"
             ],
             [
              0.3333333333333333,
              "#9c179e"
             ],
             [
              0.4444444444444444,
              "#bd3786"
             ],
             [
              0.5555555555555556,
              "#d8576b"
             ],
             [
              0.6666666666666666,
              "#ed7953"
             ],
             [
              0.7777777777777778,
              "#fb9f3a"
             ],
             [
              0.8888888888888888,
              "#fdca26"
             ],
             [
              1,
              "#f0f921"
             ]
            ],
            "type": "histogram2d"
           }
          ],
          "histogram2dcontour": [
           {
            "colorbar": {
             "outlinewidth": 0,
             "ticks": ""
            },
            "colorscale": [
             [
              0,
              "#0d0887"
             ],
             [
              0.1111111111111111,
              "#46039f"
             ],
             [
              0.2222222222222222,
              "#7201a8"
             ],
             [
              0.3333333333333333,
              "#9c179e"
             ],
             [
              0.4444444444444444,
              "#bd3786"
             ],
             [
              0.5555555555555556,
              "#d8576b"
             ],
             [
              0.6666666666666666,
              "#ed7953"
             ],
             [
              0.7777777777777778,
              "#fb9f3a"
             ],
             [
              0.8888888888888888,
              "#fdca26"
             ],
             [
              1,
              "#f0f921"
             ]
            ],
            "type": "histogram2dcontour"
           }
          ],
          "mesh3d": [
           {
            "colorbar": {
             "outlinewidth": 0,
             "ticks": ""
            },
            "type": "mesh3d"
           }
          ],
          "parcoords": [
           {
            "line": {
             "colorbar": {
              "outlinewidth": 0,
              "ticks": ""
             }
            },
            "type": "parcoords"
           }
          ],
          "pie": [
           {
            "automargin": true,
            "type": "pie"
           }
          ],
          "scatter": [
           {
            "fillpattern": {
             "fillmode": "overlay",
             "size": 10,
             "solidity": 0.2
            },
            "type": "scatter"
           }
          ],
          "scatter3d": [
           {
            "line": {
             "colorbar": {
              "outlinewidth": 0,
              "ticks": ""
             }
            },
            "marker": {
             "colorbar": {
              "outlinewidth": 0,
              "ticks": ""
             }
            },
            "type": "scatter3d"
           }
          ],
          "scattercarpet": [
           {
            "marker": {
             "colorbar": {
              "outlinewidth": 0,
              "ticks": ""
             }
            },
            "type": "scattercarpet"
           }
          ],
          "scattergeo": [
           {
            "marker": {
             "colorbar": {
              "outlinewidth": 0,
              "ticks": ""
             }
            },
            "type": "scattergeo"
           }
          ],
          "scattergl": [
           {
            "marker": {
             "colorbar": {
              "outlinewidth": 0,
              "ticks": ""
             }
            },
            "type": "scattergl"
           }
          ],
          "scattermapbox": [
           {
            "marker": {
             "colorbar": {
              "outlinewidth": 0,
              "ticks": ""
             }
            },
            "type": "scattermapbox"
           }
          ],
          "scatterpolar": [
           {
            "marker": {
             "colorbar": {
              "outlinewidth": 0,
              "ticks": ""
             }
            },
            "type": "scatterpolar"
           }
          ],
          "scatterpolargl": [
           {
            "marker": {
             "colorbar": {
              "outlinewidth": 0,
              "ticks": ""
             }
            },
            "type": "scatterpolargl"
           }
          ],
          "scatterternary": [
           {
            "marker": {
             "colorbar": {
              "outlinewidth": 0,
              "ticks": ""
             }
            },
            "type": "scatterternary"
           }
          ],
          "surface": [
           {
            "colorbar": {
             "outlinewidth": 0,
             "ticks": ""
            },
            "colorscale": [
             [
              0,
              "#0d0887"
             ],
             [
              0.1111111111111111,
              "#46039f"
             ],
             [
              0.2222222222222222,
              "#7201a8"
             ],
             [
              0.3333333333333333,
              "#9c179e"
             ],
             [
              0.4444444444444444,
              "#bd3786"
             ],
             [
              0.5555555555555556,
              "#d8576b"
             ],
             [
              0.6666666666666666,
              "#ed7953"
             ],
             [
              0.7777777777777778,
              "#fb9f3a"
             ],
             [
              0.8888888888888888,
              "#fdca26"
             ],
             [
              1,
              "#f0f921"
             ]
            ],
            "type": "surface"
           }
          ],
          "table": [
           {
            "cells": {
             "fill": {
              "color": "#EBF0F8"
             },
             "line": {
              "color": "white"
             }
            },
            "header": {
             "fill": {
              "color": "#C8D4E3"
             },
             "line": {
              "color": "white"
             }
            },
            "type": "table"
           }
          ]
         },
         "layout": {
          "annotationdefaults": {
           "arrowcolor": "#2a3f5f",
           "arrowhead": 0,
           "arrowwidth": 1
          },
          "autotypenumbers": "strict",
          "coloraxis": {
           "colorbar": {
            "outlinewidth": 0,
            "ticks": ""
           }
          },
          "colorscale": {
           "diverging": [
            [
             0,
             "#8e0152"
            ],
            [
             0.1,
             "#c51b7d"
            ],
            [
             0.2,
             "#de77ae"
            ],
            [
             0.3,
             "#f1b6da"
            ],
            [
             0.4,
             "#fde0ef"
            ],
            [
             0.5,
             "#f7f7f7"
            ],
            [
             0.6,
             "#e6f5d0"
            ],
            [
             0.7,
             "#b8e186"
            ],
            [
             0.8,
             "#7fbc41"
            ],
            [
             0.9,
             "#4d9221"
            ],
            [
             1,
             "#276419"
            ]
           ],
           "sequential": [
            [
             0,
             "#0d0887"
            ],
            [
             0.1111111111111111,
             "#46039f"
            ],
            [
             0.2222222222222222,
             "#7201a8"
            ],
            [
             0.3333333333333333,
             "#9c179e"
            ],
            [
             0.4444444444444444,
             "#bd3786"
            ],
            [
             0.5555555555555556,
             "#d8576b"
            ],
            [
             0.6666666666666666,
             "#ed7953"
            ],
            [
             0.7777777777777778,
             "#fb9f3a"
            ],
            [
             0.8888888888888888,
             "#fdca26"
            ],
            [
             1,
             "#f0f921"
            ]
           ],
           "sequentialminus": [
            [
             0,
             "#0d0887"
            ],
            [
             0.1111111111111111,
             "#46039f"
            ],
            [
             0.2222222222222222,
             "#7201a8"
            ],
            [
             0.3333333333333333,
             "#9c179e"
            ],
            [
             0.4444444444444444,
             "#bd3786"
            ],
            [
             0.5555555555555556,
             "#d8576b"
            ],
            [
             0.6666666666666666,
             "#ed7953"
            ],
            [
             0.7777777777777778,
             "#fb9f3a"
            ],
            [
             0.8888888888888888,
             "#fdca26"
            ],
            [
             1,
             "#f0f921"
            ]
           ]
          },
          "colorway": [
           "#636efa",
           "#EF553B",
           "#00cc96",
           "#ab63fa",
           "#FFA15A",
           "#19d3f3",
           "#FF6692",
           "#B6E880",
           "#FF97FF",
           "#FECB52"
          ],
          "font": {
           "color": "#2a3f5f"
          },
          "geo": {
           "bgcolor": "white",
           "lakecolor": "white",
           "landcolor": "#E5ECF6",
           "showlakes": true,
           "showland": true,
           "subunitcolor": "white"
          },
          "hoverlabel": {
           "align": "left"
          },
          "hovermode": "closest",
          "mapbox": {
           "style": "light"
          },
          "paper_bgcolor": "white",
          "plot_bgcolor": "#E5ECF6",
          "polar": {
           "angularaxis": {
            "gridcolor": "white",
            "linecolor": "white",
            "ticks": ""
           },
           "bgcolor": "#E5ECF6",
           "radialaxis": {
            "gridcolor": "white",
            "linecolor": "white",
            "ticks": ""
           }
          },
          "scene": {
           "xaxis": {
            "backgroundcolor": "#E5ECF6",
            "gridcolor": "white",
            "gridwidth": 2,
            "linecolor": "white",
            "showbackground": true,
            "ticks": "",
            "zerolinecolor": "white"
           },
           "yaxis": {
            "backgroundcolor": "#E5ECF6",
            "gridcolor": "white",
            "gridwidth": 2,
            "linecolor": "white",
            "showbackground": true,
            "ticks": "",
            "zerolinecolor": "white"
           },
           "zaxis": {
            "backgroundcolor": "#E5ECF6",
            "gridcolor": "white",
            "gridwidth": 2,
            "linecolor": "white",
            "showbackground": true,
            "ticks": "",
            "zerolinecolor": "white"
           }
          },
          "shapedefaults": {
           "line": {
            "color": "#2a3f5f"
           }
          },
          "ternary": {
           "aaxis": {
            "gridcolor": "white",
            "linecolor": "white",
            "ticks": ""
           },
           "baxis": {
            "gridcolor": "white",
            "linecolor": "white",
            "ticks": ""
           },
           "bgcolor": "#E5ECF6",
           "caxis": {
            "gridcolor": "white",
            "linecolor": "white",
            "ticks": ""
           }
          },
          "title": {
           "x": 0.05
          },
          "xaxis": {
           "automargin": true,
           "gridcolor": "white",
           "linecolor": "white",
           "ticks": "",
           "title": {
            "standoff": 15
           },
           "zerolinecolor": "white",
           "zerolinewidth": 2
          },
          "yaxis": {
           "automargin": true,
           "gridcolor": "white",
           "linecolor": "white",
           "ticks": "",
           "title": {
            "standoff": 15
           },
           "zerolinecolor": "white",
           "zerolinewidth": 2
          }
         }
        },
        "updatemenus": [
         {
          "buttons": [
           {
            "args": [
             null,
             {
              "frame": {
               "duration": 500,
               "redraw": true
              },
              "fromcurrent": true,
              "mode": "immediate",
              "transition": {
               "duration": 500,
               "easing": "linear"
              }
             }
            ],
            "label": "&#9654;",
            "method": "animate"
           },
           {
            "args": [
             [
              null
             ],
             {
              "frame": {
               "duration": 0,
               "redraw": true
              },
              "fromcurrent": true,
              "mode": "immediate",
              "transition": {
               "duration": 0,
               "easing": "linear"
              }
             }
            ],
            "label": "&#9724;",
            "method": "animate"
           }
          ],
          "direction": "left",
          "pad": {
           "r": 10,
           "t": 70
          },
          "showactive": false,
          "type": "buttons",
          "x": 0.1,
          "xanchor": "right",
          "y": 0,
          "yanchor": "top"
         }
        ]
       }
      },
      "text/html": [
       "<div>                            <div id=\"89c7c020-8f5f-4dd3-9cfa-87feacccaba8\" class=\"plotly-graph-div\" style=\"height:525px; width:100%;\"></div>            <script type=\"text/javascript\">                require([\"plotly\"], function(Plotly) {                    window.PLOTLYENV=window.PLOTLYENV || {};                                    if (document.getElementById(\"89c7c020-8f5f-4dd3-9cfa-87feacccaba8\")) {                    Plotly.newPlot(                        \"89c7c020-8f5f-4dd3-9cfa-87feacccaba8\",                        [{\"coloraxis\":\"coloraxis\",\"geo\":\"geo\",\"hovertemplate\":\"<b>%{hovertext}</b><br><br>year_added=2008<br>country=%{location}<br>counts=%{z}<extra></extra>\",\"hovertext\":[\"United States\"],\"locationmode\":\"country names\",\"locations\":[\"United States\"],\"name\":\"\",\"z\":[2],\"type\":\"choropleth\"}],                        {\"template\":{\"data\":{\"histogram2dcontour\":[{\"type\":\"histogram2dcontour\",\"colorbar\":{\"outlinewidth\":0,\"ticks\":\"\"},\"colorscale\":[[0.0,\"#0d0887\"],[0.1111111111111111,\"#46039f\"],[0.2222222222222222,\"#7201a8\"],[0.3333333333333333,\"#9c179e\"],[0.4444444444444444,\"#bd3786\"],[0.5555555555555556,\"#d8576b\"],[0.6666666666666666,\"#ed7953\"],[0.7777777777777778,\"#fb9f3a\"],[0.8888888888888888,\"#fdca26\"],[1.0,\"#f0f921\"]]}],\"choropleth\":[{\"type\":\"choropleth\",\"colorbar\":{\"outlinewidth\":0,\"ticks\":\"\"}}],\"histogram2d\":[{\"type\":\"histogram2d\",\"colorbar\":{\"outlinewidth\":0,\"ticks\":\"\"},\"colorscale\":[[0.0,\"#0d0887\"],[0.1111111111111111,\"#46039f\"],[0.2222222222222222,\"#7201a8\"],[0.3333333333333333,\"#9c179e\"],[0.4444444444444444,\"#bd3786\"],[0.5555555555555556,\"#d8576b\"],[0.6666666666666666,\"#ed7953\"],[0.7777777777777778,\"#fb9f3a\"],[0.8888888888888888,\"#fdca26\"],[1.0,\"#f0f921\"]]}],\"heatmap\":[{\"type\":\"heatmap\",\"colorbar\":{\"outlinewidth\":0,\"ticks\":\"\"},\"colorscale\":[[0.0,\"#0d0887\"],[0.1111111111111111,\"#46039f\"],[0.2222222222222222,\"#7201a8\"],[0.3333333333333333,\"#9c179e\"],[0.4444444444444444,\"#bd3786\"],[0.5555555555555556,\"#d8576b\"],[0.6666666666666666,\"#ed7953\"],[0.7777777777777778,\"#fb9f3a\"],[0.8888888888888888,\"#fdca26\"],[1.0,\"#f0f921\"]]}],\"heatmapgl\":[{\"type\":\"heatmapgl\",\"colorbar\":{\"outlinewidth\":0,\"ticks\":\"\"},\"colorscale\":[[0.0,\"#0d0887\"],[0.1111111111111111,\"#46039f\"],[0.2222222222222222,\"#7201a8\"],[0.3333333333333333,\"#9c179e\"],[0.4444444444444444,\"#bd3786\"],[0.5555555555555556,\"#d8576b\"],[0.6666666666666666,\"#ed7953\"],[0.7777777777777778,\"#fb9f3a\"],[0.8888888888888888,\"#fdca26\"],[1.0,\"#f0f921\"]]}],\"contourcarpet\":[{\"type\":\"contourcarpet\",\"colorbar\":{\"outlinewidth\":0,\"ticks\":\"\"}}],\"contour\":[{\"type\":\"contour\",\"colorbar\":{\"outlinewidth\":0,\"ticks\":\"\"},\"colorscale\":[[0.0,\"#0d0887\"],[0.1111111111111111,\"#46039f\"],[0.2222222222222222,\"#7201a8\"],[0.3333333333333333,\"#9c179e\"],[0.4444444444444444,\"#bd3786\"],[0.5555555555555556,\"#d8576b\"],[0.6666666666666666,\"#ed7953\"],[0.7777777777777778,\"#fb9f3a\"],[0.8888888888888888,\"#fdca26\"],[1.0,\"#f0f921\"]]}],\"surface\":[{\"type\":\"surface\",\"colorbar\":{\"outlinewidth\":0,\"ticks\":\"\"},\"colorscale\":[[0.0,\"#0d0887\"],[0.1111111111111111,\"#46039f\"],[0.2222222222222222,\"#7201a8\"],[0.3333333333333333,\"#9c179e\"],[0.4444444444444444,\"#bd3786\"],[0.5555555555555556,\"#d8576b\"],[0.6666666666666666,\"#ed7953\"],[0.7777777777777778,\"#fb9f3a\"],[0.8888888888888888,\"#fdca26\"],[1.0,\"#f0f921\"]]}],\"mesh3d\":[{\"type\":\"mesh3d\",\"colorbar\":{\"outlinewidth\":0,\"ticks\":\"\"}}],\"scatter\":[{\"fillpattern\":{\"fillmode\":\"overlay\",\"size\":10,\"solidity\":0.2},\"type\":\"scatter\"}],\"parcoords\":[{\"type\":\"parcoords\",\"line\":{\"colorbar\":{\"outlinewidth\":0,\"ticks\":\"\"}}}],\"scatterpolargl\":[{\"type\":\"scatterpolargl\",\"marker\":{\"colorbar\":{\"outlinewidth\":0,\"ticks\":\"\"}}}],\"bar\":[{\"error_x\":{\"color\":\"#2a3f5f\"},\"error_y\":{\"color\":\"#2a3f5f\"},\"marker\":{\"line\":{\"color\":\"#E5ECF6\",\"width\":0.5},\"pattern\":{\"fillmode\":\"overlay\",\"size\":10,\"solidity\":0.2}},\"type\":\"bar\"}],\"scattergeo\":[{\"type\":\"scattergeo\",\"marker\":{\"colorbar\":{\"outlinewidth\":0,\"ticks\":\"\"}}}],\"scatterpolar\":[{\"type\":\"scatterpolar\",\"marker\":{\"colorbar\":{\"outlinewidth\":0,\"ticks\":\"\"}}}],\"histogram\":[{\"marker\":{\"pattern\":{\"fillmode\":\"overlay\",\"size\":10,\"solidity\":0.2}},\"type\":\"histogram\"}],\"scattergl\":[{\"type\":\"scattergl\",\"marker\":{\"colorbar\":{\"outlinewidth\":0,\"ticks\":\"\"}}}],\"scatter3d\":[{\"type\":\"scatter3d\",\"line\":{\"colorbar\":{\"outlinewidth\":0,\"ticks\":\"\"}},\"marker\":{\"colorbar\":{\"outlinewidth\":0,\"ticks\":\"\"}}}],\"scattermapbox\":[{\"type\":\"scattermapbox\",\"marker\":{\"colorbar\":{\"outlinewidth\":0,\"ticks\":\"\"}}}],\"scatterternary\":[{\"type\":\"scatterternary\",\"marker\":{\"colorbar\":{\"outlinewidth\":0,\"ticks\":\"\"}}}],\"scattercarpet\":[{\"type\":\"scattercarpet\",\"marker\":{\"colorbar\":{\"outlinewidth\":0,\"ticks\":\"\"}}}],\"carpet\":[{\"aaxis\":{\"endlinecolor\":\"#2a3f5f\",\"gridcolor\":\"white\",\"linecolor\":\"white\",\"minorgridcolor\":\"white\",\"startlinecolor\":\"#2a3f5f\"},\"baxis\":{\"endlinecolor\":\"#2a3f5f\",\"gridcolor\":\"white\",\"linecolor\":\"white\",\"minorgridcolor\":\"white\",\"startlinecolor\":\"#2a3f5f\"},\"type\":\"carpet\"}],\"table\":[{\"cells\":{\"fill\":{\"color\":\"#EBF0F8\"},\"line\":{\"color\":\"white\"}},\"header\":{\"fill\":{\"color\":\"#C8D4E3\"},\"line\":{\"color\":\"white\"}},\"type\":\"table\"}],\"barpolar\":[{\"marker\":{\"line\":{\"color\":\"#E5ECF6\",\"width\":0.5},\"pattern\":{\"fillmode\":\"overlay\",\"size\":10,\"solidity\":0.2}},\"type\":\"barpolar\"}],\"pie\":[{\"automargin\":true,\"type\":\"pie\"}]},\"layout\":{\"autotypenumbers\":\"strict\",\"colorway\":[\"#636efa\",\"#EF553B\",\"#00cc96\",\"#ab63fa\",\"#FFA15A\",\"#19d3f3\",\"#FF6692\",\"#B6E880\",\"#FF97FF\",\"#FECB52\"],\"font\":{\"color\":\"#2a3f5f\"},\"hovermode\":\"closest\",\"hoverlabel\":{\"align\":\"left\"},\"paper_bgcolor\":\"white\",\"plot_bgcolor\":\"#E5ECF6\",\"polar\":{\"bgcolor\":\"#E5ECF6\",\"angularaxis\":{\"gridcolor\":\"white\",\"linecolor\":\"white\",\"ticks\":\"\"},\"radialaxis\":{\"gridcolor\":\"white\",\"linecolor\":\"white\",\"ticks\":\"\"}},\"ternary\":{\"bgcolor\":\"#E5ECF6\",\"aaxis\":{\"gridcolor\":\"white\",\"linecolor\":\"white\",\"ticks\":\"\"},\"baxis\":{\"gridcolor\":\"white\",\"linecolor\":\"white\",\"ticks\":\"\"},\"caxis\":{\"gridcolor\":\"white\",\"linecolor\":\"white\",\"ticks\":\"\"}},\"coloraxis\":{\"colorbar\":{\"outlinewidth\":0,\"ticks\":\"\"}},\"colorscale\":{\"sequential\":[[0.0,\"#0d0887\"],[0.1111111111111111,\"#46039f\"],[0.2222222222222222,\"#7201a8\"],[0.3333333333333333,\"#9c179e\"],[0.4444444444444444,\"#bd3786\"],[0.5555555555555556,\"#d8576b\"],[0.6666666666666666,\"#ed7953\"],[0.7777777777777778,\"#fb9f3a\"],[0.8888888888888888,\"#fdca26\"],[1.0,\"#f0f921\"]],\"sequentialminus\":[[0.0,\"#0d0887\"],[0.1111111111111111,\"#46039f\"],[0.2222222222222222,\"#7201a8\"],[0.3333333333333333,\"#9c179e\"],[0.4444444444444444,\"#bd3786\"],[0.5555555555555556,\"#d8576b\"],[0.6666666666666666,\"#ed7953\"],[0.7777777777777778,\"#fb9f3a\"],[0.8888888888888888,\"#fdca26\"],[1.0,\"#f0f921\"]],\"diverging\":[[0,\"#8e0152\"],[0.1,\"#c51b7d\"],[0.2,\"#de77ae\"],[0.3,\"#f1b6da\"],[0.4,\"#fde0ef\"],[0.5,\"#f7f7f7\"],[0.6,\"#e6f5d0\"],[0.7,\"#b8e186\"],[0.8,\"#7fbc41\"],[0.9,\"#4d9221\"],[1,\"#276419\"]]},\"xaxis\":{\"gridcolor\":\"white\",\"linecolor\":\"white\",\"ticks\":\"\",\"title\":{\"standoff\":15},\"zerolinecolor\":\"white\",\"automargin\":true,\"zerolinewidth\":2},\"yaxis\":{\"gridcolor\":\"white\",\"linecolor\":\"white\",\"ticks\":\"\",\"title\":{\"standoff\":15},\"zerolinecolor\":\"white\",\"automargin\":true,\"zerolinewidth\":2},\"scene\":{\"xaxis\":{\"backgroundcolor\":\"#E5ECF6\",\"gridcolor\":\"white\",\"linecolor\":\"white\",\"showbackground\":true,\"ticks\":\"\",\"zerolinecolor\":\"white\",\"gridwidth\":2},\"yaxis\":{\"backgroundcolor\":\"#E5ECF6\",\"gridcolor\":\"white\",\"linecolor\":\"white\",\"showbackground\":true,\"ticks\":\"\",\"zerolinecolor\":\"white\",\"gridwidth\":2},\"zaxis\":{\"backgroundcolor\":\"#E5ECF6\",\"gridcolor\":\"white\",\"linecolor\":\"white\",\"showbackground\":true,\"ticks\":\"\",\"zerolinecolor\":\"white\",\"gridwidth\":2}},\"shapedefaults\":{\"line\":{\"color\":\"#2a3f5f\"}},\"annotationdefaults\":{\"arrowcolor\":\"#2a3f5f\",\"arrowhead\":0,\"arrowwidth\":1},\"geo\":{\"bgcolor\":\"white\",\"landcolor\":\"#E5ECF6\",\"subunitcolor\":\"white\",\"showland\":true,\"showlakes\":true,\"lakecolor\":\"white\"},\"title\":{\"x\":0.05},\"mapbox\":{\"style\":\"light\"}}},\"geo\":{\"domain\":{\"x\":[0.0,1.0],\"y\":[0.0,1.0]},\"center\":{}},\"coloraxis\":{\"colorbar\":{\"title\":{\"text\":\"counts\"}},\"colorscale\":[[0.0,\"#0d0887\"],[0.1111111111111111,\"#46039f\"],[0.2222222222222222,\"#7201a8\"],[0.3333333333333333,\"#9c179e\"],[0.4444444444444444,\"#bd3786\"],[0.5555555555555556,\"#d8576b\"],[0.6666666666666666,\"#ed7953\"],[0.7777777777777778,\"#fb9f3a\"],[0.8888888888888888,\"#fdca26\"],[1.0,\"#f0f921\"]],\"cmin\":0,\"cmax\":100},\"legend\":{\"tracegroupgap\":0},\"margin\":{\"t\":60},\"updatemenus\":[{\"buttons\":[{\"args\":[null,{\"frame\":{\"duration\":500,\"redraw\":true},\"mode\":\"immediate\",\"fromcurrent\":true,\"transition\":{\"duration\":500,\"easing\":\"linear\"}}],\"label\":\"&#9654;\",\"method\":\"animate\"},{\"args\":[[null],{\"frame\":{\"duration\":0,\"redraw\":true},\"mode\":\"immediate\",\"fromcurrent\":true,\"transition\":{\"duration\":0,\"easing\":\"linear\"}}],\"label\":\"&#9724;\",\"method\":\"animate\"}],\"direction\":\"left\",\"pad\":{\"r\":10,\"t\":70},\"showactive\":false,\"type\":\"buttons\",\"x\":0.1,\"xanchor\":\"right\",\"y\":0,\"yanchor\":\"top\"}],\"sliders\":[{\"active\":0,\"currentvalue\":{\"prefix\":\"year_added=\"},\"len\":0.9,\"pad\":{\"b\":10,\"t\":60},\"steps\":[{\"args\":[[\"2008\"],{\"frame\":{\"duration\":0,\"redraw\":true},\"mode\":\"immediate\",\"fromcurrent\":true,\"transition\":{\"duration\":0,\"easing\":\"linear\"}}],\"label\":\"2008\",\"method\":\"animate\"},{\"args\":[[\"2009\"],{\"frame\":{\"duration\":0,\"redraw\":true},\"mode\":\"immediate\",\"fromcurrent\":true,\"transition\":{\"duration\":0,\"easing\":\"linear\"}}],\"label\":\"2009\",\"method\":\"animate\"},{\"args\":[[\"2010\"],{\"frame\":{\"duration\":0,\"redraw\":true},\"mode\":\"immediate\",\"fromcurrent\":true,\"transition\":{\"duration\":0,\"easing\":\"linear\"}}],\"label\":\"2010\",\"method\":\"animate\"},{\"args\":[[\"2011\"],{\"frame\":{\"duration\":0,\"redraw\":true},\"mode\":\"immediate\",\"fromcurrent\":true,\"transition\":{\"duration\":0,\"easing\":\"linear\"}}],\"label\":\"2011\",\"method\":\"animate\"},{\"args\":[[\"2012\"],{\"frame\":{\"duration\":0,\"redraw\":true},\"mode\":\"immediate\",\"fromcurrent\":true,\"transition\":{\"duration\":0,\"easing\":\"linear\"}}],\"label\":\"2012\",\"method\":\"animate\"},{\"args\":[[\"2013\"],{\"frame\":{\"duration\":0,\"redraw\":true},\"mode\":\"immediate\",\"fromcurrent\":true,\"transition\":{\"duration\":0,\"easing\":\"linear\"}}],\"label\":\"2013\",\"method\":\"animate\"},{\"args\":[[\"2014\"],{\"frame\":{\"duration\":0,\"redraw\":true},\"mode\":\"immediate\",\"fromcurrent\":true,\"transition\":{\"duration\":0,\"easing\":\"linear\"}}],\"label\":\"2014\",\"method\":\"animate\"},{\"args\":[[\"2015\"],{\"frame\":{\"duration\":0,\"redraw\":true},\"mode\":\"immediate\",\"fromcurrent\":true,\"transition\":{\"duration\":0,\"easing\":\"linear\"}}],\"label\":\"2015\",\"method\":\"animate\"},{\"args\":[[\"2016\"],{\"frame\":{\"duration\":0,\"redraw\":true},\"mode\":\"immediate\",\"fromcurrent\":true,\"transition\":{\"duration\":0,\"easing\":\"linear\"}}],\"label\":\"2016\",\"method\":\"animate\"},{\"args\":[[\"2017\"],{\"frame\":{\"duration\":0,\"redraw\":true},\"mode\":\"immediate\",\"fromcurrent\":true,\"transition\":{\"duration\":0,\"easing\":\"linear\"}}],\"label\":\"2017\",\"method\":\"animate\"},{\"args\":[[\"2018\"],{\"frame\":{\"duration\":0,\"redraw\":true},\"mode\":\"immediate\",\"fromcurrent\":true,\"transition\":{\"duration\":0,\"easing\":\"linear\"}}],\"label\":\"2018\",\"method\":\"animate\"},{\"args\":[[\"2019\"],{\"frame\":{\"duration\":0,\"redraw\":true},\"mode\":\"immediate\",\"fromcurrent\":true,\"transition\":{\"duration\":0,\"easing\":\"linear\"}}],\"label\":\"2019\",\"method\":\"animate\"},{\"args\":[[\"2020\"],{\"frame\":{\"duration\":0,\"redraw\":true},\"mode\":\"immediate\",\"fromcurrent\":true,\"transition\":{\"duration\":0,\"easing\":\"linear\"}}],\"label\":\"2020\",\"method\":\"animate\"},{\"args\":[[\"2021\"],{\"frame\":{\"duration\":0,\"redraw\":true},\"mode\":\"immediate\",\"fromcurrent\":true,\"transition\":{\"duration\":0,\"easing\":\"linear\"}}],\"label\":\"2021\",\"method\":\"animate\"}],\"x\":0.1,\"xanchor\":\"left\",\"y\":0,\"yanchor\":\"top\"}]},                        {\"responsive\": true}                    ).then(function(){\n",
       "                            Plotly.addFrames('89c7c020-8f5f-4dd3-9cfa-87feacccaba8', [{\"data\":[{\"coloraxis\":\"coloraxis\",\"geo\":\"geo\",\"hovertemplate\":\"<b>%{hovertext}</b><br><br>year_added=2008<br>country=%{location}<br>counts=%{z}<extra></extra>\",\"hovertext\":[\"United States\"],\"locationmode\":\"country names\",\"locations\":[\"United States\"],\"name\":\"\",\"z\":[2],\"type\":\"choropleth\"}],\"name\":\"2008\"},{\"data\":[{\"coloraxis\":\"coloraxis\",\"geo\":\"geo\",\"hovertemplate\":\"<b>%{hovertext}</b><br><br>year_added=2009<br>country=%{location}<br>counts=%{z}<extra></extra>\",\"hovertext\":[\"Denmark\",\"United States\"],\"locationmode\":\"country names\",\"locations\":[\"Denmark\",\"United States\"],\"name\":\"\",\"z\":[1,1],\"type\":\"choropleth\"}],\"name\":\"2009\"},{\"data\":[{\"coloraxis\":\"coloraxis\",\"geo\":\"geo\",\"hovertemplate\":\"<b>%{hovertext}</b><br><br>year_added=2010<br>country=%{location}<br>counts=%{z}<extra></extra>\",\"hovertext\":[\"United States\"],\"locationmode\":\"country names\",\"locations\":[\"United States\"],\"name\":\"\",\"z\":[1],\"type\":\"choropleth\"}],\"name\":\"2010\"},{\"data\":[{\"coloraxis\":\"coloraxis\",\"geo\":\"geo\",\"hovertemplate\":\"<b>%{hovertext}</b><br><br>year_added=2011<br>country=%{location}<br>counts=%{z}<extra></extra>\",\"hovertext\":[\"Spain, Mexico, France\",\"United States\",\"United States, France, United Kingdom\"],\"locationmode\":\"country names\",\"locations\":[\"Spain, Mexico, France\",\"United States\",\"United States, France, United Kingdom\"],\"name\":\"\",\"z\":[1,11,1],\"type\":\"choropleth\"}],\"name\":\"2011\"},{\"data\":[{\"coloraxis\":\"coloraxis\",\"geo\":\"geo\",\"hovertemplate\":\"<b>%{hovertext}</b><br><br>year_added=2012<br>country=%{location}<br>counts=%{z}<extra></extra>\",\"hovertext\":[\"United States\",\"United States, Mexico\"],\"locationmode\":\"country names\",\"locations\":[\"United States\",\"United States, Mexico\"],\"name\":\"\",\"z\":[2,1],\"type\":\"choropleth\"}],\"name\":\"2012\"},{\"data\":[{\"coloraxis\":\"coloraxis\",\"geo\":\"geo\",\"hovertemplate\":\"<b>%{hovertext}</b><br><br>year_added=2013<br>country=%{location}<br>counts=%{z}<extra></extra>\",\"hovertext\":[\"Canada\",\"United States\",\"United States, Ireland\",\"United States, United Kingdom\"],\"locationmode\":\"country names\",\"locations\":[\"Canada\",\"United States\",\"United States, Ireland\",\"United States, United Kingdom\"],\"name\":\"\",\"z\":[1,8,1,1],\"type\":\"choropleth\"}],\"name\":\"2013\"},{\"data\":[{\"coloraxis\":\"coloraxis\",\"geo\":\"geo\",\"hovertemplate\":\"<b>%{hovertext}</b><br><br>year_added=2014<br>country=%{location}<br>counts=%{z}<extra></extra>\",\"hovertext\":[\"Canada\",\"Norway, United States\",\"United Kingdom,\",\"United Kingdom, Egypt, United States\",\"United Kingdom, United States\",\"United States\",\"United States, Bermuda, Ecuador\",\"United States, Canada\",\"United States, Hungary, Ireland, Canada\"],\"locationmode\":\"country names\",\"locations\":[\"Canada\",\"Norway, United States\",\"United Kingdom,\",\"United Kingdom, Egypt, United States\",\"United Kingdom, United States\",\"United States\",\"United States, Bermuda, Ecuador\",\"United States, Canada\",\"United States, Hungary, Ireland, Canada\"],\"name\":\"\",\"z\":[1,1,1,1,1,16,1,1,1],\"type\":\"choropleth\"}],\"name\":\"2014\"},{\"data\":[{\"coloraxis\":\"coloraxis\",\"geo\":\"geo\",\"hovertemplate\":\"<b>%{hovertext}</b><br><br>year_added=2015<br>country=%{location}<br>counts=%{z}<extra></extra>\",\"hovertext\":[\"Australia\",\"Australia, France, Ireland\",\"Australia, United Kingdom, United States, New Zealand, Italy, France\",\"Belgium\",\"Canada\",\"Canada, Australia\",\"Canada, United States\",\"France\",\"France, Belgium\",\"Germany\",\"Germany, Australia, France, China\",\"Italy, France\",\"Japan\",\"Mexico\",\"New Zealand\",\"Nigeria\",\"Norway, United Kingdom, France, Ireland\",\"United Kingdom\",\"United Kingdom, Ukraine, United States\",\"United States\",\"United States, Canada\",\"United States, Italy\",\"United States, United Kingdom\",\"no_Country\"],\"locationmode\":\"country names\",\"locations\":[\"Australia\",\"Australia, France, Ireland\",\"Australia, United Kingdom, United States, New Zealand, Italy, France\",\"Belgium\",\"Canada\",\"Canada, Australia\",\"Canada, United States\",\"France\",\"France, Belgium\",\"Germany\",\"Germany, Australia, France, China\",\"Italy, France\",\"Japan\",\"Mexico\",\"New Zealand\",\"Nigeria\",\"Norway, United Kingdom, France, Ireland\",\"United Kingdom\",\"United Kingdom, Ukraine, United States\",\"United States\",\"United States, Canada\",\"United States, Italy\",\"United States, United Kingdom\",\"no_Country\"],\"name\":\"\",\"z\":[1,1,1,1,3,1,1,2,2,1,1,1,1,1,1,1,1,3,1,50,1,1,2,3],\"type\":\"choropleth\"}],\"name\":\"2015\"},{\"data\":[{\"coloraxis\":\"coloraxis\",\"geo\":\"geo\",\"hovertemplate\":\"<b>%{hovertext}</b><br><br>year_added=2016<br>country=%{location}<br>counts=%{z}<extra></extra>\",\"hovertext\":[\"Argentina\",\"Argentina, Chile, Peru\",\"Australia\",\"Austria\",\"Belgium, France, Netherlands\",\"Brazil\",\"Canada\",\"Canada, Japan, Netherlands\",\"Canada, United Kingdom\",\"Canada, United Kingdom, Netherlands\",\"Canada, United Kingdom, United States\",\"Canada, United States\",\"Chile, United States, France\",\"China\",\"China, Germany, India, United States\",\"China, Hong Kong\",\"China, United States\",\"Colombia\",\"Croatia, Slovenia, Serbia, Montenegro\",\"Denmark\",\"Denmark, Indonesia, Finland, Norway, United Kingdom, Israel, France, United States, Germany, Netherlands\",\"Denmark, United Kingdom, Sweden\",\"Denmark, United States\",\"Denmark, Zimbabwe\",\"France\",\"France, Belgium\",\"France, Belgium, Spain\",\"France, Germany\",\"France, Japan, United States\",\"France, Qatar\",\"France, South Korea, Japan\",\"France, United States, Canada\",\"Germany\",\"Hong Kong\",\"Hong Kong, China\",\"Iceland\",\"India\",\"India, United Kingdom\",\"Ireland, South Africa\",\"Ireland, United Kingdom, United States\",\"Israel\",\"Israel, Germany, France\",\"Italy\",\"Japan\",\"Japan, United States\",\"Mexico\",\"Mexico, France\",\"Netherlands\",\"Netherlands, Denmark, South Africa\",\"New Zealand\",\"Nigeria\",\"Norway\",\"Pakistan\",\"Pakistan, Norway, United States\",\"Peru\",\"Peru, United States, United Kingdom\",\"Poland\",\"South Korea\",\"Spain\",\"Spain, Cuba\",\"Sweden\",\"Switzerland\",\"Taiwan\",\"Turkey\",\"Turkey, Azerbaijan\",\"United Arab Emirates, Jordan\",\"United Kingdom\",\"United Kingdom, Australia, Canada, United States\",\"United Kingdom, France\",\"United Kingdom, Germany, Canada\",\"United Kingdom, India, United States\",\"United Kingdom, United States, Spain, Germany, Greece, Canada\",\"United States\",\"United States, Australia\",\"United States, Canada\",\"United States, France\",\"United States, France, Japan\",\"United States, Greece, United Kingdom\",\"United States, Hungary\",\"United States, Ireland\",\"United States, Japan\",\"United States, Kazakhstan\",\"United States, Netherlands, Japan, France\",\"United States, New Zealand\",\"United States, New Zealand, Japan\",\"United States, Russia\",\"United States, South Korea, China\",\"no_Country\"],\"locationmode\":\"country names\",\"locations\":[\"Argentina\",\"Argentina, Chile, Peru\",\"Australia\",\"Austria\",\"Belgium, France, Netherlands\",\"Brazil\",\"Canada\",\"Canada, Japan, Netherlands\",\"Canada, United Kingdom\",\"Canada, United Kingdom, Netherlands\",\"Canada, United Kingdom, United States\",\"Canada, United States\",\"Chile, United States, France\",\"China\",\"China, Germany, India, United States\",\"China, Hong Kong\",\"China, United States\",\"Colombia\",\"Croatia, Slovenia, Serbia, Montenegro\",\"Denmark\",\"Denmark, Indonesia, Finland, Norway, United Kingdom, Israel, France, United States, Germany, Netherlands\",\"Denmark, United Kingdom, Sweden\",\"Denmark, United States\",\"Denmark, Zimbabwe\",\"France\",\"France, Belgium\",\"France, Belgium, Spain\",\"France, Germany\",\"France, Japan, United States\",\"France, Qatar\",\"France, South Korea, Japan\",\"France, United States, Canada\",\"Germany\",\"Hong Kong\",\"Hong Kong, China\",\"Iceland\",\"India\",\"India, United Kingdom\",\"Ireland, South Africa\",\"Ireland, United Kingdom, United States\",\"Israel\",\"Israel, Germany, France\",\"Italy\",\"Japan\",\"Japan, United States\",\"Mexico\",\"Mexico, France\",\"Netherlands\",\"Netherlands, Denmark, South Africa\",\"New Zealand\",\"Nigeria\",\"Norway\",\"Pakistan\",\"Pakistan, Norway, United States\",\"Peru\",\"Peru, United States, United Kingdom\",\"Poland\",\"South Korea\",\"Spain\",\"Spain, Cuba\",\"Sweden\",\"Switzerland\",\"Taiwan\",\"Turkey\",\"Turkey, Azerbaijan\",\"United Arab Emirates, Jordan\",\"United Kingdom\",\"United Kingdom, Australia, Canada, United States\",\"United Kingdom, France\",\"United Kingdom, Germany, Canada\",\"United Kingdom, India, United States\",\"United Kingdom, United States, Spain, Germany, Greece, Canada\",\"United States\",\"United States, Australia\",\"United States, Canada\",\"United States, France\",\"United States, France, Japan\",\"United States, Greece, United Kingdom\",\"United States, Hungary\",\"United States, Ireland\",\"United States, Japan\",\"United States, Kazakhstan\",\"United States, Netherlands, Japan, France\",\"United States, New Zealand\",\"United States, New Zealand, Japan\",\"United States, Russia\",\"United States, South Korea, China\",\"no_Country\"],\"name\":\"\",\"z\":[2,1,6,1,1,2,12,1,1,1,1,5,1,3,1,1,1,2,1,1,1,1,1,1,8,2,1,1,1,1,1,1,5,1,2,1,10,1,1,1,1,1,2,15,2,8,1,3,1,1,1,3,3,1,1,1,1,9,11,1,1,1,24,3,1,1,37,1,1,1,1,4,157,1,2,1,5,1,1,1,1,1,1,2,1,1,1,19],\"type\":\"choropleth\"}],\"name\":\"2016\"},{\"data\":[{\"coloraxis\":\"coloraxis\",\"geo\":\"geo\",\"hovertemplate\":\"<b>%{hovertext}</b><br><br>year_added=2017<br>country=%{location}<br>counts=%{z}<extra></extra>\",\"hovertext\":[\"Argentina\",\"Argentina, Spain\",\"Argentina, Uruguay, Spain, France\",\"Australia\",\"Australia, Armenia, Japan, Jordan, Mexico, Mongolia, New Zealand, Philippines, South Africa, Sweden, United States, Uruguay\",\"Australia, Canada\",\"Australia, India\",\"Australia, United Arab Emirates\",\"Australia, United States\",\"Austria, Czech Republic\",\"Belgium\",\"Belgium, France\",\"Belgium, Ireland, Netherlands, Germany, Afghanistan\",\"Brazil\",\"Brazil, Netherlands, United States, Colombia, Austria, Germany\",\"Bulgaria, United States, Spain, Canada\",\"Cambodia, United States\",\"Canada\",\"Canada, France\",\"Canada, Germany, South Africa\",\"Canada, India\",\"Canada, India, Thailand, United States, United Arab Emirates\",\"Canada, Ireland, United States\",\"Canada, Spain\",\"Canada, United States\",\"Canada, United States, United Kingdom\",\"Chile\",\"Chile, Argentina, France, Spain, United States\",\"Chile, France\",\"Chile, Spain, Argentina, Germany\",\"China\",\"China, Hong Kong\",\"China, India, Nepal\",\"China, South Korea, United States\",\"Colombia, Mexico, United States\",\"Colombia, United States\",\"Czech Republic, France\",\"Czech Republic, Slovakia\",\"Denmark\",\"Denmark, United Kingdom, South Africa, Sweden, Belgium\",\"Finland, Sweden, Norway, Latvia, Germany\",\"France\",\"France, Belgium\",\"France, Canada\",\"France, Canada, Belgium\",\"France, Canada, China, Cambodia\",\"France, Germany, Switzerland\",\"France, Morocco\",\"France, United Kingdom, India\",\"France, United Kingdom, United States\",\"Georgia, Germany, France\",\"Germany\",\"Germany, Jordan, Netherlands\",\"Germany, Sri Lanka\",\"Germany, United States\",\"Germany, United States, Hong Kong, Singapore\",\"Germany, United States, Italy\",\"Greece, United States\",\"Hong Kong\",\"Hong Kong, China\",\"India\",\"India, Canada\",\"India, France\",\"India, Germany\",\"India, Malaysia\",\"India, Mexico\",\"India, Soviet Union\",\"India, Switzerland\",\"India, United States\",\"Indonesia\",\"Ireland\",\"Ireland, United Kingdom\",\"Ireland, United Kingdom, Italy, United States\",\"Israel\",\"Israel, Sweden, Germany, Netherlands\",\"Italy\",\"Italy, Canada, France\",\"Italy, France\",\"Italy, Germany\",\"Italy, India\",\"Italy, United States\",\"Japan\",\"Japan, United States\",\"Lebanon, Qatar\",\"Malaysia\",\"Mexico\",\"Mexico, United States\",\"Netherlands\",\"Netherlands, Belgium\",\"Netherlands, Belgium, United Kingdom, United States\",\"Netherlands, United States\",\"New Zealand\",\"Nigeria\",\"Norway\",\"Norway, Denmark, Sweden\",\"Norway, Germany\",\"Pakistan\",\"Pakistan, United States\",\"Portugal, Spain\",\"Russia\",\"Saudi Arabia\",\"Singapore\",\"Singapore, France\",\"Slovenia, Croatia, Germany, Czech Republic, Qatar\",\"South Africa, United States, Germany\",\"South Korea\",\"South Korea, China, United States\",\"South Korea, United States\",\"Spain\",\"Spain, Argentina\",\"Spain, France, Uruguay\",\"Spain, Germany\",\"Spain, Italy, Argentina\",\"Spain, Mexico\",\"Spain, Switzerland\",\"Sweden\",\"Sweden, United States\",\"Switzerland, France\",\"Taiwan\",\"Thailand\",\"Thailand, United States\",\"Turkey\",\"Turkey, France, Germany, Poland\",\"Ukraine\",\"United Arab Emirates\",\"United Arab Emirates, Romania\",\"United Kingdom\",\"United Kingdom, Canada, Japan\",\"United Kingdom, France\",\"United Kingdom, France, Belgium, United States\",\"United Kingdom, France, Canada, Belgium, United States\",\"United Kingdom, France, United States, Belgium\",\"United Kingdom, India\",\"United Kingdom, India, Sweden\",\"United Kingdom, Ireland\",\"United Kingdom, Israel, Russia\",\"United Kingdom, Italy, Israel, Peru, United States\",\"United Kingdom, Japan, United States\",\"United Kingdom, Jordan, Qatar, Iran\",\"United Kingdom, Lithuania\",\"United Kingdom, Russia\",\"United Kingdom, South Africa\",\"United Kingdom, Spain, Belgium\",\"United Kingdom, United States\",\"United States\",\"United States, Argentina\",\"United States, Australia\",\"United States, Australia, China\",\"United States, Australia, Samoa, United Kingdom\",\"United States, Brazil\",\"United States, Bulgaria\",\"United States, Canada\",\"United States, Canada, Japan, Panama\",\"United States, Chile\",\"United States, Colombia, Mexico\",\"United States, Denmark\",\"United States, France\",\"United States, France, Canada, Lebanon, Qatar\",\"United States, Greece, Brazil\",\"United States, Hong Kong\",\"United States, Iceland\",\"United States, India\",\"United States, Italy\",\"United States, Japan\",\"United States, Japan, Canada\",\"United States, Mexico\",\"United States, Nicaragua\",\"United States, Senegal\",\"United States, Spain\",\"United States, United Kingdom\",\"United States, United Kingdom, Australia\",\"United States, United Kingdom, Denmark, Sweden\",\"United States, Uruguay\",\"United States, Venezuela\",\"Venezuela\",\"Vietnam\",\"West Germany\",\"no_Country\"],\"locationmode\":\"country names\",\"locations\":[\"Argentina\",\"Argentina, Spain\",\"Argentina, Uruguay, Spain, France\",\"Australia\",\"Australia, Armenia, Japan, Jordan, Mexico, Mongolia, New Zealand, Philippines, South Africa, Sweden, United States, Uruguay\",\"Australia, Canada\",\"Australia, India\",\"Australia, United Arab Emirates\",\"Australia, United States\",\"Austria, Czech Republic\",\"Belgium\",\"Belgium, France\",\"Belgium, Ireland, Netherlands, Germany, Afghanistan\",\"Brazil\",\"Brazil, Netherlands, United States, Colombia, Austria, Germany\",\"Bulgaria, United States, Spain, Canada\",\"Cambodia, United States\",\"Canada\",\"Canada, France\",\"Canada, Germany, South Africa\",\"Canada, India\",\"Canada, India, Thailand, United States, United Arab Emirates\",\"Canada, Ireland, United States\",\"Canada, Spain\",\"Canada, United States\",\"Canada, United States, United Kingdom\",\"Chile\",\"Chile, Argentina, France, Spain, United States\",\"Chile, France\",\"Chile, Spain, Argentina, Germany\",\"China\",\"China, Hong Kong\",\"China, India, Nepal\",\"China, South Korea, United States\",\"Colombia, Mexico, United States\",\"Colombia, United States\",\"Czech Republic, France\",\"Czech Republic, Slovakia\",\"Denmark\",\"Denmark, United Kingdom, South Africa, Sweden, Belgium\",\"Finland, Sweden, Norway, Latvia, Germany\",\"France\",\"France, Belgium\",\"France, Canada\",\"France, Canada, Belgium\",\"France, Canada, China, Cambodia\",\"France, Germany, Switzerland\",\"France, Morocco\",\"France, United Kingdom, India\",\"France, United Kingdom, United States\",\"Georgia, Germany, France\",\"Germany\",\"Germany, Jordan, Netherlands\",\"Germany, Sri Lanka\",\"Germany, United States\",\"Germany, United States, Hong Kong, Singapore\",\"Germany, United States, Italy\",\"Greece, United States\",\"Hong Kong\",\"Hong Kong, China\",\"India\",\"India, Canada\",\"India, France\",\"India, Germany\",\"India, Malaysia\",\"India, Mexico\",\"India, Soviet Union\",\"India, Switzerland\",\"India, United States\",\"Indonesia\",\"Ireland\",\"Ireland, United Kingdom\",\"Ireland, United Kingdom, Italy, United States\",\"Israel\",\"Israel, Sweden, Germany, Netherlands\",\"Italy\",\"Italy, Canada, France\",\"Italy, France\",\"Italy, Germany\",\"Italy, India\",\"Italy, United States\",\"Japan\",\"Japan, United States\",\"Lebanon, Qatar\",\"Malaysia\",\"Mexico\",\"Mexico, United States\",\"Netherlands\",\"Netherlands, Belgium\",\"Netherlands, Belgium, United Kingdom, United States\",\"Netherlands, United States\",\"New Zealand\",\"Nigeria\",\"Norway\",\"Norway, Denmark, Sweden\",\"Norway, Germany\",\"Pakistan\",\"Pakistan, United States\",\"Portugal, Spain\",\"Russia\",\"Saudi Arabia\",\"Singapore\",\"Singapore, France\",\"Slovenia, Croatia, Germany, Czech Republic, Qatar\",\"South Africa, United States, Germany\",\"South Korea\",\"South Korea, China, United States\",\"South Korea, United States\",\"Spain\",\"Spain, Argentina\",\"Spain, France, Uruguay\",\"Spain, Germany\",\"Spain, Italy, Argentina\",\"Spain, Mexico\",\"Spain, Switzerland\",\"Sweden\",\"Sweden, United States\",\"Switzerland, France\",\"Taiwan\",\"Thailand\",\"Thailand, United States\",\"Turkey\",\"Turkey, France, Germany, Poland\",\"Ukraine\",\"United Arab Emirates\",\"United Arab Emirates, Romania\",\"United Kingdom\",\"United Kingdom, Canada, Japan\",\"United Kingdom, France\",\"United Kingdom, France, Belgium, United States\",\"United Kingdom, France, Canada, Belgium, United States\",\"United Kingdom, France, United States, Belgium\",\"United Kingdom, India\",\"United Kingdom, India, Sweden\",\"United Kingdom, Ireland\",\"United Kingdom, Israel, Russia\",\"United Kingdom, Italy, Israel, Peru, United States\",\"United Kingdom, Japan, United States\",\"United Kingdom, Jordan, Qatar, Iran\",\"United Kingdom, Lithuania\",\"United Kingdom, Russia\",\"United Kingdom, South Africa\",\"United Kingdom, Spain, Belgium\",\"United Kingdom, United States\",\"United States\",\"United States, Argentina\",\"United States, Australia\",\"United States, Australia, China\",\"United States, Australia, Samoa, United Kingdom\",\"United States, Brazil\",\"United States, Bulgaria\",\"United States, Canada\",\"United States, Canada, Japan, Panama\",\"United States, Chile\",\"United States, Colombia, Mexico\",\"United States, Denmark\",\"United States, France\",\"United States, France, Canada, Lebanon, Qatar\",\"United States, Greece, Brazil\",\"United States, Hong Kong\",\"United States, Iceland\",\"United States, India\",\"United States, Italy\",\"United States, Japan\",\"United States, Japan, Canada\",\"United States, Mexico\",\"United States, Nicaragua\",\"United States, Senegal\",\"United States, Spain\",\"United States, United Kingdom\",\"United States, United Kingdom, Australia\",\"United States, United Kingdom, Denmark, Sweden\",\"United States, Uruguay\",\"United States, Venezuela\",\"Venezuela\",\"Vietnam\",\"West Germany\",\"no_Country\"],\"name\":\"\",\"z\":[7,2,1,13,1,1,1,1,3,1,1,2,1,13,1,1,1,35,1,1,1,1,1,1,8,1,4,1,1,1,14,4,1,1,1,1,1,1,1,1,1,16,7,1,1,1,1,1,1,1,1,13,1,1,1,1,1,1,1,1,142,1,2,1,1,1,2,1,2,2,2,1,1,3,1,5,1,2,1,1,1,27,3,1,7,28,2,1,1,1,1,2,1,2,1,1,4,1,1,5,1,16,1,1,1,40,1,1,24,2,1,1,1,1,1,2,2,1,11,1,1,29,1,1,1,1,96,1,1,1,1,1,1,1,1,1,1,1,1,1,1,1,1,8,361,1,1,1,1,1,1,9,1,1,1,1,1,1,1,1,1,1,1,2,1,1,1,1,2,4,1,1,1,1,1,1,1,64],\"type\":\"choropleth\"}],\"name\":\"2017\"},{\"data\":[{\"coloraxis\":\"coloraxis\",\"geo\":\"geo\",\"hovertemplate\":\"<b>%{hovertext}</b><br><br>year_added=2018<br>country=%{location}<br>counts=%{z}<extra></extra>\",\"hovertext\":[\"Argentina\",\"Argentina, Brazil, France, Poland, Germany, Denmark\",\"Argentina, Chile\",\"Argentina, France\",\"Argentina, France, United States, Germany, Qatar\",\"Argentina, Italy\",\"Argentina, Spain\",\"Australia\",\"Australia, Iraq\",\"Australia, United Arab Emirates\",\"Australia, United Kingdom, Canada\",\"Australia, United Kingdom, United Arab Emirates, Canada\",\"Australia, United States\",\"Belgium\",\"Belgium, United Kingdom, United States\",\"Brazil\",\"Brazil, France\",\"Brazil, India, China, United States\",\"Bulgaria\",\"Bulgaria, United States\",\"Cambodia\",\"Canada\",\"Canada, France, Italy, Morocco, United States\",\"Canada, Germany, France, United States\",\"Canada, Japan, United States\",\"Canada, Mexico, Germany, South Africa\",\"Canada, Spain, France\",\"Canada, United States\",\"Canada, United States, France\",\"Chile\",\"Chile, Peru\",\"China\",\"China, Canada, United States\",\"China, Hong Kong\",\"China, Japan\",\"China, Morocco, Hong Kong\",\"China, United States, Australia\",\"China, United States, United Kingdom\",\"Colombia\",\"Colombia, Mexico\",\"Czech Republic, United Kingdom, France\",\"Czech Republic, United States\",\"Denmark\",\"Denmark, France, United States, Sweden\",\"Denmark, Germany, Belgium, United Kingdom, France\",\"Denmark, Germany, Belgium, United Kingdom, France, Sweden\",\"Denmark, Sweden, Israel, United States\",\"Egypt\",\"Egypt, France\",\"France\",\"France, Belgium\",\"France, Belgium, China, United States\",\"France, Iran, United States\",\"France, Luxembourg, United States\",\"France, Netherlands, South Africa, Finland\",\"Georgia\",\"Germany\",\"Germany, Australia\",\"Germany, Belgium\",\"Germany, France, Luxembourg, United Kingdom, United States\",\"Germany, France, Russia\",\"Germany, United Kingdom\",\"Germany, United States\",\"Guatemala\",\"Hong Kong\",\"Hong Kong, China\",\"Hong Kong, China, United States\",\"Hong Kong, Taiwan\",\"Hong Kong, United States\",\"Hungary\",\"Iceland\",\"India\",\"India, Australia\",\"India, France\",\"India, Germany, Austria\",\"India, Iran\",\"India, United States\",\"Indonesia\",\"Indonesia, United States\",\"Ireland\",\"Ireland, Canada\",\"Ireland, Canada, Luxembourg, United States, United Kingdom, Philippines, India\",\"Ireland, Canada, United Kingdom, United States\",\"Ireland, Canada, United States, United Kingdom\",\"Ireland, United Kingdom, Greece, France, Netherlands\",\"Israel\",\"Israel, Germany\",\"Israel, United States\",\"Italy\",\"Italy, Switzerland, Albania, Poland\",\"Italy, Switzerland, France, Germany\",\"Italy, United States\",\"Italy, United States, Argentina\",\"Japan\",\"Japan, Canada\",\"Japan, United States\",\"Lebanon\",\"Malaysia\",\"Mexico\",\"Mexico, Argentina\",\"Mexico, Netherlands\",\"Mexico, Spain\",\"Mexico, United States\",\"Netherlands\",\"Netherlands, Belgium, Germany, Jordan\",\"Netherlands, Denmark, France, Germany\",\"New Zealand\",\"New Zealand, United Kingdom\",\"New Zealand, United Kingdom, Australia\",\"Nigeria\",\"Norway, Denmark, Netherlands, Sweden\",\"Norway, Germany, Sweden\",\"Norway, Iceland, United States\",\"Pakistan\",\"Peru\",\"Philippines\",\"Philippines, Qatar\",\"Poland\",\"Poland, United States\",\"Portugal, France, Poland, United States\",\"Russia\",\"Russia, Poland, Serbia\",\"Russia, Spain\",\"Saudi Arabia, Syria, Egypt, Lebanon, Kuwait\",\"Serbia, South Korea, Slovenia\",\"Serbia, United States\",\"Singapore\",\"Singapore, United States\",\"Somalia, Kenya, Sudan, South Africa, United States\",\"South Africa\",\"South Africa, China, United States\",\"South Africa, Germany, Netherlands, France\",\"South Africa, United States\",\"South Korea\",\"South Korea, China\",\"South Korea, France\",\"South Korea, United States\",\"Soviet Union, India\",\"Spain\",\"Spain, Colombia\",\"Spain, France\",\"Spain, Mexico\",\"Spain, Portugal\",\"Sweden\",\"Sweden, Netherlands\",\"Switzerland, United Kingdom, United States\",\"Switzerland, United States\",\"Taiwan\",\"Thailand\",\"Thailand, Canada, United States\",\"Turkey\",\"Turkey, United States\",\"Ukraine\",\"United Arab Emirates, United States\",\"United Arab Emirates, United States, United Kingdom\",\"United Kingdom\",\"United Kingdom, Canada\",\"United Kingdom, Canada, Italy\",\"United Kingdom, Canada, United States\",\"United Kingdom, Canada, United States, Cayman Islands\",\"United Kingdom, Canada, United States, Germany\",\"United Kingdom, China, United States\",\"United Kingdom, Denmark, Canada, Croatia\",\"United Kingdom, France\",\"United Kingdom, France, United States\",\"United Kingdom, Germany\",\"United Kingdom, India\",\"United Kingdom, India, United States\",\"United Kingdom, Ireland, United States\",\"United Kingdom, Japan\",\"United Kingdom, Namibia, South Africa, Zimbabwe, United States\",\"United Kingdom, New Zealand\",\"United Kingdom, South Africa, Australia, United States\",\"United Kingdom, Spain, United States, Germany\",\"United Kingdom, United States\",\"United Kingdom, United States, Australia\",\"United Kingdom, United States, Dominican Republic\",\"United Kingdom, United States, Morocco\",\"United Kingdom, West Germany\",\"United States\",\"United States,\",\"United States, Australia\",\"United States, Australia, South Africa, United Kingdom\",\"United States, Brazil, India, Uganda, China\",\"United States, Brazil, South Korea, Mexico, Japan, Germany\",\"United States, Bulgaria\",\"United States, Canada\",\"United States, Canada, Belgium, United Kingdom\",\"United States, Canada, Indonesia, United Kingdom, China, Singapore\",\"United States, Canada, Ireland\",\"United States, Chile\",\"United States, China, Hong Kong\",\"United States, Czech Republic\",\"United States, France\",\"United States, France, South Korea, Indonesia\",\"United States, India\",\"United States, India, Bangladesh\",\"United States, Indonesia\",\"United States, Israel, Italy, South Africa\",\"United States, Israel, United Kingdom, Canada\",\"United States, Italy\",\"United States, Japan, Canada\",\"United States, Mexico\",\"United States, New Zealand\",\"United States, South Africa\",\"United States, Sweden\",\"United States, United Arab Emirates\",\"United States, United Kingdom\",\"United States, United Kingdom, Canada, Japan\",\"United States, United Kingdom, France\",\"United States, United Kingdom, Germany\",\"United States, United Kingdom, Morocco\",\"United States, United Kingdom, Spain, South Korea\",\"Uruguay, Argentina, Spain\",\"Venezuela, Colombia\",\"Vietnam\",\"no_Country\"],\"locationmode\":\"country names\",\"locations\":[\"Argentina\",\"Argentina, Brazil, France, Poland, Germany, Denmark\",\"Argentina, Chile\",\"Argentina, France\",\"Argentina, France, United States, Germany, Qatar\",\"Argentina, Italy\",\"Argentina, Spain\",\"Australia\",\"Australia, Iraq\",\"Australia, United Arab Emirates\",\"Australia, United Kingdom, Canada\",\"Australia, United Kingdom, United Arab Emirates, Canada\",\"Australia, United States\",\"Belgium\",\"Belgium, United Kingdom, United States\",\"Brazil\",\"Brazil, France\",\"Brazil, India, China, United States\",\"Bulgaria\",\"Bulgaria, United States\",\"Cambodia\",\"Canada\",\"Canada, France, Italy, Morocco, United States\",\"Canada, Germany, France, United States\",\"Canada, Japan, United States\",\"Canada, Mexico, Germany, South Africa\",\"Canada, Spain, France\",\"Canada, United States\",\"Canada, United States, France\",\"Chile\",\"Chile, Peru\",\"China\",\"China, Canada, United States\",\"China, Hong Kong\",\"China, Japan\",\"China, Morocco, Hong Kong\",\"China, United States, Australia\",\"China, United States, United Kingdom\",\"Colombia\",\"Colombia, Mexico\",\"Czech Republic, United Kingdom, France\",\"Czech Republic, United States\",\"Denmark\",\"Denmark, France, United States, Sweden\",\"Denmark, Germany, Belgium, United Kingdom, France\",\"Denmark, Germany, Belgium, United Kingdom, France, Sweden\",\"Denmark, Sweden, Israel, United States\",\"Egypt\",\"Egypt, France\",\"France\",\"France, Belgium\",\"France, Belgium, China, United States\",\"France, Iran, United States\",\"France, Luxembourg, United States\",\"France, Netherlands, South Africa, Finland\",\"Georgia\",\"Germany\",\"Germany, Australia\",\"Germany, Belgium\",\"Germany, France, Luxembourg, United Kingdom, United States\",\"Germany, France, Russia\",\"Germany, United Kingdom\",\"Germany, United States\",\"Guatemala\",\"Hong Kong\",\"Hong Kong, China\",\"Hong Kong, China, United States\",\"Hong Kong, Taiwan\",\"Hong Kong, United States\",\"Hungary\",\"Iceland\",\"India\",\"India, Australia\",\"India, France\",\"India, Germany, Austria\",\"India, Iran\",\"India, United States\",\"Indonesia\",\"Indonesia, United States\",\"Ireland\",\"Ireland, Canada\",\"Ireland, Canada, Luxembourg, United States, United Kingdom, Philippines, India\",\"Ireland, Canada, United Kingdom, United States\",\"Ireland, Canada, United States, United Kingdom\",\"Ireland, United Kingdom, Greece, France, Netherlands\",\"Israel\",\"Israel, Germany\",\"Israel, United States\",\"Italy\",\"Italy, Switzerland, Albania, Poland\",\"Italy, Switzerland, France, Germany\",\"Italy, United States\",\"Italy, United States, Argentina\",\"Japan\",\"Japan, Canada\",\"Japan, United States\",\"Lebanon\",\"Malaysia\",\"Mexico\",\"Mexico, Argentina\",\"Mexico, Netherlands\",\"Mexico, Spain\",\"Mexico, United States\",\"Netherlands\",\"Netherlands, Belgium, Germany, Jordan\",\"Netherlands, Denmark, France, Germany\",\"New Zealand\",\"New Zealand, United Kingdom\",\"New Zealand, United Kingdom, Australia\",\"Nigeria\",\"Norway, Denmark, Netherlands, Sweden\",\"Norway, Germany, Sweden\",\"Norway, Iceland, United States\",\"Pakistan\",\"Peru\",\"Philippines\",\"Philippines, Qatar\",\"Poland\",\"Poland, United States\",\"Portugal, France, Poland, United States\",\"Russia\",\"Russia, Poland, Serbia\",\"Russia, Spain\",\"Saudi Arabia, Syria, Egypt, Lebanon, Kuwait\",\"Serbia, South Korea, Slovenia\",\"Serbia, United States\",\"Singapore\",\"Singapore, United States\",\"Somalia, Kenya, Sudan, South Africa, United States\",\"South Africa\",\"South Africa, China, United States\",\"South Africa, Germany, Netherlands, France\",\"South Africa, United States\",\"South Korea\",\"South Korea, China\",\"South Korea, France\",\"South Korea, United States\",\"Soviet Union, India\",\"Spain\",\"Spain, Colombia\",\"Spain, France\",\"Spain, Mexico\",\"Spain, Portugal\",\"Sweden\",\"Sweden, Netherlands\",\"Switzerland, United Kingdom, United States\",\"Switzerland, United States\",\"Taiwan\",\"Thailand\",\"Thailand, Canada, United States\",\"Turkey\",\"Turkey, United States\",\"Ukraine\",\"United Arab Emirates, United States\",\"United Arab Emirates, United States, United Kingdom\",\"United Kingdom\",\"United Kingdom, Canada\",\"United Kingdom, Canada, Italy\",\"United Kingdom, Canada, United States\",\"United Kingdom, Canada, United States, Cayman Islands\",\"United Kingdom, Canada, United States, Germany\",\"United Kingdom, China, United States\",\"United Kingdom, Denmark, Canada, Croatia\",\"United Kingdom, France\",\"United Kingdom, France, United States\",\"United Kingdom, Germany\",\"United Kingdom, India\",\"United Kingdom, India, United States\",\"United Kingdom, Ireland, United States\",\"United Kingdom, Japan\",\"United Kingdom, Namibia, South Africa, Zimbabwe, United States\",\"United Kingdom, New Zealand\",\"United Kingdom, South Africa, Australia, United States\",\"United Kingdom, Spain, United States, Germany\",\"United Kingdom, United States\",\"United Kingdom, United States, Australia\",\"United Kingdom, United States, Dominican Republic\",\"United Kingdom, United States, Morocco\",\"United Kingdom, West Germany\",\"United States\",\"United States,\",\"United States, Australia\",\"United States, Australia, South Africa, United Kingdom\",\"United States, Brazil, India, Uganda, China\",\"United States, Brazil, South Korea, Mexico, Japan, Germany\",\"United States, Bulgaria\",\"United States, Canada\",\"United States, Canada, Belgium, United Kingdom\",\"United States, Canada, Indonesia, United Kingdom, China, Singapore\",\"United States, Canada, Ireland\",\"United States, Chile\",\"United States, China, Hong Kong\",\"United States, Czech Republic\",\"United States, France\",\"United States, France, South Korea, Indonesia\",\"United States, India\",\"United States, India, Bangladesh\",\"United States, Indonesia\",\"United States, Israel, Italy, South Africa\",\"United States, Israel, United Kingdom, Canada\",\"United States, Italy\",\"United States, Japan, Canada\",\"United States, Mexico\",\"United States, New Zealand\",\"United States, South Africa\",\"United States, Sweden\",\"United States, United Arab Emirates\",\"United States, United Kingdom\",\"United States, United Kingdom, Canada, Japan\",\"United States, United Kingdom, France\",\"United States, United Kingdom, Germany\",\"United States, United Kingdom, Morocco\",\"United States, United Kingdom, Spain, South Korea\",\"Uruguay, Argentina, Spain\",\"Venezuela, Colombia\",\"Vietnam\",\"no_Country\"],\"name\":\"\",\"z\":[16,1,1,1,1,1,2,22,1,1,1,1,2,1,1,14,1,1,1,2,1,32,1,1,1,1,1,11,1,6,1,17,1,4,1,1,1,1,12,1,1,2,2,1,1,1,1,1,1,24,6,1,1,1,1,1,10,1,1,1,1,1,1,1,40,7,1,1,1,2,1,333,1,1,1,1,2,24,1,5,1,1,1,1,1,3,1,1,5,1,1,1,1,36,1,1,1,3,17,1,1,1,4,2,1,1,2,1,1,1,1,1,2,5,2,4,1,1,2,1,3,1,1,1,1,1,6,1,1,2,1,1,1,25,1,1,2,1,30,1,2,1,1,2,1,1,1,8,30,1,5,1,1,2,1,77,2,1,2,1,1,1,1,1,1,1,1,1,1,1,1,1,1,1,15,1,1,1,1,451,1,1,1,1,1,1,9,1,1,1,1,1,2,1,1,3,1,1,1,1,1,1,3,1,1,2,1,4,1,2,1,1,1,1,1,2,119],\"type\":\"choropleth\"}],\"name\":\"2018\"},{\"data\":[{\"coloraxis\":\"coloraxis\",\"geo\":\"geo\",\"hovertemplate\":\"<b>%{hovertext}</b><br><br>year_added=2019<br>country=%{location}<br>counts=%{z}<extra></extra>\",\"hovertext\":[\"Argentina\",\"Argentina, Spain\",\"Argentina, United States\",\"Argentina, United States, Mexico\",\"Argentina, Uruguay, Serbia\",\"Australia\",\"Australia, Canada\",\"Australia, France\",\"Australia, United States\",\"Austria\",\"Austria, Iraq, United States\",\"Austria, United States\",\"Bangladesh\",\"Belgium\",\"Brazil\",\"Brazil, United States\",\"Canada\",\"Canada, Australia\",\"Canada, Brazil\",\"Canada, France, United States\",\"Canada, Germany\",\"Canada, India\",\"Canada, Luxembourg\",\"Canada, Norway\",\"Canada, United States\",\"Canada, United States, India, United Kingdom\",\"Canada, United States, United Kingdom\",\"Chile\",\"Chile, Argentina\",\"China\",\"China, Hong Kong\",\"China, Hong Kong, United States\",\"China, Taiwan\",\"China, United Kingdom\",\"Colombia\",\"Colombia, Mexico, United States\",\"Colombia, Peru, United Kingdom\",\"Croatia\",\"Denmark\",\"Denmark, Brazil, France, Portugal, Sweden\",\"Denmark, China\",\"Denmark, France, Belgium, Italy, Netherlands, United States, United Kingdom\",\"Denmark, France, Poland\",\"Denmark, Spain\",\"Egypt\",\"Egypt, Austria, United States\",\"Finland, Germany, Belgium\",\"France\",\"France, Belgium\",\"France, Belgium, Luxembourg, Romania, Canada, United States\",\"France, Canada\",\"France, China, Japan, United States\",\"France, Germany, Czech Republic, Belgium\",\"France, Japan\",\"France, Luxembourg, Canada\",\"France, Senegal, Belgium\",\"France, Switzerland, Spain, United States, United Arab Emirates\",\"France, United States\",\"France, United States, Mexico\",\"Germany\",\"Germany, Canada, United States\",\"Germany, Italy\",\"Germany, United Kingdom\",\"Germany, United Kingdom, United States\",\"Germany, United States\",\"Germany, United States, Canada\",\"Germany, United States, Sweden\",\"Ghana\",\"Ghana, United States\",\"Hong Kong\",\"Hong Kong, China\",\"Hong Kong, China, Singapore\",\"Hong Kong, United States\",\"Iceland, Sweden, Belgium\",\"India\",\"India, France\",\"India, Germany\",\"India, Germany, France\",\"India, Japan\",\"India, Pakistan\",\"India, Turkey\",\"India, United Kingdom, Canada, United States\",\"India, United States\",\"Indonesia\",\"Indonesia, Singapore\",\"Iran, France\",\"Ireland\",\"Ireland, United States, France\",\"Israel\",\"Israel, Germany, Poland, Luxembourg, Belgium, France, United States\",\"Israel, United States\",\"Italy\",\"Italy, Belgium\",\"Italy, France\",\"Italy, France, Switzerland\",\"Italy, South Africa, West Germany, Australia, United States\",\"Italy, United States\",\"Japan\",\"Japan, United States\",\"Jordan\",\"Kuwait\",\"Lebanon\",\"Malaysia\",\"Malaysia, Singapore, Hong Kong\",\"Mauritius, South Africa\",\"Mexico\",\"Mexico, Finland\",\"Mexico, United States\",\"Mexico, United States, Spain, Colombia\",\"Netherlands\",\"Netherlands, Belgium\",\"New Zealand\",\"Nigeria\",\"Norway, Sweden\",\"Pakistan\",\"Pakistan, United Arab Emirates\",\"Paraguay, Argentina\",\"Peru\",\"Philippines\",\"Philippines, Singapore\",\"Philippines, United States\",\"Poland\",\"Poland,\",\"Poland, West Germany\",\"Romania\",\"Romania, Bulgaria, Hungary\",\"Russia\",\"Singapore, Japan, France\",\"Singapore, Malaysia\",\"Singapore, United States\",\"South Africa\",\"South Africa, Nigeria\",\"South Africa, United States, New Zealand, Canada\",\"South Korea\",\"South Korea, Canada, United States, China\",\"South Korea, Japan\",\"South Korea, United States\",\"Spain\",\"Spain, Belgium\",\"Spain, France\",\"Spain, France, Italy\",\"Spain, Italy\",\"Spain, United Kingdom\",\"Sweden\",\"Sweden, United Kingdom, Finland\",\"Sweden, United States\",\"Switzerland\",\"Switzerland, Vatican City, Italy, Germany, France\",\"Taiwan\",\"Taiwan, China, France, United States\",\"Taiwan, Hong Kong, United States, China\",\"Thailand\",\"Thailand, China, United States\",\"Turkey\",\"United Arab Emirates\",\"United Arab Emirates, United Kingdom, India\",\"United Kingdom\",\"United Kingdom, Belgium\",\"United Kingdom, Belgium, Sweden\",\"United Kingdom, Brazil, Germany\",\"United Kingdom, Canada\",\"United Kingdom, Canada, France, United States\",\"United Kingdom, Canada, United States\",\"United Kingdom, France\",\"United Kingdom, France, Belgium\",\"United Kingdom, France, Germany\",\"United Kingdom, France, United States\",\"United Kingdom, Germany\",\"United Kingdom, Germany, Canada, United States\",\"United Kingdom, Germany, United States\",\"United Kingdom, Hong Kong\",\"United Kingdom, Hungary, Australia\",\"United Kingdom, Ireland\",\"United Kingdom, Italy\",\"United Kingdom, Japan, United States\",\"United Kingdom, Malawi\",\"United Kingdom, Nigeria\",\"United Kingdom, Norway, Denmark, Germany, Sweden\",\"United Kingdom, Pakistan\",\"United Kingdom, Poland\",\"United Kingdom, Poland, United States\",\"United Kingdom, Russia, United States\",\"United Kingdom, South Korea\",\"United Kingdom, Thailand\",\"United Kingdom, United States\",\"United Kingdom, United States, Czech Republic\",\"United Kingdom, United States, France, Germany\",\"United Kingdom, United States, Germany, Denmark, Belgium, Japan\",\"United States\",\"United States, Australia\",\"United States, Australia, Mexico\",\"United States, Cambodia\",\"United States, Canada\",\"United States, Chile\",\"United States, China\",\"United States, Colombia\",\"United States, Czech Republic\",\"United States, Czech Republic, United Kingdom\",\"United States, France\",\"United States, France, Japan\",\"United States, France, United Kingdom, Japan\",\"United States, Germany\",\"United States, Germany, Australia\",\"United States, Germany, Canada\",\"United States, India\",\"United States, India, South Korea, China\",\"United States, India, United Arab Emirates\",\"United States, Ireland\",\"United States, Italy\",\"United States, Italy, United Kingdom, Liechtenstein\",\"United States, Japan\",\"United States, Mexico\",\"United States, Morocco\",\"United States, New Zealand, United Kingdom\",\"United States, Poland\",\"United States, South Africa\",\"United States, South Korea, Japan\",\"United States, Spain\",\"United States, Spain, Germany\",\"United States, Sweden\",\"United States, Taiwan\",\"United States, United Arab Emirates\",\"United States, United Kingdom\",\"United States, United Kingdom, Australia\",\"United States, United Kingdom, Germany\",\"United States, United Kingdom, Italy\",\"Uruguay\",\"Uruguay, Guatemala\",\"Uruguay, Spain, Mexico\",\"Vietnam\",\"no_Country\"],\"locationmode\":\"country names\",\"locations\":[\"Argentina\",\"Argentina, Spain\",\"Argentina, United States\",\"Argentina, United States, Mexico\",\"Argentina, Uruguay, Serbia\",\"Australia\",\"Australia, Canada\",\"Australia, France\",\"Australia, United States\",\"Austria\",\"Austria, Iraq, United States\",\"Austria, United States\",\"Bangladesh\",\"Belgium\",\"Brazil\",\"Brazil, United States\",\"Canada\",\"Canada, Australia\",\"Canada, Brazil\",\"Canada, France, United States\",\"Canada, Germany\",\"Canada, India\",\"Canada, Luxembourg\",\"Canada, Norway\",\"Canada, United States\",\"Canada, United States, India, United Kingdom\",\"Canada, United States, United Kingdom\",\"Chile\",\"Chile, Argentina\",\"China\",\"China, Hong Kong\",\"China, Hong Kong, United States\",\"China, Taiwan\",\"China, United Kingdom\",\"Colombia\",\"Colombia, Mexico, United States\",\"Colombia, Peru, United Kingdom\",\"Croatia\",\"Denmark\",\"Denmark, Brazil, France, Portugal, Sweden\",\"Denmark, China\",\"Denmark, France, Belgium, Italy, Netherlands, United States, United Kingdom\",\"Denmark, France, Poland\",\"Denmark, Spain\",\"Egypt\",\"Egypt, Austria, United States\",\"Finland, Germany, Belgium\",\"France\",\"France, Belgium\",\"France, Belgium, Luxembourg, Romania, Canada, United States\",\"France, Canada\",\"France, China, Japan, United States\",\"France, Germany, Czech Republic, Belgium\",\"France, Japan\",\"France, Luxembourg, Canada\",\"France, Senegal, Belgium\",\"France, Switzerland, Spain, United States, United Arab Emirates\",\"France, United States\",\"France, United States, Mexico\",\"Germany\",\"Germany, Canada, United States\",\"Germany, Italy\",\"Germany, United Kingdom\",\"Germany, United Kingdom, United States\",\"Germany, United States\",\"Germany, United States, Canada\",\"Germany, United States, Sweden\",\"Ghana\",\"Ghana, United States\",\"Hong Kong\",\"Hong Kong, China\",\"Hong Kong, China, Singapore\",\"Hong Kong, United States\",\"Iceland, Sweden, Belgium\",\"India\",\"India, France\",\"India, Germany\",\"India, Germany, France\",\"India, Japan\",\"India, Pakistan\",\"India, Turkey\",\"India, United Kingdom, Canada, United States\",\"India, United States\",\"Indonesia\",\"Indonesia, Singapore\",\"Iran, France\",\"Ireland\",\"Ireland, United States, France\",\"Israel\",\"Israel, Germany, Poland, Luxembourg, Belgium, France, United States\",\"Israel, United States\",\"Italy\",\"Italy, Belgium\",\"Italy, France\",\"Italy, France, Switzerland\",\"Italy, South Africa, West Germany, Australia, United States\",\"Italy, United States\",\"Japan\",\"Japan, United States\",\"Jordan\",\"Kuwait\",\"Lebanon\",\"Malaysia\",\"Malaysia, Singapore, Hong Kong\",\"Mauritius, South Africa\",\"Mexico\",\"Mexico, Finland\",\"Mexico, United States\",\"Mexico, United States, Spain, Colombia\",\"Netherlands\",\"Netherlands, Belgium\",\"New Zealand\",\"Nigeria\",\"Norway, Sweden\",\"Pakistan\",\"Pakistan, United Arab Emirates\",\"Paraguay, Argentina\",\"Peru\",\"Philippines\",\"Philippines, Singapore\",\"Philippines, United States\",\"Poland\",\"Poland,\",\"Poland, West Germany\",\"Romania\",\"Romania, Bulgaria, Hungary\",\"Russia\",\"Singapore, Japan, France\",\"Singapore, Malaysia\",\"Singapore, United States\",\"South Africa\",\"South Africa, Nigeria\",\"South Africa, United States, New Zealand, Canada\",\"South Korea\",\"South Korea, Canada, United States, China\",\"South Korea, Japan\",\"South Korea, United States\",\"Spain\",\"Spain, Belgium\",\"Spain, France\",\"Spain, France, Italy\",\"Spain, Italy\",\"Spain, United Kingdom\",\"Sweden\",\"Sweden, United Kingdom, Finland\",\"Sweden, United States\",\"Switzerland\",\"Switzerland, Vatican City, Italy, Germany, France\",\"Taiwan\",\"Taiwan, China, France, United States\",\"Taiwan, Hong Kong, United States, China\",\"Thailand\",\"Thailand, China, United States\",\"Turkey\",\"United Arab Emirates\",\"United Arab Emirates, United Kingdom, India\",\"United Kingdom\",\"United Kingdom, Belgium\",\"United Kingdom, Belgium, Sweden\",\"United Kingdom, Brazil, Germany\",\"United Kingdom, Canada\",\"United Kingdom, Canada, France, United States\",\"United Kingdom, Canada, United States\",\"United Kingdom, France\",\"United Kingdom, France, Belgium\",\"United Kingdom, France, Germany\",\"United Kingdom, France, United States\",\"United Kingdom, Germany\",\"United Kingdom, Germany, Canada, United States\",\"United Kingdom, Germany, United States\",\"United Kingdom, Hong Kong\",\"United Kingdom, Hungary, Australia\",\"United Kingdom, Ireland\",\"United Kingdom, Italy\",\"United Kingdom, Japan, United States\",\"United Kingdom, Malawi\",\"United Kingdom, Nigeria\",\"United Kingdom, Norway, Denmark, Germany, Sweden\",\"United Kingdom, Pakistan\",\"United Kingdom, Poland\",\"United Kingdom, Poland, United States\",\"United Kingdom, Russia, United States\",\"United Kingdom, South Korea\",\"United Kingdom, Thailand\",\"United Kingdom, United States\",\"United Kingdom, United States, Czech Republic\",\"United Kingdom, United States, France, Germany\",\"United Kingdom, United States, Germany, Denmark, Belgium, Japan\",\"United States\",\"United States, Australia\",\"United States, Australia, Mexico\",\"United States, Cambodia\",\"United States, Canada\",\"United States, Chile\",\"United States, China\",\"United States, Colombia\",\"United States, Czech Republic\",\"United States, Czech Republic, United Kingdom\",\"United States, France\",\"United States, France, Japan\",\"United States, France, United Kingdom, Japan\",\"United States, Germany\",\"United States, Germany, Australia\",\"United States, Germany, Canada\",\"United States, India\",\"United States, India, South Korea, China\",\"United States, India, United Arab Emirates\",\"United States, Ireland\",\"United States, Italy\",\"United States, Italy, United Kingdom, Liechtenstein\",\"United States, Japan\",\"United States, Mexico\",\"United States, Morocco\",\"United States, New Zealand, United Kingdom\",\"United States, Poland\",\"United States, South Africa\",\"United States, South Korea, Japan\",\"United States, Spain\",\"United States, Spain, Germany\",\"United States, Sweden\",\"United States, Taiwan\",\"United States, United Arab Emirates\",\"United States, United Kingdom\",\"United States, United Kingdom, Australia\",\"United States, United Kingdom, Germany\",\"United States, United Kingdom, Italy\",\"Uruguay\",\"Uruguay, Guatemala\",\"Uruguay, Spain, Mexico\",\"Vietnam\",\"no_Country\"],\"name\":\"\",\"z\":[11,2,1,1,1,18,1,1,2,1,1,1,2,2,18,1,38,1,1,1,1,1,1,1,6,1,1,1,1,17,4,1,1,1,8,1,1,1,5,1,1,1,1,1,53,1,1,29,4,1,1,1,1,1,1,1,1,3,1,10,1,1,1,1,2,1,1,1,1,10,5,1,1,1,203,1,1,1,1,1,1,1,2,16,2,1,1,1,3,1,2,6,1,1,1,1,1,58,1,1,1,3,6,1,1,25,1,3,1,5,1,3,27,1,6,1,1,1,37,1,1,9,1,1,1,1,3,1,1,1,3,1,1,53,1,1,1,37,1,3,1,1,2,2,1,1,1,1,20,1,1,17,1,18,2,1,102,1,1,1,2,1,2,3,1,1,1,2,1,1,1,1,1,1,1,1,1,1,1,1,1,1,1,1,18,1,1,1,677,4,1,1,15,1,3,1,1,1,5,1,1,7,1,1,1,1,1,1,1,1,5,4,1,1,1,2,1,1,1,1,1,2,15,3,1,1,1,1,1,1,158],\"type\":\"choropleth\"}],\"name\":\"2019\"},{\"data\":[{\"coloraxis\":\"coloraxis\",\"geo\":\"geo\",\"hovertemplate\":\"<b>%{hovertext}</b><br><br>year_added=2020<br>country=%{location}<br>counts=%{z}<extra></extra>\",\"hovertext\":[\"Argentina\",\"Argentina, Spain\",\"Australia\",\"Australia, New Zealand, United States\",\"Australia, United Kingdom\",\"Australia, United States\",\"Austria\",\"Austria, Germany\",\"Belarus\",\"Belgium\",\"Brazil\",\"Brazil, France\",\"Brazil, France, Germany\",\"Brazil, United Kingdom\",\"Canada\",\"Canada, Belgium\",\"Canada, Nigeria\",\"Canada, South Africa\",\"Canada, South Korea, United States\",\"Canada, United Kingdom\",\"Canada, United States\",\"Canada, United States, Germany\",\"Canada, United States, Ireland\",\"Canada, United States, United Kingdom\",\"Canada, United States, United Kingdom, France, Luxembourg\",\"Chile\",\"Chile, Italy\",\"China\",\"China, Canada, United States\",\"China, Spain, South Korea, United States\",\"China, United States\",\"Colombia\",\"Cyprus\",\"Denmark\",\"Denmark, Singapore, Canada, United States\",\"Denmark, United States\",\"Egypt\",\"Egypt, Algeria\",\"Egypt, France\",\"Finland, France\",\"Finland, United States\",\"France\",\"France, Algeria\",\"France, Australia, Germany\",\"France, Belgium\",\"France, Belgium, Italy\",\"France, Belgium, Luxembourg, Cambodia,\",\"France, Belgium, United States\",\"France, Brazil, Spain, Belgium\",\"France, Canada, Italy, United States, China\",\"France, Canada, United States\",\"France, Egypt\",\"France, Lebanon\",\"France, Lebanon, United Kingdom\",\"France, Malta, United States\",\"France, New Zealand\",\"France, Norway, Lebanon, Belgium\",\"France, South Korea, Japan, United States\",\"France, United Kingdom, United States\",\"France, United States\",\"Germany\",\"Germany, China, United Kingdom\",\"Germany, Czech Republic\",\"Germany, France, United States, Canada, United Kingdom\",\"Germany, United States\",\"Germany, United States, United Kingdom, Canada\",\"Ghana\",\"Hong Kong, China\",\"Hong Kong, China, United States\",\"Hong Kong, Iceland, United States\",\"Hong Kong, United States\",\"Hungary\",\"Iceland\",\"India\",\"India, United Kingdom, China, Canada, Japan, South Korea, United States\",\"India, United States\",\"Indonesia\",\"Indonesia, Netherlands\",\"Indonesia, South Korea, Singapore\",\"Indonesia, United Kingdom\",\"Ireland\",\"Ireland, France, Iceland, United States, Mexico, Belgium, United Kingdom, Hong Kong\",\"Ireland, Luxembourg, Belgium\",\"Ireland, United Kingdom\",\"Ireland, United Kingdom, United States\",\"Ireland, United States\",\"Israel\",\"Italy\",\"Italy, France\",\"Italy, Turkey\",\"Italy, United Kingdom, France\",\"Jamaica, United States\",\"Japan\",\"Japan, Canada, United States\",\"Japan, United States\",\"Kenya\",\"Kenya, United States\",\"Kuwait\",\"Lebanon\",\"Lebanon, Canada, France\",\"Lebanon, France\",\"Lebanon, United Arab Emirates, France, Switzerland, Germany\",\"Lebanon, United States, United Arab Emirates\",\"Malaysia\",\"Mexico\",\"Mexico, Spain\",\"Mexico, United States\",\"Mozambique\",\"Namibia\",\"Netherlands\",\"Netherlands, Germany, Denmark, United Kingdom\",\"Netherlands, Germany, Italy, Canada\",\"New Zealand\",\"New Zealand, United States\",\"Nigeria\",\"Nigeria, United Kingdom\",\"Norway\",\"Pakistan, United States\",\"Peru, Germany, Norway\",\"Philippines\",\"Philippines, Canada, United Kingdom, United States\",\"Poland\",\"Poland, United States\",\"Puerto Rico, United States, Colombia\",\"Romania\",\"Romania, France, Switzerland, Germany\",\"Romania, United Kingdom\",\"Romania, United States\",\"Russia\",\"Russia, United States, China\",\"Saudi Arabia\",\"Saudi Arabia, Netherlands, Germany, Jordan, United Arab Emirates, United States\",\"Saudi Arabia, United Arab Emirates\",\"Senegal\",\"Serbia, United States\",\"Singapore\",\"South Africa\",\"South Africa, Angola\",\"South Africa, United States\",\"South Korea\",\"South Korea, United States\",\"Spain\",\"Spain, Canada, United States\",\"Spain, France, Canada\",\"Spain, France, Canada, United States\",\"Spain, France, United States\",\"Spain, Germany\",\"Spain, Germany, Denmark, United States\",\"Spain, Italy\",\"Spain, Thailand, United States\",\"Sweden\",\"Sweden, Czech Republic, United Kingdom, Denmark, Netherlands\",\"Switzerland, France, Belgium, United States\",\"Taiwan\",\"Taiwan, China\",\"Taiwan, Malaysia\",\"Thailand\",\"Thailand, United States\",\"Turkey\",\"Turkey, India\",\"Turkey, South Korea\",\"Turkey, United States\",\"United Arab Emirates\",\"United Arab Emirates, Jordan, Lebanon, Saudi Arabia\",\"United Kingdom\",\"United Kingdom, Australia\",\"United Kingdom, Canada, United States\",\"United Kingdom, China\",\"United Kingdom, China, United States, India\",\"United Kingdom, Czech Republic, Germany, United States\",\"United Kingdom, Czech Republic, United States, Germany, Bahamas\",\"United Kingdom, Finland, Germany, United States, Australia, Japan, France, Ireland\",\"United Kingdom, France, Belgium, Canada, United States\",\"United Kingdom, France, Belgium, Ireland, United States\",\"United Kingdom, France, Germany, Spain\",\"United Kingdom, France, Germany, United States\",\"United Kingdom, France, United States\",\"United Kingdom, France, United States, Belgium, Luxembourg, China, Germany\",\"United Kingdom, Germany, United Arab Emirates, New Zealand\",\"United Kingdom, Germany, United States, France\",\"United Kingdom, Italy\",\"United Kingdom, Japan, United States\",\"United Kingdom, Kenya\",\"United Kingdom, Nigeria\",\"United Kingdom, Singapore\",\"United Kingdom, Spain\",\"United Kingdom, United States\",\"United Kingdom, United States, Australia\",\"United Kingdom, United States, Canada\",\"United Kingdom, United States, France\",\"United Kingdom, United States, Ireland\",\"United Kingdom, United States, Japan\",\"United States\",\"United States, Argentina\",\"United States, Australia\",\"United States, Belgium, Canada, France\",\"United States, Botswana\",\"United States, Bulgaria\",\"United States, Canada\",\"United States, Canada, China\",\"United States, Canada, France\",\"United States, Canada, Germany\",\"United States, Canada, United Kingdom\",\"United States, Chile, Israel\",\"United States, China\",\"United States, China, Canada\",\"United States, China, Colombia\",\"United States, Czech Republic\",\"United States, East Germany, West Germany\",\"United States, France\",\"United States, France, Canada\",\"United States, France, Canada, Belgium\",\"United States, France, Denmark\",\"United States, France, Japan\",\"United States, France, Mexico\",\"United States, France, Serbia\",\"United States, Germany\",\"United States, Germany, Canada\",\"United States, Germany, Mexico\",\"United States, Germany, United Kingdom\",\"United States, Germany, United Kingdom, Italy\",\"United States, Greece\",\"United States, Hong Kong\",\"United States, India\",\"United States, Ireland, United Kingdom, India\",\"United States, Italy\",\"United States, Japan\",\"United States, Malta, France, United Kingdom\",\"United States, Mexico\",\"United States, Mexico, Colombia\",\"United States, Mexico, Spain, Malta\",\"United States, Nigeria\",\"United States, Norway, Canada\",\"United States, Philippines\",\"United States, Russia\",\"United States, South Korea\",\"United States, South Korea, China\",\"United States, Spain\",\"United States, United Kingdom\",\"United States, United Kingdom, Canada\",\"United States, United Kingdom, Canada, China\",\"United States, United Kingdom, France, Germany, Japan\",\"United States, United Kingdom, India\",\"United States, United Kingdom, Japan\",\"Uruguay\",\"Uruguay, Argentina\",\"Uruguay, Argentina, Germany, Spain\",\"Vietnam\",\"Zimbabwe\",\"no_Country\"],\"locationmode\":\"country names\",\"locations\":[\"Argentina\",\"Argentina, Spain\",\"Australia\",\"Australia, New Zealand, United States\",\"Australia, United Kingdom\",\"Australia, United States\",\"Austria\",\"Austria, Germany\",\"Belarus\",\"Belgium\",\"Brazil\",\"Brazil, France\",\"Brazil, France, Germany\",\"Brazil, United Kingdom\",\"Canada\",\"Canada, Belgium\",\"Canada, Nigeria\",\"Canada, South Africa\",\"Canada, South Korea, United States\",\"Canada, United Kingdom\",\"Canada, United States\",\"Canada, United States, Germany\",\"Canada, United States, Ireland\",\"Canada, United States, United Kingdom\",\"Canada, United States, United Kingdom, France, Luxembourg\",\"Chile\",\"Chile, Italy\",\"China\",\"China, Canada, United States\",\"China, Spain, South Korea, United States\",\"China, United States\",\"Colombia\",\"Cyprus\",\"Denmark\",\"Denmark, Singapore, Canada, United States\",\"Denmark, United States\",\"Egypt\",\"Egypt, Algeria\",\"Egypt, France\",\"Finland, France\",\"Finland, United States\",\"France\",\"France, Algeria\",\"France, Australia, Germany\",\"France, Belgium\",\"France, Belgium, Italy\",\"France, Belgium, Luxembourg, Cambodia,\",\"France, Belgium, United States\",\"France, Brazil, Spain, Belgium\",\"France, Canada, Italy, United States, China\",\"France, Canada, United States\",\"France, Egypt\",\"France, Lebanon\",\"France, Lebanon, United Kingdom\",\"France, Malta, United States\",\"France, New Zealand\",\"France, Norway, Lebanon, Belgium\",\"France, South Korea, Japan, United States\",\"France, United Kingdom, United States\",\"France, United States\",\"Germany\",\"Germany, China, United Kingdom\",\"Germany, Czech Republic\",\"Germany, France, United States, Canada, United Kingdom\",\"Germany, United States\",\"Germany, United States, United Kingdom, Canada\",\"Ghana\",\"Hong Kong, China\",\"Hong Kong, China, United States\",\"Hong Kong, Iceland, United States\",\"Hong Kong, United States\",\"Hungary\",\"Iceland\",\"India\",\"India, United Kingdom, China, Canada, Japan, South Korea, United States\",\"India, United States\",\"Indonesia\",\"Indonesia, Netherlands\",\"Indonesia, South Korea, Singapore\",\"Indonesia, United Kingdom\",\"Ireland\",\"Ireland, France, Iceland, United States, Mexico, Belgium, United Kingdom, Hong Kong\",\"Ireland, Luxembourg, Belgium\",\"Ireland, United Kingdom\",\"Ireland, United Kingdom, United States\",\"Ireland, United States\",\"Israel\",\"Italy\",\"Italy, France\",\"Italy, Turkey\",\"Italy, United Kingdom, France\",\"Jamaica, United States\",\"Japan\",\"Japan, Canada, United States\",\"Japan, United States\",\"Kenya\",\"Kenya, United States\",\"Kuwait\",\"Lebanon\",\"Lebanon, Canada, France\",\"Lebanon, France\",\"Lebanon, United Arab Emirates, France, Switzerland, Germany\",\"Lebanon, United States, United Arab Emirates\",\"Malaysia\",\"Mexico\",\"Mexico, Spain\",\"Mexico, United States\",\"Mozambique\",\"Namibia\",\"Netherlands\",\"Netherlands, Germany, Denmark, United Kingdom\",\"Netherlands, Germany, Italy, Canada\",\"New Zealand\",\"New Zealand, United States\",\"Nigeria\",\"Nigeria, United Kingdom\",\"Norway\",\"Pakistan, United States\",\"Peru, Germany, Norway\",\"Philippines\",\"Philippines, Canada, United Kingdom, United States\",\"Poland\",\"Poland, United States\",\"Puerto Rico, United States, Colombia\",\"Romania\",\"Romania, France, Switzerland, Germany\",\"Romania, United Kingdom\",\"Romania, United States\",\"Russia\",\"Russia, United States, China\",\"Saudi Arabia\",\"Saudi Arabia, Netherlands, Germany, Jordan, United Arab Emirates, United States\",\"Saudi Arabia, United Arab Emirates\",\"Senegal\",\"Serbia, United States\",\"Singapore\",\"South Africa\",\"South Africa, Angola\",\"South Africa, United States\",\"South Korea\",\"South Korea, United States\",\"Spain\",\"Spain, Canada, United States\",\"Spain, France, Canada\",\"Spain, France, Canada, United States\",\"Spain, France, United States\",\"Spain, Germany\",\"Spain, Germany, Denmark, United States\",\"Spain, Italy\",\"Spain, Thailand, United States\",\"Sweden\",\"Sweden, Czech Republic, United Kingdom, Denmark, Netherlands\",\"Switzerland, France, Belgium, United States\",\"Taiwan\",\"Taiwan, China\",\"Taiwan, Malaysia\",\"Thailand\",\"Thailand, United States\",\"Turkey\",\"Turkey, India\",\"Turkey, South Korea\",\"Turkey, United States\",\"United Arab Emirates\",\"United Arab Emirates, Jordan, Lebanon, Saudi Arabia\",\"United Kingdom\",\"United Kingdom, Australia\",\"United Kingdom, Canada, United States\",\"United Kingdom, China\",\"United Kingdom, China, United States, India\",\"United Kingdom, Czech Republic, Germany, United States\",\"United Kingdom, Czech Republic, United States, Germany, Bahamas\",\"United Kingdom, Finland, Germany, United States, Australia, Japan, France, Ireland\",\"United Kingdom, France, Belgium, Canada, United States\",\"United Kingdom, France, Belgium, Ireland, United States\",\"United Kingdom, France, Germany, Spain\",\"United Kingdom, France, Germany, United States\",\"United Kingdom, France, United States\",\"United Kingdom, France, United States, Belgium, Luxembourg, China, Germany\",\"United Kingdom, Germany, United Arab Emirates, New Zealand\",\"United Kingdom, Germany, United States, France\",\"United Kingdom, Italy\",\"United Kingdom, Japan, United States\",\"United Kingdom, Kenya\",\"United Kingdom, Nigeria\",\"United Kingdom, Singapore\",\"United Kingdom, Spain\",\"United Kingdom, United States\",\"United Kingdom, United States, Australia\",\"United Kingdom, United States, Canada\",\"United Kingdom, United States, France\",\"United Kingdom, United States, Ireland\",\"United Kingdom, United States, Japan\",\"United States\",\"United States, Argentina\",\"United States, Australia\",\"United States, Belgium, Canada, France\",\"United States, Botswana\",\"United States, Bulgaria\",\"United States, Canada\",\"United States, Canada, China\",\"United States, Canada, France\",\"United States, Canada, Germany\",\"United States, Canada, United Kingdom\",\"United States, Chile, Israel\",\"United States, China\",\"United States, China, Canada\",\"United States, China, Colombia\",\"United States, Czech Republic\",\"United States, East Germany, West Germany\",\"United States, France\",\"United States, France, Canada\",\"United States, France, Canada, Belgium\",\"United States, France, Denmark\",\"United States, France, Japan\",\"United States, France, Mexico\",\"United States, France, Serbia\",\"United States, Germany\",\"United States, Germany, Canada\",\"United States, Germany, Mexico\",\"United States, Germany, United Kingdom\",\"United States, Germany, United Kingdom, Italy\",\"United States, Greece\",\"United States, Hong Kong\",\"United States, India\",\"United States, Ireland, United Kingdom, India\",\"United States, Italy\",\"United States, Japan\",\"United States, Malta, France, United Kingdom\",\"United States, Mexico\",\"United States, Mexico, Colombia\",\"United States, Mexico, Spain, Malta\",\"United States, Nigeria\",\"United States, Norway, Canada\",\"United States, Philippines\",\"United States, Russia\",\"United States, South Korea\",\"United States, South Korea, China\",\"United States, Spain\",\"United States, United Kingdom\",\"United States, United Kingdom, Canada\",\"United States, United Kingdom, Canada, China\",\"United States, United Kingdom, France, Germany, Japan\",\"United States, United Kingdom, India\",\"United States, United Kingdom, Japan\",\"Uruguay\",\"Uruguay, Argentina\",\"Uruguay, Argentina, Germany, Spain\",\"Vietnam\",\"Zimbabwe\",\"no_Country\"],\"name\":\"\",\"z\":[12,1,16,1,1,3,2,1,1,2,23,1,1,1,48,1,1,1,1,1,7,1,1,1,1,3,1,6,1,1,1,7,1,2,1,2,47,1,1,1,1,30,1,1,5,1,1,1,1,1,1,3,1,1,1,1,1,1,1,3,19,1,1,1,3,1,2,1,1,1,1,2,2,189,1,3,25,1,1,1,1,1,1,1,1,1,1,17,1,1,1,1,62,1,4,2,1,5,9,2,1,1,1,5,18,3,2,1,1,6,1,1,2,2,38,1,5,1,1,30,1,8,2,1,2,1,1,1,2,1,6,1,1,1,1,1,20,1,2,46,2,23,1,1,1,1,2,1,1,1,3,1,1,10,1,1,6,1,24,1,1,1,8,1,60,1,2,1,1,1,1,1,1,1,1,1,2,1,1,1,1,1,1,1,1,1,19,1,1,1,1,1,624,1,2,1,1,1,15,1,1,1,1,1,2,1,1,1,1,3,1,1,1,1,1,1,4,1,1,1,1,2,1,2,1,1,4,1,2,1,1,1,1,1,2,1,1,1,8,1,1,1,1,1,1,1,1,1,1,108],\"type\":\"choropleth\"}],\"name\":\"2020\"},{\"data\":[{\"coloraxis\":\"coloraxis\",\"geo\":\"geo\",\"hovertemplate\":\"<b>%{hovertext}</b><br><br>year_added=2021<br>country=%{location}<br>counts=%{z}<extra></extra>\",\"hovertext\":[\", France, Algeria\",\", South Korea\",\"Argentina\",\"Argentina, Chile\",\"Argentina, Spain\",\"Argentina, Venezuela\",\"Australia\",\"Australia, Germany\",\"Australia, New Zealand\",\"Australia, United Kingdom\",\"Australia, United States\",\"Austria\",\"Bangladesh\",\"Belgium\",\"Belgium, France\",\"Belgium, Netherlands\",\"Belgium, United Kingdom\",\"Brazil\",\"Bulgaria, United States\",\"Cameroon\",\"Canada\",\"Canada, Hungary, United States\",\"Canada, Nigeria, United States\",\"Canada, South Africa\",\"Canada, United Kingdom, United States\",\"Canada, United States\",\"Canada, United States, Cayman Islands\",\"Canada, United States, Denmark\",\"Canada, United States, France\",\"Canada, United States, Mexico\",\"Canada, United States, United Kingdom\",\"Chile, Brazil\",\"China\",\"China, Canada, United States\",\"China, Hong Kong\",\"China, Taiwan\",\"China, United Kingdom\",\"China, United States, Canada\",\"Colombia\",\"Czech Republic, United Kingdom, United States\",\"Denmark\",\"Egypt\",\"Egypt, Denmark, Germany\",\"Egypt, Saudi Arabia\",\"Finland\",\"Finland, Germany\",\"France\",\"France, Belgium\",\"France, Canada\",\"France, Canada, United States, Spain\",\"France, Israel, Germany, United States, United Kingdom\",\"France, Japan, United States\",\"France, Netherlands, Singapore\",\"France, United Kingdom\",\"France, United States\",\"France, United States, United Kingdom, Canada\",\"Germany\",\"Germany, Czech Republic\",\"Germany, France\",\"Germany, United States\",\"Germany, United States, France\",\"Hong Kong\",\"Hong Kong, Canada, United States\",\"Hong Kong, United States\",\"Hungary, United States\",\"Iceland\",\"India\",\"India, France\",\"India, Nepal\",\"India, United Kingdom\",\"India, United Kingdom, France, Qatar\",\"India, United States\",\"Indonesia\",\"Ireland\",\"Ireland, Switzerland, United Kingdom, France, United States\",\"Ireland, United Kingdom, France, Germany\",\"Ireland, United States, United Kingdom\",\"Israel\",\"Israel, United States\",\"Italy\",\"Italy, Brazil, Greece\",\"Italy, United Kingdom\",\"Italy, United States\",\"Japan\",\"Japan, United States\",\"Jordan\",\"Kenya\",\"Kuwait, United States\",\"Lebanon\",\"Lebanon, Palestine, Denmark, Qatar\",\"Lebanon, Syria\",\"Lebanon, United Arab Emirates\",\"Luxembourg\",\"Malaysia\",\"Mauritius\",\"Mexico\",\"Mexico, Brazil\",\"Mexico, France, Colombia\",\"Mexico, United States\",\"Netherlands\",\"New Zealand\",\"New Zealand, Australia, France, United States\",\"Nigeria\",\"Norway\",\"Norway, Denmark\",\"Philippines\",\"Philippines, Singapore, Indonesia\",\"Poland\",\"Portugal, Spain\",\"Portugal, United States\",\"Romania\",\"Russia\",\"Russia, United States\",\"Saudi Arabia\",\"South Africa\",\"South Africa, United States\",\"South Africa, United States, Japan\",\"South Korea\",\"South Korea, Czech Republic\",\"Spain\",\"Spain, Argentina\",\"Spain, Belgium, United States\",\"Spain, France, United Kingdom, United States\",\"Spain, United Kingdom, United States\",\"Spain, United States\",\"Sweden\",\"Switzerland, United Kingdom, Australia\",\"Syria, France, Lebanon, Qatar\",\"Taiwan\",\"Thailand\",\"Turkey\",\"United Arab Emirates\",\"United Kingdom\",\"United Kingdom,\",\"United Kingdom, Australia, France\",\"United Kingdom, Australia, France, United States\",\"United Kingdom, Australia, United States\",\"United Kingdom, Belgium\",\"United Kingdom, Canada, United States\",\"United Kingdom, France, Germany, United States\",\"United Kingdom, France, Poland, Germany, United States\",\"United Kingdom, France, Spain, United States\",\"United Kingdom, Germany\",\"United Kingdom, Germany, France, United States\",\"United Kingdom, Germany, Spain, United States\",\"United Kingdom, Germany, United States\",\"United Kingdom, Ireland\",\"United Kingdom, South Africa, France\",\"United Kingdom, Spain, United States\",\"United Kingdom, United States\",\"United Kingdom, United States, Australia\",\"United Kingdom, United States, France\",\"United Kingdom, United States, France, Italy\",\"United States\",\"United States, Australia\",\"United States, Brazil, Japan, Spain, India\",\"United States, Bulgaria\",\"United States, Cambodia, Romania\",\"United States, Canada\",\"United States, China\",\"United States, China, Hong Kong\",\"United States, China, United Kingdom\",\"United States, Colombia\",\"United States, Czech Republic\",\"United States, France\",\"United States, France, Canada, Spain\",\"United States, France, Italy, United Kingdom\",\"United States, Germany\",\"United States, Germany, Canada\",\"United States, Germany, United Kingdom, Australia\",\"United States, Ghana, Burkina Faso, United Kingdom, Germany, Ethiopia\",\"United States, Hong Kong\",\"United States, India\",\"United States, India, France\",\"United States, India, United Kingdom\",\"United States, Italy, France, Japan\",\"United States, Italy, Romania, United Kingdom\",\"United States, Japan\",\"United States, Mexico\",\"United States, New Zealand\",\"United States, Nigeria\",\"United States, Russia\",\"United States, Singapore\",\"United States, South Korea\",\"United States, Sweden, Norway\",\"United States, Switzerland\",\"United States, Thailand\",\"United States, United Kingdom\",\"United States, United Kingdom, Canada\",\"United States, United Kingdom, France\",\"United States, United Kingdom, Germany, Hungary\",\"United States, United Kingdom, New Zealand\",\"Uruguay\",\"Uruguay, Germany\",\"Vietnam\",\"no_Country\"],\"locationmode\":\"country names\",\"locations\":[\", France, Algeria\",\", South Korea\",\"Argentina\",\"Argentina, Chile\",\"Argentina, Spain\",\"Argentina, Venezuela\",\"Australia\",\"Australia, Germany\",\"Australia, New Zealand\",\"Australia, United Kingdom\",\"Australia, United States\",\"Austria\",\"Bangladesh\",\"Belgium\",\"Belgium, France\",\"Belgium, Netherlands\",\"Belgium, United Kingdom\",\"Brazil\",\"Bulgaria, United States\",\"Cameroon\",\"Canada\",\"Canada, Hungary, United States\",\"Canada, Nigeria, United States\",\"Canada, South Africa\",\"Canada, United Kingdom, United States\",\"Canada, United States\",\"Canada, United States, Cayman Islands\",\"Canada, United States, Denmark\",\"Canada, United States, France\",\"Canada, United States, Mexico\",\"Canada, United States, United Kingdom\",\"Chile, Brazil\",\"China\",\"China, Canada, United States\",\"China, Hong Kong\",\"China, Taiwan\",\"China, United Kingdom\",\"China, United States, Canada\",\"Colombia\",\"Czech Republic, United Kingdom, United States\",\"Denmark\",\"Egypt\",\"Egypt, Denmark, Germany\",\"Egypt, Saudi Arabia\",\"Finland\",\"Finland, Germany\",\"France\",\"France, Belgium\",\"France, Canada\",\"France, Canada, United States, Spain\",\"France, Israel, Germany, United States, United Kingdom\",\"France, Japan, United States\",\"France, Netherlands, Singapore\",\"France, United Kingdom\",\"France, United States\",\"France, United States, United Kingdom, Canada\",\"Germany\",\"Germany, Czech Republic\",\"Germany, France\",\"Germany, United States\",\"Germany, United States, France\",\"Hong Kong\",\"Hong Kong, Canada, United States\",\"Hong Kong, United States\",\"Hungary, United States\",\"Iceland\",\"India\",\"India, France\",\"India, Nepal\",\"India, United Kingdom\",\"India, United Kingdom, France, Qatar\",\"India, United States\",\"Indonesia\",\"Ireland\",\"Ireland, Switzerland, United Kingdom, France, United States\",\"Ireland, United Kingdom, France, Germany\",\"Ireland, United States, United Kingdom\",\"Israel\",\"Israel, United States\",\"Italy\",\"Italy, Brazil, Greece\",\"Italy, United Kingdom\",\"Italy, United States\",\"Japan\",\"Japan, United States\",\"Jordan\",\"Kenya\",\"Kuwait, United States\",\"Lebanon\",\"Lebanon, Palestine, Denmark, Qatar\",\"Lebanon, Syria\",\"Lebanon, United Arab Emirates\",\"Luxembourg\",\"Malaysia\",\"Mauritius\",\"Mexico\",\"Mexico, Brazil\",\"Mexico, France, Colombia\",\"Mexico, United States\",\"Netherlands\",\"New Zealand\",\"New Zealand, Australia, France, United States\",\"Nigeria\",\"Norway\",\"Norway, Denmark\",\"Philippines\",\"Philippines, Singapore, Indonesia\",\"Poland\",\"Portugal, Spain\",\"Portugal, United States\",\"Romania\",\"Russia\",\"Russia, United States\",\"Saudi Arabia\",\"South Africa\",\"South Africa, United States\",\"South Africa, United States, Japan\",\"South Korea\",\"South Korea, Czech Republic\",\"Spain\",\"Spain, Argentina\",\"Spain, Belgium, United States\",\"Spain, France, United Kingdom, United States\",\"Spain, United Kingdom, United States\",\"Spain, United States\",\"Sweden\",\"Switzerland, United Kingdom, Australia\",\"Syria, France, Lebanon, Qatar\",\"Taiwan\",\"Thailand\",\"Turkey\",\"United Arab Emirates\",\"United Kingdom\",\"United Kingdom,\",\"United Kingdom, Australia, France\",\"United Kingdom, Australia, France, United States\",\"United Kingdom, Australia, United States\",\"United Kingdom, Belgium\",\"United Kingdom, Canada, United States\",\"United Kingdom, France, Germany, United States\",\"United Kingdom, France, Poland, Germany, United States\",\"United Kingdom, France, Spain, United States\",\"United Kingdom, Germany\",\"United Kingdom, Germany, France, United States\",\"United Kingdom, Germany, Spain, United States\",\"United Kingdom, Germany, United States\",\"United Kingdom, Ireland\",\"United Kingdom, South Africa, France\",\"United Kingdom, Spain, United States\",\"United Kingdom, United States\",\"United Kingdom, United States, Australia\",\"United Kingdom, United States, France\",\"United Kingdom, United States, France, Italy\",\"United States\",\"United States, Australia\",\"United States, Brazil, Japan, Spain, India\",\"United States, Bulgaria\",\"United States, Cambodia, Romania\",\"United States, Canada\",\"United States, China\",\"United States, China, Hong Kong\",\"United States, China, United Kingdom\",\"United States, Colombia\",\"United States, Czech Republic\",\"United States, France\",\"United States, France, Canada, Spain\",\"United States, France, Italy, United Kingdom\",\"United States, Germany\",\"United States, Germany, Canada\",\"United States, Germany, United Kingdom, Australia\",\"United States, Ghana, Burkina Faso, United Kingdom, Germany, Ethiopia\",\"United States, Hong Kong\",\"United States, India\",\"United States, India, France\",\"United States, India, United Kingdom\",\"United States, Italy, France, Japan\",\"United States, Italy, Romania, United Kingdom\",\"United States, Japan\",\"United States, Mexico\",\"United States, New Zealand\",\"United States, Nigeria\",\"United States, Russia\",\"United States, Singapore\",\"United States, South Korea\",\"United States, Sweden, Norway\",\"United States, Switzerland\",\"United States, Thailand\",\"United States, United Kingdom\",\"United States, United Kingdom, Canada\",\"United States, United Kingdom, France\",\"United States, United Kingdom, Germany, Hungary\",\"United States, United Kingdom, New Zealand\",\"Uruguay\",\"Uruguay, Germany\",\"Vietnam\",\"no_Country\"],\"name\":\"\",\"z\":[1,1,8,1,1,1,9,1,1,1,3,1,1,2,1,2,1,7,1,1,11,1,1,1,1,7,1,1,1,1,1,1,9,1,1,1,2,1,6,1,1,5,1,1,1,1,15,1,1,1,1,1,1,1,4,1,9,1,1,6,1,1,1,1,1,1,95,1,1,1,1,1,12,1,1,1,1,2,2,9,1,1,1,44,1,1,1,1,2,1,1,1,1,1,1,13,1,1,2,2,1,1,26,1,1,4,1,5,1,1,3,2,1,1,5,1,1,26,1,20,1,1,1,1,1,3,1,1,8,7,26,3,43,1,1,1,1,1,2,1,1,1,1,1,1,1,1,1,1,14,1,1,1,448,2,1,1,1,21,3,1,1,2,1,5,1,1,6,1,1,1,1,2,1,1,1,1,4,3,2,1,1,1,1,1,1,2,13,1,2,1,1,1,1,2,358],\"type\":\"choropleth\"}],\"name\":\"2021\"}]);\n",
       "                        }).then(function(){\n",
       "                            \n",
       "var gd = document.getElementById('89c7c020-8f5f-4dd3-9cfa-87feacccaba8');\n",
       "var x = new MutationObserver(function (mutations, observer) {{\n",
       "        var display = window.getComputedStyle(gd).display;\n",
       "        if (!display || display === 'none') {{\n",
       "            console.log([gd, 'removed!']);\n",
       "            Plotly.purge(gd);\n",
       "            observer.disconnect();\n",
       "        }}\n",
       "}});\n",
       "\n",
       "// Listen for the removal of the full notebook cells\n",
       "var notebookContainer = gd.closest('#notebook-container');\n",
       "if (notebookContainer) {{\n",
       "    x.observe(notebookContainer, {childList: true});\n",
       "}}\n",
       "\n",
       "// Listen for the clearing of the current output cell\n",
       "var outputEl = gd.closest('.output');\n",
       "if (outputEl) {{\n",
       "    x.observe(outputEl, {childList: true});\n",
       "}}\n",
       "\n",
       "                        })                };                });            </script>        </div>"
      ]
     },
     "metadata": {},
     "output_type": "display_data"
    }
   ],
   "source": [
    "fig = px.choropleth(countrydf, \n",
    "                    locations='country', \n",
    "                    locationmode='country names', \n",
    "                    color='counts',\n",
    "                    animation_frame='year_added',\n",
    "                    range_color=[0, 100],\n",
    "                   hover_name='country')\n",
    "fig.show()\n"
   ]
  },
  {
   "cell_type": "code",
   "execution_count": 84,
   "id": "b577a6a8",
   "metadata": {},
   "outputs": [
    {
     "data": {
      "image/png": "[encoded data removed]",
      "text/plain": [
       "<Figure size 1000x600 with 1 Axes>"
      ]
     },
     "metadata": {},
     "output_type": "display_data"
    }
   ],
   "source": [
    "\n",
    "\n",
    "# Create separate dataframes for movies and TV shows\n",
    "movies_df = netflixdf[netflixdf['type'] == 'Movie']\n",
    "tv_shows_df = netflixdf[netflixdf['type'] == 'TV Show']\n",
    "\n",
    "# Get the count of movies and TV shows released in each year\n",
    "movies_count = movies_df['year_added'].value_counts().sort_index()\n",
    "tv_shows_count = tv_shows_df['year_added'].value_counts().sort_index()\n",
    "# Plot an area map for movies and TV shows\n",
    "plt.fill_between(movies_count.index, movies_count.values, alpha=0.2,color='blue',label='Movies')\n",
    "plt.fill_between(tv_shows_count.index, tv_shows_count.values, alpha=0.2,color='red', label='TV Shows')\n",
    "\n",
    "# Put legend names inside the area map\n",
    "plt.text(2018, 900, 'Movies', fontsize=10, color='black')\n",
    "plt.text(2018, 200, 'TV Shows', fontsize=10, color='blue')\n",
    "\n",
    "# Group the Netflix data by year and count the number of entries in each group\n",
    "year_counts = netflixdf.groupby(netflixdf['date_added'].dt.year).size()\n",
    "\n",
    "# Create a line plot of the total  number of releases by year\n",
    "year_counts.plot(kind='line', figsize=(10, 6), grid=True,\n",
    "                 title='Number of Netflix releases by year')\n",
    "plt.show()"
   ]
  },
  {
   "cell_type": "code",
   "execution_count": 90,
   "id": "bdc8bc96",
   "metadata": {},
   "outputs": [
    {
     "data": {
      "application/vnd.plotly.v1+json": {
       "config": {
        "plotlyServerURL": "https://plot.ly"
       },
       "data": [
        {
         "branchvalues": "total",
         "customdata": [
          [
           "G",
           41,
           41
          ],
          [
           "NC-17",
           3,
           3
          ],
          [
           "NR",
           79,
           79
          ],
          [
           "PG",
           287,
           287
          ],
          [
           "PG-13",
           490,
           490
          ],
          [
           "R",
           799,
           799
          ],
          [
           "TV-14",
           2157,
           2157
          ],
          [
           "TV-G",
           220,
           220
          ],
          [
           "TV-MA",
           3205,
           3205
          ],
          [
           "TV-PG",
           861,
           861
          ],
          [
           "TV-Y",
           306,
           306
          ],
          [
           "TV-Y7",
           333,
           333
          ],
          [
           "TV-Y7-FV",
           6,
           6
          ],
          [
           "UR",
           3,
           3
          ]
         ],
         "domain": {
          "x": [
           0,
           1
          ],
          "y": [
           0,
           1
          ]
         },
         "hovertemplate": "labels=%{label}<br>count_sum=%{value}<br>parent=%{parent}<br>id=%{id}<br>rating=%{customdata[0]}<br>count=%{color}<extra></extra>",
         "ids": [
          "G",
          "NC-17",
          "NR",
          "PG",
          "PG-13",
          "R",
          "TV-14",
          "TV-G",
          "TV-MA",
          "TV-PG",
          "TV-Y",
          "TV-Y7",
          "TV-Y7-FV",
          "UR"
         ],
         "labels": [
          "G",
          "NC-17",
          "NR",
          "PG",
          "PG-13",
          "R",
          "TV-14",
          "TV-G",
          "TV-MA",
          "TV-PG",
          "TV-Y",
          "TV-Y7",
          "TV-Y7-FV",
          "UR"
         ],
         "marker": {
          "coloraxis": "coloraxis",
          "colors": [
           41,
           3,
           79,
           287,
           490,
           799,
           2157,
           220,
           3205,
           861,
           306,
           333,
           6,
           3
          ],
          "line": {
           "color": "yellow",
           "width": 1
          }
         },
         "name": "",
         "parents": [
          "",
          "",
          "",
          "",
          "",
          "",
          "",
          "",
          "",
          "",
          "",
          "",
          "",
          ""
         ],
         "type": "treemap",
         "values": [
          41,
          3,
          79,
          287,
          490,
          799,
          2157,
          220,
          3205,
          861,
          306,
          333,
          6,
          3
         ]
        }
       ],
       "layout": {
        "coloraxis": {
         "colorbar": {
          "title": {
           "text": "count"
          }
         },
         "colorscale": [
          [
           0,
           "rgb(247,251,255)"
          ],
          [
           0.125,
           "rgb(222,235,247)"
          ],
          [
           0.25,
           "rgb(198,219,239)"
          ],
          [
           0.375,
           "rgb(158,202,225)"
          ],
          [
           0.5,
           "rgb(107,174,214)"
          ],
          [
           0.625,
           "rgb(66,146,198)"
          ],
          [
           0.75,
           "rgb(33,113,181)"
          ],
          [
           0.875,
           "rgb(8,81,156)"
          ],
          [
           1,
           "rgb(8,48,107)"
          ]
         ]
        },
        "height": 600,
        "legend": {
         "tracegroupgap": 0
        },
        "margin": {
         "t": 60
        },
        "template": {
         "data": {
          "bar": [
           {
            "error_x": {
             "color": "#2a3f5f"
            },
            "error_y": {
             "color": "#2a3f5f"
            },
            "marker": {
             "line": {
              "color": "#E5ECF6",
              "width": 0.5
             },
             "pattern": {
              "fillmode": "overlay",
              "size": 10,
              "solidity": 0.2
             }
            },
            "type": "bar"
           }
          ],
          "barpolar": [
           {
            "marker": {
             "line": {
              "color": "#E5ECF6",
              "width": 0.5
             },
             "pattern": {
              "fillmode": "overlay",
              "size": 10,
              "solidity": 0.2
             }
            },
            "type": "barpolar"
           }
          ],
          "carpet": [
           {
            "aaxis": {
             "endlinecolor": "#2a3f5f",
             "gridcolor": "white",
             "linecolor": "white",
             "minorgridcolor": "white",
             "startlinecolor": "#2a3f5f"
            },
            "baxis": {
             "endlinecolor": "#2a3f5f",
             "gridcolor": "white",
             "linecolor": "white",
             "minorgridcolor": "white",
             "startlinecolor": "#2a3f5f"
            },
            "type": "carpet"
           }
          ],
          "choropleth": [
           {
            "colorbar": {
             "outlinewidth": 0,
             "ticks": ""
            },
            "type": "choropleth"
           }
          ],
          "contour": [
           {
            "colorbar": {
             "outlinewidth": 0,
             "ticks": ""
            },
            "colorscale": [
             [
              0,
              "#0d0887"
             ],
             [
              0.1111111111111111,
              "#46039f"
             ],
             [
              0.2222222222222222,
              "#7201a8"
             ],
             [
              0.3333333333333333,
              "#9c179e"
             ],
             [
              0.4444444444444444,
              "#bd3786"
             ],
             [
              0.5555555555555556,
              "#d8576b"
             ],
             [
              0.6666666666666666,
              "#ed7953"
             ],
             [
              0.7777777777777778,
              "#fb9f3a"
             ],
             [
              0.8888888888888888,
              "#fdca26"
             ],
             [
              1,
              "#f0f921"
             ]
            ],
            "type": "contour"
           }
          ],
          "contourcarpet": [
           {
            "colorbar": {
             "outlinewidth": 0,
             "ticks": ""
            },
            "type": "contourcarpet"
           }
          ],
          "heatmap": [
           {
            "colorbar": {
             "outlinewidth": 0,
             "ticks": ""
            },
            "colorscale": [
             [
              0,
              "#0d0887"
             ],
             [
              0.1111111111111111,
              "#46039f"
             ],
             [
              0.2222222222222222,
              "#7201a8"
             ],
             [
              0.3333333333333333,
              "#9c179e"
             ],
             [
              0.4444444444444444,
              "#bd3786"
             ],
             [
              0.5555555555555556,
              "#d8576b"
             ],
             [
              0.6666666666666666,
              "#ed7953"
             ],
             [
              0.7777777777777778,
              "#fb9f3a"
             ],
             [
              0.8888888888888888,
              "#fdca26"
             ],
             [
              1,
              "#f0f921"
             ]
            ],
            "type": "heatmap"
           }
          ],
          "heatmapgl": [
           {
            "colorbar": {
             "outlinewidth": 0,
             "ticks": ""
            },
            "colorscale": [
             [
              0,
              "#0d0887"
             ],
             [
              0.1111111111111111,
              "#46039f"
             ],
             [
              0.2222222222222222,
              "#7201a8"
             ],
             [
              0.3333333333333333,
              "#9c179e"
             ],
             [
              0.4444444444444444,
              "#bd3786"
             ],
             [
              0.5555555555555556,
              "#d8576b"
             ],
             [
              0.6666666666666666,
              "#ed7953"
             ],
             [
              0.7777777777777778,
              "#fb9f3a"
             ],
             [
              0.8888888888888888,
              "#fdca26"
             ],
             [
              1,
              "#f0f921"
             ]
            ],
            "type": "heatmapgl"
           }
          ],
          "histogram": [
           {
            "marker": {
             "pattern": {
              "fillmode": "overlay",
              "size": 10,
              "solidity": 0.2
             }
            },
            "type": "histogram"
           }
          ],
          "histogram2d": [
           {
            "colorbar": {
             "outlinewidth": 0,
             "ticks": ""
            },
            "colorscale": [
             [
              0,
              "#0d0887"
             ],
             [
              0.1111111111111111,
              "#46039f"
             ],
             [
              0.2222222222222222,
              "#7201a8"
             ],
             [
              0.3333333333333333,
              "#9c179e"
             ],
             [
              0.4444444444444444,
              "#bd3786"
             ],
             [
              0.5555555555555556,
              "#d8576b"
             ],
             [
              0.6666666666666666,
              "#ed7953"
             ],
             [
              0.7777777777777778,
              "#fb9f3a"
             ],
             [
              0.8888888888888888,
              "#fdca26"
             ],
             [
              1,
              "#f0f921"
             ]
            ],
            "type": "histogram2d"
           }
          ],
          "histogram2dcontour": [
           {
            "colorbar": {
             "outlinewidth": 0,
             "ticks": ""
            },
            "colorscale": [
             [
              0,
              "#0d0887"
             ],
             [
              0.1111111111111111,
              "#46039f"
             ],
             [
              0.2222222222222222,
              "#7201a8"
             ],
             [
              0.3333333333333333,
              "#9c179e"
             ],
             [
              0.4444444444444444,
              "#bd3786"
             ],
             [
              0.5555555555555556,
              "#d8576b"
             ],
             [
              0.6666666666666666,
              "#ed7953"
             ],
             [
              0.7777777777777778,
              "#fb9f3a"
             ],
             [
              0.8888888888888888,
              "#fdca26"
             ],
             [
              1,
              "#f0f921"
             ]
            ],
            "type": "histogram2dcontour"
           }
          ],
          "mesh3d": [
           {
            "colorbar": {
             "outlinewidth": 0,
             "ticks": ""
            },
            "type": "mesh3d"
           }
          ],
          "parcoords": [
           {
            "line": {
             "colorbar": {
              "outlinewidth": 0,
              "ticks": ""
             }
            },
            "type": "parcoords"
           }
          ],
          "pie": [
           {
            "automargin": true,
            "type": "pie"
           }
          ],
          "scatter": [
           {
            "fillpattern": {
             "fillmode": "overlay",
             "size": 10,
             "solidity": 0.2
            },
            "type": "scatter"
           }
          ],
          "scatter3d": [
           {
            "line": {
             "colorbar": {
              "outlinewidth": 0,
              "ticks": ""
             }
            },
            "marker": {
             "colorbar": {
              "outlinewidth": 0,
              "ticks": ""
             }
            },
            "type": "scatter3d"
           }
          ],
          "scattercarpet": [
           {
            "marker": {
             "colorbar": {
              "outlinewidth": 0,
              "ticks": ""
             }
            },
            "type": "scattercarpet"
           }
          ],
          "scattergeo": [
           {
            "marker": {
             "colorbar": {
              "outlinewidth": 0,
              "ticks": ""
             }
            },
            "type": "scattergeo"
           }
          ],
          "scattergl": [
           {
            "marker": {
             "colorbar": {
              "outlinewidth": 0,
              "ticks": ""
             }
            },
            "type": "scattergl"
           }
          ],
          "scattermapbox": [
           {
            "marker": {
             "colorbar": {
              "outlinewidth": 0,
              "ticks": ""
             }
            },
            "type": "scattermapbox"
           }
          ],
          "scatterpolar": [
           {
            "marker": {
             "colorbar": {
              "outlinewidth": 0,
              "ticks": ""
             }
            },
            "type": "scatterpolar"
           }
          ],
          "scatterpolargl": [
           {
            "marker": {
             "colorbar": {
              "outlinewidth": 0,
              "ticks": ""
             }
            },
            "type": "scatterpolargl"
           }
          ],
          "scatterternary": [
           {
            "marker": {
             "colorbar": {
              "outlinewidth": 0,
              "ticks": ""
             }
            },
            "type": "scatterternary"
           }
          ],
          "surface": [
           {
            "colorbar": {
             "outlinewidth": 0,
             "ticks": ""
            },
            "colorscale": [
             [
              0,
              "#0d0887"
             ],
             [
              0.1111111111111111,
              "#46039f"
             ],
             [
              0.2222222222222222,
              "#7201a8"
             ],
             [
              0.3333333333333333,
              "#9c179e"
             ],
             [
              0.4444444444444444,
              "#bd3786"
             ],
             [
              0.5555555555555556,
              "#d8576b"
             ],
             [
              0.6666666666666666,
              "#ed7953"
             ],
             [
              0.7777777777777778,
              "#fb9f3a"
             ],
             [
              0.8888888888888888,
              "#fdca26"
             ],
             [
              1,
              "#f0f921"
             ]
            ],
            "type": "surface"
           }
          ],
          "table": [
           {
            "cells": {
             "fill": {
              "color": "#EBF0F8"
             },
             "line": {
              "color": "white"
             }
            },
            "header": {
             "fill": {
              "color": "#C8D4E3"
             },
             "line": {
              "color": "white"
             }
            },
            "type": "table"
           }
          ]
         },
         "layout": {
          "annotationdefaults": {
           "arrowcolor": "#2a3f5f",
           "arrowhead": 0,
           "arrowwidth": 1
          },
          "autotypenumbers": "strict",
          "coloraxis": {
           "colorbar": {
            "outlinewidth": 0,
            "ticks": ""
           }
          },
          "colorscale": {
           "diverging": [
            [
             0,
             "#8e0152"
            ],
            [
             0.1,
             "#c51b7d"
            ],
            [
             0.2,
             "#de77ae"
            ],
            [
             0.3,
             "#f1b6da"
            ],
            [
             0.4,
             "#fde0ef"
            ],
            [
             0.5,
             "#f7f7f7"
            ],
            [
             0.6,
             "#e6f5d0"
            ],
            [
             0.7,
             "#b8e186"
            ],
            [
             0.8,
             "#7fbc41"
            ],
            [
             0.9,
             "#4d9221"
            ],
            [
             1,
             "#276419"
            ]
           ],
           "sequential": [
            [
             0,
             "#0d0887"
            ],
            [
             0.1111111111111111,
             "#46039f"
            ],
            [
             0.2222222222222222,
             "#7201a8"
            ],
            [
             0.3333333333333333,
             "#9c179e"
            ],
            [
             0.4444444444444444,
             "#bd3786"
            ],
            [
             0.5555555555555556,
             "#d8576b"
            ],
            [
             0.6666666666666666,
             "#ed7953"
            ],
            [
             0.7777777777777778,
             "#fb9f3a"
            ],
            [
             0.8888888888888888,
             "#fdca26"
            ],
            [
             1,
             "#f0f921"
            ]
           ],
           "sequentialminus": [
            [
             0,
             "#0d0887"
            ],
            [
             0.1111111111111111,
             "#46039f"
            ],
            [
             0.2222222222222222,
             "#7201a8"
            ],
            [
             0.3333333333333333,
             "#9c179e"
            ],
            [
             0.4444444444444444,
             "#bd3786"
            ],
            [
             0.5555555555555556,
             "#d8576b"
            ],
            [
             0.6666666666666666,
             "#ed7953"
            ],
            [
             0.7777777777777778,
             "#fb9f3a"
            ],
            [
             0.8888888888888888,
             "#fdca26"
            ],
            [
             1,
             "#f0f921"
            ]
           ]
          },
          "colorway": [
           "#636efa",
           "#EF553B",
           "#00cc96",
           "#ab63fa",
           "#FFA15A",
           "#19d3f3",
           "#FF6692",
           "#B6E880",
           "#FF97FF",
           "#FECB52"
          ],
          "font": {
           "color": "#2a3f5f"
          },
          "geo": {
           "bgcolor": "white",
           "lakecolor": "white",
           "landcolor": "#E5ECF6",
           "showlakes": true,
           "showland": true,
           "subunitcolor": "white"
          },
          "hoverlabel": {
           "align": "left"
          },
          "hovermode": "closest",
          "mapbox": {
           "style": "light"
          },
          "paper_bgcolor": "white",
          "plot_bgcolor": "#E5ECF6",
          "polar": {
           "angularaxis": {
            "gridcolor": "white",
            "linecolor": "white",
            "ticks": ""
           },
           "bgcolor": "#E5ECF6",
           "radialaxis": {
            "gridcolor": "white",
            "linecolor": "white",
            "ticks": ""
           }
          },
          "scene": {
           "xaxis": {
            "backgroundcolor": "#E5ECF6",
            "gridcolor": "white",
            "gridwidth": 2,
            "linecolor": "white",
            "showbackground": true,
            "ticks": "",
            "zerolinecolor": "white"
           },
           "yaxis": {
            "backgroundcolor": "#E5ECF6",
            "gridcolor": "white",
            "gridwidth": 2,
            "linecolor": "white",
            "showbackground": true,
            "ticks": "",
            "zerolinecolor": "white"
           },
           "zaxis": {
            "backgroundcolor": "#E5ECF6",
            "gridcolor": "white",
            "gridwidth": 2,
            "linecolor": "white",
            "showbackground": true,
            "ticks": "",
            "zerolinecolor": "white"
           }
          },
          "shapedefaults": {
           "line": {
            "color": "#2a3f5f"
           }
          },
          "ternary": {
           "aaxis": {
            "gridcolor": "white",
            "linecolor": "white",
            "ticks": ""
           },
           "baxis": {
            "gridcolor": "white",
            "linecolor": "white",
            "ticks": ""
           },
           "bgcolor": "#E5ECF6",
           "caxis": {
            "gridcolor": "white",
            "linecolor": "white",
            "ticks": ""
           }
          },
          "title": {
           "x": 0.05
          },
          "xaxis": {
           "automargin": true,
           "gridcolor": "white",
           "linecolor": "white",
           "ticks": "",
           "title": {
            "standoff": 15
           },
           "zerolinecolor": "white",
           "zerolinewidth": 2
          },
          "yaxis": {
           "automargin": true,
           "gridcolor": "white",
           "linecolor": "white",
           "ticks": "",
           "title": {
            "standoff": 15
           },
           "zerolinecolor": "white",
           "zerolinewidth": 2
          }
         }
        },
        "width": 800
       }
      },
      "text/html": [
       "<div>                            <div id=\"9c0e3b51-827f-4ee4-b251-9e8458f3cba5\" class=\"plotly-graph-div\" style=\"height:600px; width:800px;\"></div>            <script type=\"text/javascript\">                require([\"plotly\"], function(Plotly) {                    window.PLOTLYENV=window.PLOTLYENV || {};                                    if (document.getElementById(\"9c0e3b51-827f-4ee4-b251-9e8458f3cba5\")) {                    Plotly.newPlot(                        \"9c0e3b51-827f-4ee4-b251-9e8458f3cba5\",                        [{\"branchvalues\":\"total\",\"customdata\":[[\"G\",41.0,41.0],[\"NC-17\",3.0,3.0],[\"NR\",79.0,79.0],[\"PG\",287.0,287.0],[\"PG-13\",490.0,490.0],[\"R\",799.0,799.0],[\"TV-14\",2157.0,2157.0],[\"TV-G\",220.0,220.0],[\"TV-MA\",3205.0,3205.0],[\"TV-PG\",861.0,861.0],[\"TV-Y\",306.0,306.0],[\"TV-Y7\",333.0,333.0],[\"TV-Y7-FV\",6.0,6.0],[\"UR\",3.0,3.0]],\"domain\":{\"x\":[0.0,1.0],\"y\":[0.0,1.0]},\"hovertemplate\":\"labels=%{label}<br>count_sum=%{value}<br>parent=%{parent}<br>id=%{id}<br>rating=%{customdata[0]}<br>count=%{color}<extra></extra>\",\"ids\":[\"G\",\"NC-17\",\"NR\",\"PG\",\"PG-13\",\"R\",\"TV-14\",\"TV-G\",\"TV-MA\",\"TV-PG\",\"TV-Y\",\"TV-Y7\",\"TV-Y7-FV\",\"UR\"],\"labels\":[\"G\",\"NC-17\",\"NR\",\"PG\",\"PG-13\",\"R\",\"TV-14\",\"TV-G\",\"TV-MA\",\"TV-PG\",\"TV-Y\",\"TV-Y7\",\"TV-Y7-FV\",\"UR\"],\"marker\":{\"coloraxis\":\"coloraxis\",\"colors\":[41.0,3.0,79.0,287.0,490.0,799.0,2157.0,220.0,3205.0,861.0,306.0,333.0,6.0,3.0],\"line\":{\"color\":\"yellow\",\"width\":1}},\"name\":\"\",\"parents\":[\"\",\"\",\"\",\"\",\"\",\"\",\"\",\"\",\"\",\"\",\"\",\"\",\"\",\"\"],\"values\":[41,3,79,287,490,799,2157,220,3205,861,306,333,6,3],\"type\":\"treemap\"}],                        {\"template\":{\"data\":{\"histogram2dcontour\":[{\"type\":\"histogram2dcontour\",\"colorbar\":{\"outlinewidth\":0,\"ticks\":\"\"},\"colorscale\":[[0.0,\"#0d0887\"],[0.1111111111111111,\"#46039f\"],[0.2222222222222222,\"#7201a8\"],[0.3333333333333333,\"#9c179e\"],[0.4444444444444444,\"#bd3786\"],[0.5555555555555556,\"#d8576b\"],[0.6666666666666666,\"#ed7953\"],[0.7777777777777778,\"#fb9f3a\"],[0.8888888888888888,\"#fdca26\"],[1.0,\"#f0f921\"]]}],\"choropleth\":[{\"type\":\"choropleth\",\"colorbar\":{\"outlinewidth\":0,\"ticks\":\"\"}}],\"histogram2d\":[{\"type\":\"histogram2d\",\"colorbar\":{\"outlinewidth\":0,\"ticks\":\"\"},\"colorscale\":[[0.0,\"#0d0887\"],[0.1111111111111111,\"#46039f\"],[0.2222222222222222,\"#7201a8\"],[0.3333333333333333,\"#9c179e\"],[0.4444444444444444,\"#bd3786\"],[0.5555555555555556,\"#d8576b\"],[0.6666666666666666,\"#ed7953\"],[0.7777777777777778,\"#fb9f3a\"],[0.8888888888888888,\"#fdca26\"],[1.0,\"#f0f921\"]]}],\"heatmap\":[{\"type\":\"heatmap\",\"colorbar\":{\"outlinewidth\":0,\"ticks\":\"\"},\"colorscale\":[[0.0,\"#0d0887\"],[0.1111111111111111,\"#46039f\"],[0.2222222222222222,\"#7201a8\"],[0.3333333333333333,\"#9c179e\"],[0.4444444444444444,\"#bd3786\"],[0.5555555555555556,\"#d8576b\"],[0.6666666666666666,\"#ed7953\"],[0.7777777777777778,\"#fb9f3a\"],[0.8888888888888888,\"#fdca26\"],[1.0,\"#f0f921\"]]}],\"heatmapgl\":[{\"type\":\"heatmapgl\",\"colorbar\":{\"outlinewidth\":0,\"ticks\":\"\"},\"colorscale\":[[0.0,\"#0d0887\"],[0.1111111111111111,\"#46039f\"],[0.2222222222222222,\"#7201a8\"],[0.3333333333333333,\"#9c179e\"],[0.4444444444444444,\"#bd3786\"],[0.5555555555555556,\"#d8576b\"],[0.6666666666666666,\"#ed7953\"],[0.7777777777777778,\"#fb9f3a\"],[0.8888888888888888,\"#fdca26\"],[1.0,\"#f0f921\"]]}],\"contourcarpet\":[{\"type\":\"contourcarpet\",\"colorbar\":{\"outlinewidth\":0,\"ticks\":\"\"}}],\"contour\":[{\"type\":\"contour\",\"colorbar\":{\"outlinewidth\":0,\"ticks\":\"\"},\"colorscale\":[[0.0,\"#0d0887\"],[0.1111111111111111,\"#46039f\"],[0.2222222222222222,\"#7201a8\"],[0.3333333333333333,\"#9c179e\"],[0.4444444444444444,\"#bd3786\"],[0.5555555555555556,\"#d8576b\"],[0.6666666666666666,\"#ed7953\"],[0.7777777777777778,\"#fb9f3a\"],[0.8888888888888888,\"#fdca26\"],[1.0,\"#f0f921\"]]}],\"surface\":[{\"type\":\"surface\",\"colorbar\":{\"outlinewidth\":0,\"ticks\":\"\"},\"colorscale\":[[0.0,\"#0d0887\"],[0.1111111111111111,\"#46039f\"],[0.2222222222222222,\"#7201a8\"],[0.3333333333333333,\"#9c179e\"],[0.4444444444444444,\"#bd3786\"],[0.5555555555555556,\"#d8576b\"],[0.6666666666666666,\"#ed7953\"],[0.7777777777777778,\"#fb9f3a\"],[0.8888888888888888,\"#fdca26\"],[1.0,\"#f0f921\"]]}],\"mesh3d\":[{\"type\":\"mesh3d\",\"colorbar\":{\"outlinewidth\":0,\"ticks\":\"\"}}],\"scatter\":[{\"fillpattern\":{\"fillmode\":\"overlay\",\"size\":10,\"solidity\":0.2},\"type\":\"scatter\"}],\"parcoords\":[{\"type\":\"parcoords\",\"line\":{\"colorbar\":{\"outlinewidth\":0,\"ticks\":\"\"}}}],\"scatterpolargl\":[{\"type\":\"scatterpolargl\",\"marker\":{\"colorbar\":{\"outlinewidth\":0,\"ticks\":\"\"}}}],\"bar\":[{\"error_x\":{\"color\":\"#2a3f5f\"},\"error_y\":{\"color\":\"#2a3f5f\"},\"marker\":{\"line\":{\"color\":\"#E5ECF6\",\"width\":0.5},\"pattern\":{\"fillmode\":\"overlay\",\"size\":10,\"solidity\":0.2}},\"type\":\"bar\"}],\"scattergeo\":[{\"type\":\"scattergeo\",\"marker\":{\"colorbar\":{\"outlinewidth\":0,\"ticks\":\"\"}}}],\"scatterpolar\":[{\"type\":\"scatterpolar\",\"marker\":{\"colorbar\":{\"outlinewidth\":0,\"ticks\":\"\"}}}],\"histogram\":[{\"marker\":{\"pattern\":{\"fillmode\":\"overlay\",\"size\":10,\"solidity\":0.2}},\"type\":\"histogram\"}],\"scattergl\":[{\"type\":\"scattergl\",\"marker\":{\"colorbar\":{\"outlinewidth\":0,\"ticks\":\"\"}}}],\"scatter3d\":[{\"type\":\"scatter3d\",\"line\":{\"colorbar\":{\"outlinewidth\":0,\"ticks\":\"\"}},\"marker\":{\"colorbar\":{\"outlinewidth\":0,\"ticks\":\"\"}}}],\"scattermapbox\":[{\"type\":\"scattermapbox\",\"marker\":{\"colorbar\":{\"outlinewidth\":0,\"ticks\":\"\"}}}],\"scatterternary\":[{\"type\":\"scatterternary\",\"marker\":{\"colorbar\":{\"outlinewidth\":0,\"ticks\":\"\"}}}],\"scattercarpet\":[{\"type\":\"scattercarpet\",\"marker\":{\"colorbar\":{\"outlinewidth\":0,\"ticks\":\"\"}}}],\"carpet\":[{\"aaxis\":{\"endlinecolor\":\"#2a3f5f\",\"gridcolor\":\"white\",\"linecolor\":\"white\",\"minorgridcolor\":\"white\",\"startlinecolor\":\"#2a3f5f\"},\"baxis\":{\"endlinecolor\":\"#2a3f5f\",\"gridcolor\":\"white\",\"linecolor\":\"white\",\"minorgridcolor\":\"white\",\"startlinecolor\":\"#2a3f5f\"},\"type\":\"carpet\"}],\"table\":[{\"cells\":{\"fill\":{\"color\":\"#EBF0F8\"},\"line\":{\"color\":\"white\"}},\"header\":{\"fill\":{\"color\":\"#C8D4E3\"},\"line\":{\"color\":\"white\"}},\"type\":\"table\"}],\"barpolar\":[{\"marker\":{\"line\":{\"color\":\"#E5ECF6\",\"width\":0.5},\"pattern\":{\"fillmode\":\"overlay\",\"size\":10,\"solidity\":0.2}},\"type\":\"barpolar\"}],\"pie\":[{\"automargin\":true,\"type\":\"pie\"}]},\"layout\":{\"autotypenumbers\":\"strict\",\"colorway\":[\"#636efa\",\"#EF553B\",\"#00cc96\",\"#ab63fa\",\"#FFA15A\",\"#19d3f3\",\"#FF6692\",\"#B6E880\",\"#FF97FF\",\"#FECB52\"],\"font\":{\"color\":\"#2a3f5f\"},\"hovermode\":\"closest\",\"hoverlabel\":{\"align\":\"left\"},\"paper_bgcolor\":\"white\",\"plot_bgcolor\":\"#E5ECF6\",\"polar\":{\"bgcolor\":\"#E5ECF6\",\"angularaxis\":{\"gridcolor\":\"white\",\"linecolor\":\"white\",\"ticks\":\"\"},\"radialaxis\":{\"gridcolor\":\"white\",\"linecolor\":\"white\",\"ticks\":\"\"}},\"ternary\":{\"bgcolor\":\"#E5ECF6\",\"aaxis\":{\"gridcolor\":\"white\",\"linecolor\":\"white\",\"ticks\":\"\"},\"baxis\":{\"gridcolor\":\"white\",\"linecolor\":\"white\",\"ticks\":\"\"},\"caxis\":{\"gridcolor\":\"white\",\"linecolor\":\"white\",\"ticks\":\"\"}},\"coloraxis\":{\"colorbar\":{\"outlinewidth\":0,\"ticks\":\"\"}},\"colorscale\":{\"sequential\":[[0.0,\"#0d0887\"],[0.1111111111111111,\"#46039f\"],[0.2222222222222222,\"#7201a8\"],[0.3333333333333333,\"#9c179e\"],[0.4444444444444444,\"#bd3786\"],[0.5555555555555556,\"#d8576b\"],[0.6666666666666666,\"#ed7953\"],[0.7777777777777778,\"#fb9f3a\"],[0.8888888888888888,\"#fdca26\"],[1.0,\"#f0f921\"]],\"sequentialminus\":[[0.0,\"#0d0887\"],[0.1111111111111111,\"#46039f\"],[0.2222222222222222,\"#7201a8\"],[0.3333333333333333,\"#9c179e\"],[0.4444444444444444,\"#bd3786\"],[0.5555555555555556,\"#d8576b\"],[0.6666666666666666,\"#ed7953\"],[0.7777777777777778,\"#fb9f3a\"],[0.8888888888888888,\"#fdca26\"],[1.0,\"#f0f921\"]],\"diverging\":[[0,\"#8e0152\"],[0.1,\"#c51b7d\"],[0.2,\"#de77ae\"],[0.3,\"#f1b6da\"],[0.4,\"#fde0ef\"],[0.5,\"#f7f7f7\"],[0.6,\"#e6f5d0\"],[0.7,\"#b8e186\"],[0.8,\"#7fbc41\"],[0.9,\"#4d9221\"],[1,\"#276419\"]]},\"xaxis\":{\"gridcolor\":\"white\",\"linecolor\":\"white\",\"ticks\":\"\",\"title\":{\"standoff\":15},\"zerolinecolor\":\"white\",\"automargin\":true,\"zerolinewidth\":2},\"yaxis\":{\"gridcolor\":\"white\",\"linecolor\":\"white\",\"ticks\":\"\",\"title\":{\"standoff\":15},\"zerolinecolor\":\"white\",\"automargin\":true,\"zerolinewidth\":2},\"scene\":{\"xaxis\":{\"backgroundcolor\":\"#E5ECF6\",\"gridcolor\":\"white\",\"linecolor\":\"white\",\"showbackground\":true,\"ticks\":\"\",\"zerolinecolor\":\"white\",\"gridwidth\":2},\"yaxis\":{\"backgroundcolor\":\"#E5ECF6\",\"gridcolor\":\"white\",\"linecolor\":\"white\",\"showbackground\":true,\"ticks\":\"\",\"zerolinecolor\":\"white\",\"gridwidth\":2},\"zaxis\":{\"backgroundcolor\":\"#E5ECF6\",\"gridcolor\":\"white\",\"linecolor\":\"white\",\"showbackground\":true,\"ticks\":\"\",\"zerolinecolor\":\"white\",\"gridwidth\":2}},\"shapedefaults\":{\"line\":{\"color\":\"#2a3f5f\"}},\"annotationdefaults\":{\"arrowcolor\":\"#2a3f5f\",\"arrowhead\":0,\"arrowwidth\":1},\"geo\":{\"bgcolor\":\"white\",\"landcolor\":\"#E5ECF6\",\"subunitcolor\":\"white\",\"showland\":true,\"showlakes\":true,\"lakecolor\":\"white\"},\"title\":{\"x\":0.05},\"mapbox\":{\"style\":\"light\"}}},\"coloraxis\":{\"colorbar\":{\"title\":{\"text\":\"count\"}},\"colorscale\":[[0.0,\"rgb(247,251,255)\"],[0.125,\"rgb(222,235,247)\"],[0.25,\"rgb(198,219,239)\"],[0.375,\"rgb(158,202,225)\"],[0.5,\"rgb(107,174,214)\"],[0.625,\"rgb(66,146,198)\"],[0.75,\"rgb(33,113,181)\"],[0.875,\"rgb(8,81,156)\"],[1.0,\"rgb(8,48,107)\"]]},\"legend\":{\"tracegroupgap\":0},\"margin\":{\"t\":60},\"height\":600,\"width\":800},                        {\"responsive\": true}                    ).then(function(){\n",
       "                            \n",
       "var gd = document.getElementById('9c0e3b51-827f-4ee4-b251-9e8458f3cba5');\n",
       "var x = new MutationObserver(function (mutations, observer) {{\n",
       "        var display = window.getComputedStyle(gd).display;\n",
       "        if (!display || display === 'none') {{\n",
       "            console.log([gd, 'removed!']);\n",
       "            Plotly.purge(gd);\n",
       "            observer.disconnect();\n",
       "        }}\n",
       "}});\n",
       "\n",
       "// Listen for the removal of the full notebook cells\n",
       "var notebookContainer = gd.closest('#notebook-container');\n",
       "if (notebookContainer) {{\n",
       "    x.observe(notebookContainer, {childList: true});\n",
       "}}\n",
       "\n",
       "// Listen for the clearing of the current output cell\n",
       "var outputEl = gd.closest('.output');\n",
       "if (outputEl) {{\n",
       "    x.observe(outputEl, {childList: true});\n",
       "}}\n",
       "\n",
       "                        })                };                });            </script>        </div>"
      ]
     },
     "metadata": {},
     "output_type": "display_data"
    }
   ],
   "source": [
    "# Create a DataFrame of rating counts\n",
    "rating_counts = netflixdf['rating'].value_counts().reset_index()\n",
    "rating_counts.columns = ['rating', 'count']\n",
    "\n",
    "# Create a treemap\n",
    "fig = px.treemap(rating_counts, path=['rating'], values='count',\n",
    "                 color='count', hover_data=['rating', 'count'],\n",
    "                 color_continuous_scale='Blues', width=800, height=500)\n",
    "\n",
    "# Add borders to the rectangles\n",
    "fig.data[0].marker.line = dict(width=1, color='yellow')\n",
    "\n",
    "# Show the treemap\n",
    "fig.show()"
   ]
  },
  {
   "cell_type": "code",
   "execution_count": 95,
   "id": "e0787778",
   "metadata": {},
   "outputs": [
    {
     "data": {
      "image/png": "[encoded data removed]",
      "text/plain": [
       "<Figure size 640x480 with 1 Axes>"
      ]
     },
     "metadata": {},
     "output_type": "display_data"
    }
   ],
   "source": [
    "# Extract the genre column\n",
    "genres = netflixdf['genre']\n",
    "\n",
    "# Count the number of occurrences of each genre\n",
    "genre_counts = genres.value_counts()\n",
    "# create pie chart with exploding segments\n",
    "explode = (0.1,0.1,0,0,0,0) # set which segments to explode\n",
    "# Plot the genre pie chart\n",
    "genre_counts.plot.pie(explode=explode,autopct='%1.1f%%')\n",
    "plt.title('Netflix Genres')\n",
    "plt.axis('equal')\n",
    "\n",
    "# Show the genre pie chart\n",
    "plt.show()"
   ]
  },
  {
   "cell_type": "code",
   "execution_count": 97,
   "id": "3ca27378",
   "metadata": {},
   "outputs": [
    {
     "data": {
      "image/png": "[encoded data removed]",
      "text/plain": [
       "<Figure size 800x600 with 1 Axes>"
      ]
     },
     "metadata": {},
     "output_type": "display_data"
    },
    {
     "data": {
      "text/plain": [
       "Text(0.5, 1.0, 'Distribution of Netflix Titles by Duration in Seasons')"
      ]
     },
     "execution_count": 97,
     "metadata": {},
     "output_type": "execute_result"
    },
    {
     "data": {
      "image/png": "[encoded data removed]",
      "text/plain": [
       "<Figure size 800x600 with 1 Axes>"
      ]
     },
     "metadata": {},
     "output_type": "display_data"
    }
   ],
   "source": [
    "# Extract the duration in minutes and seasons\n",
    "duration = netflixdf['duration'].str.extract('(\\d+).*?(\\w+)', expand=False)\n",
    "duration.columns = ['count', 'unit']\n",
    "duration['count'] = duration['count'].astype(int)\n",
    "duration['count'] = duration.apply(lambda row: row['count'] * 60 if row['unit'] == 'h' else row['count'], axis=1)\n",
    "duration['unit'] = duration.apply(lambda row: 'minutes' if row['unit'] == 'min' else 'seasons', axis=1)\n",
    "\n",
    "# Create a histogram of the duration in minutes\n",
    "minutes = duration[duration['unit'] == 'minutes']\n",
    "fig, ax = plt.subplots(figsize=(8, 6))\n",
    "ax.hist(minutes['count'], bins=30)\n",
    "\n",
    "# Add labels and title\n",
    "ax.set_xlabel('Duration (minutes)')\n",
    "ax.set_ylabel('Count')\n",
    "ax.set_title('Distribution of Netflix Titles by Duration in Minutes')\n",
    "\n",
    "# Show the plot\n",
    "plt.show()\n",
    "\n",
    "# Create a histogram of the duration in seasons\n",
    "seasons = duration[duration['unit'] == 'seasons']\n",
    "fig, ax = plt.subplots(figsize=(8, 6))\n",
    "ax.hist(seasons['count'], bins=30)\n",
    "\n",
    "# Add labels and title\n",
    "ax.set_xlabel('Duration (seasons)')\n",
    "ax.set_ylabel('Count')\n",
    "ax.set_title('Distribution of Netflix Titles by Duration in Seasons')"
   ]
  },
  {
   "cell_type": "code",
   "execution_count": 98,
   "id": "4a6260d4",
   "metadata": {},
   "outputs": [
    {
     "data": {
      "image/png": "[encoded data removed]",
      "text/plain": [
       "<Figure size 640x480 with 1 Axes>"
      ]
     },
     "metadata": {},
     "output_type": "display_data"
    }
   ],
   "source": [
    "# Filter for movies\n",
    "moviesdf = netflixdf[netflixdf['type'] == 'Movie']\n",
    "\n",
    "# Concatenate all the descriptions into a single string\n",
    "movie_desc = ' '.join(moviesdf['description'])\n",
    "\n",
    "# Create a butterfly-shaped mask using PIL\n",
    "mask = np.array(Image.open('butterfly.png'))\n",
    "\n",
    "# Create a WordCloud object and generate the wordcloud\n",
    "wc = WordCloud(background_color='white', mask=mask, contour_width=3, contour_color='black')\n",
    "wc.generate(movie_desc)\n",
    "\n",
    "# Display the wordcloud\n",
    "import matplotlib.pyplot as plt\n",
    "plt.imshow(wc, interpolation='bilinear')\n",
    "plt.axis('off')\n",
    "plt.show()"
   ]
  },
  {
   "cell_type": "code",
   "execution_count": 100,
   "id": "27ac023b",
   "metadata": {},
   "outputs": [
    {
     "name": "stdout",
     "output_type": "stream",
     "text": [
      "country\n",
      "United States     2055\n",
      "India              893\n",
      "no_Country         439\n",
      "United Kingdom     206\n",
      "Canada             122\n",
      "Spain               97\n",
      "Egypt               92\n",
      "Nigeria             86\n",
      "Indonesia           77\n",
      "Turkey              76\n",
      "Name: show_id, dtype: int64\n"
     ]
    }
   ],
   "source": [
    "tv_shows = netflixdf[netflixdf['type'] == 'Movie']\n",
    "\n",
    "# group the data by country and count the number of TV shows in each country\n",
    "tv_shows_by_country = tv_shows.groupby('country')['show_id'].count()\n",
    "\n",
    "# sort the counts in descending order and get the top 10 countries\n",
    "top_10_countries = tv_shows_by_country.sort_values(ascending=False).head(10)\n",
    "\n",
    "# display the top 10 countries\n",
    "print(top_10_countries) "
   ]
  },
  {
   "cell_type": "code",
   "execution_count": 107,
   "id": "31229e56",
   "metadata": {},
   "outputs": [
    {
     "data": {
      "image/png": "[encoded data removed]",
      "text/plain": [
       "<Figure size 640x480 with 1 Axes>"
      ]
     },
     "metadata": {},
     "output_type": "display_data"
    }
   ],
   "source": [
    "# plot a bar graph of the top 10 countries\n",
    "top_10_countries.plot(x='Number of Movies',kind='bar',width=0.75,color='red',alpha=0.2)\n",
    "for i, v in enumerate(top_10_countries.values):\n",
    "    plt.text(i, v, str(v), ha='center', va='bottom')\n",
    "\n",
    "# set the title and axis labels\n",
    "plt.title(\"Top 10 Countries with the Most TV Shows on Netflix\")\n",
    "\n",
    "# display the plot\n",
    "plt.show()"
   ]
  },
  {
   "cell_type": "code",
   "execution_count": 108,
   "id": "7458886a",
   "metadata": {},
   "outputs": [
    {
     "name": "stdout",
     "output_type": "stream",
     "text": [
      "Total Indian TV shows: 79\n"
     ]
    }
   ],
   "source": [
    "indian_tv_shows = netflixdf[(netflixdf['type'] == 'TV Show') & (netflixdf['country'] == 'India')]\n",
    "total_indian_tv_shows = indian_tv_shows.shape[0]\n",
    "print(\"Total Indian TV shows:\", total_indian_tv_shows)"
   ]
  },
  {
   "cell_type": "code",
   "execution_count": 109,
   "id": "881e48cf",
   "metadata": {},
   "outputs": [],
   "source": [
    "tv_14_movies_USA = netflixdf[(netflixdf['type'] == 'Movie') & \n",
    "                              (netflixdf['rating'] == 'TV-14') & (netflixdf['country'] == 'United States')]\n",
    "tv_14_movies_USA.to_csv('USA_Tv14',index=False)\n"
   ]
  },
  {
   "cell_type": "code",
   "execution_count": 123,
   "id": "41007a92",
   "metadata": {},
   "outputs": [
    {
     "data": {
      "text/plain": [
       "(213, 13)"
      ]
     },
     "execution_count": 123,
     "metadata": {},
     "output_type": "execute_result"
    }
   ],
   "source": [
    "USAdf= pd.read_csv('USA_Tv14')\n",
    "USAdf.shape"
   ]
  },
  {
   "cell_type": "code",
   "execution_count": 125,
   "id": "dfbedd89",
   "metadata": {},
   "outputs": [
    {
     "data": {
      "image/png": "[encoded data removed]",
      "text/plain": [
       "<Figure size 640x480 with 1 Axes>"
      ]
     },
     "metadata": {},
     "output_type": "display_data"
    }
   ],
   "source": [
    "# Count the number of occurrences of each actor\n",
    "actor_counts = netflixdf['cast'].str.split(', ').explode().value_counts()\n",
    "\n",
    "# Select the top 5 actors\n",
    "top_actors = actor_counts.head(5)\n",
    "\n",
    "# Create a horizontal bar chart\n",
    "fig, ax = plt.subplots()\n",
    "ax.barh(top_actors.index, top_actors.values)\n",
    "\n",
    "# Add labels and title\n",
    "ax.set_title('Top 5 Actors on Netflix')\n",
    "\n",
    "# Show the plot\n",
    "plt.show()"
   ]
  }
 ],
 "metadata": {
  "kernelspec": {
   "display_name": "Python 3 (ipykernel)",
   "language": "python",
   "name": "python3"
  },
  "language_info": {
   "codemirror_mode": {
    "name": "ipython",
    "version": 3
   },
   "file_extension": ".py",
   "mimetype": "text/x-python",
   "name": "python",
   "nbconvert_exporter": "python",
   "pygments_lexer": "ipython3",
   "version": "3.9.13"
  }
 },
 "nbformat": 4,
 "nbformat_minor": 5
}
